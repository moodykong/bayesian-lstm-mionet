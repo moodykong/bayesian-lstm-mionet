{
 "cells": [
  {
   "cell_type": "code",
   "execution_count": 1,
   "id": "d8aaed14",
   "metadata": {
    "execution": {
     "iopub.execute_input": "2022-03-29T19:56:52.761044Z",
     "iopub.status.busy": "2022-03-29T19:56:52.759855Z",
     "iopub.status.idle": "2022-03-29T19:56:56.221062Z",
     "shell.execute_reply": "2022-03-29T19:56:56.220365Z",
     "shell.execute_reply.started": "2022-03-29T19:55:15.341687Z"
    },
    "papermill": {
     "duration": 3.49387,
     "end_time": "2022-03-29T19:56:56.221242",
     "exception": false,
     "start_time": "2022-03-29T19:56:52.727372",
     "status": "completed"
    },
    "tags": []
   },
   "outputs": [],
   "source": [
    "import itertools\n",
    "import jax.numpy as np\n",
    "import matplotlib.pyplot as plt\n",
    "\n",
    "from functools import partial\n",
    "from jax import grad, jit, random, vmap\n",
    "from jax.example_libraries import optimizers\n",
    "from jax.flatten_util import ravel_pytree\n",
    "from jax.nn import relu\n",
    "from torch.utils import data\n",
    "from tqdm import trange"
   ]
  },
  {
   "attachments": {},
   "cell_type": "markdown",
   "id": "83a935aa",
   "metadata": {
    "papermill": {
     "duration": 0.025524,
     "end_time": "2022-03-29T19:56:56.274037",
     "exception": false,
     "start_time": "2022-03-29T19:56:56.248513",
     "status": "completed"
    },
    "tags": []
   },
   "source": [
    "## Utils"
   ]
  },
  {
   "cell_type": "code",
   "execution_count": 2,
   "id": "5c25a1f7",
   "metadata": {
    "execution": {
     "iopub.execute_input": "2022-03-29T19:56:56.328190Z",
     "iopub.status.busy": "2022-03-29T19:56:56.327475Z",
     "iopub.status.idle": "2022-03-29T19:57:48.234162Z",
     "shell.execute_reply": "2022-03-29T19:57:48.233453Z",
     "shell.execute_reply.started": "2022-03-29T19:55:18.477113Z"
    },
    "papermill": {
     "duration": 51.934684,
     "end_time": "2022-03-29T19:57:48.234342",
     "exception": false,
     "start_time": "2022-03-29T19:56:56.299658",
     "status": "completed"
    },
    "tags": []
   },
   "outputs": [
    {
     "name": "stdout",
     "output_type": "stream",
     "text": [
      "\r\n",
      "\r\n",
      "\r\n",
      "texlive-fonts-recommended is already the newest version (2019.20200218-1).\r\n",
      "texlive-fonts-recommended set to manually installed.\r\n",
      "The following additional packages will be installed:\r\n",
      "  cm-super-minimal fonts-droid-fallback fonts-lato fonts-noto-mono\r\n",
      "  fonts-urw-base35 ghostscript javascript-common libapache-pom-java\r\n",
      "  libcommons-logging-java libcommons-parent-java libfontbox-java libgs9\r\n",
      "  libgs9-common libidn11 libijs-0.35 libjbig2dec0 libjs-jquery libpdfbox-java\r\n",
      "  libruby2.7 libxtst6 libxxf86dga1 pfb2t1c2pfb poppler-data\r\n",
      "  preview-latex-style rake ruby ruby-minitest ruby-net-telnet\r\n",
      "  ruby-power-assert ruby-test-unit ruby-xmlrpc ruby2.7 rubygems-integration\r\n",
      "  tcl tcl8.6 texlive-pictures texlive-plain-generic tk tk8.6 x11-utils\r\n",
      "  xbitmaps xterm\r\n",
      "Suggested packages:\r\n",
      "  fonts-noto fonts-freefont-otf | fonts-freefont-ttf fonts-texgyre\r\n",
      "  ghostscript-x apache2 | lighttpd | httpd libavalon-framework-java\r\n",
      "  libcommons-logging-java-doc libexcalibur-logkit-java liblog4j1.2-java\r\n",
      "  poppler-utils fonts-japanese-mincho | fonts-ipafont-mincho\r\n",
      "  fonts-japanese-gothic | fonts-ipafont-gothic fonts-arphic-ukai\r\n",
      "  fonts-arphic-uming fonts-nanum ri ruby-dev bundler tcl-tclreadline\r\n",
      "  python3-pygments icc-profiles libfile-which-perl\r\n",
      "  libspreadsheet-parseexcel-perl texlive-latex-extra-doc dot2tex prerex\r\n",
      "  ruby-tcltk | libtcltk-ruby texlive-pictures-doc vprerex mesa-utils\r\n",
      "  xfonts-cyrillic\r\n",
      "The following NEW packages will be installed:\r\n",
      "  cm-super cm-super-minimal dvipng fonts-droid-fallback fonts-lato\r\n",
      "  fonts-noto-mono fonts-urw-base35 ghostscript javascript-common\r\n",
      "  libapache-pom-java libcommons-logging-java libcommons-parent-java\r\n",
      "  libfontbox-java libgs9 libgs9-common libidn11 libijs-0.35 libjbig2dec0\r\n",
      "  libjs-jquery libpdfbox-java libruby2.7 libxtst6 libxxf86dga1 pfb2t1c2pfb\r\n",
      "  poppler-data preview-latex-style rake ruby ruby-minitest ruby-net-telnet\r\n",
      "  ruby-power-assert ruby-test-unit ruby-xmlrpc ruby2.7 rubygems-integration\r\n",
      "  tcl tcl8.6 texlive-latex-extra texlive-pictures texlive-plain-generic tk\r\n",
      "  tk8.6 x11-utils xbitmaps xterm\r\n",
      "0 upgraded, 45 newly installed, 0 to remove and 52 not upgraded.\r\n",
      "Need to get 92.5 MB of archives.\r\n",
      "After this operation, 298 MB of additional disk space will be used.\r\n",
      "Get:1 http://archive.ubuntu.com/ubuntu focal/main amd64 fonts-droid-fallback all 1:6.0.1r16-1.1 [1805 kB]\r\n",
      "Get:2 http://archive.ubuntu.com/ubuntu focal/main amd64 fonts-lato all 2.0-2 [2698 kB]\r\n",
      "Get:3 http://archive.ubuntu.com/ubuntu focal/main amd64 poppler-data all 0.4.9-2 [1475 kB]\r\n",
      "Get:4 http://archive.ubuntu.com/ubuntu focal/universe amd64 cm-super-minimal all 0.3.4-15 [5811 kB]\r\n",
      "Get:5 http://archive.ubuntu.com/ubuntu focal/universe amd64 pfb2t1c2pfb amd64 0.3-11 [9342 B]\r\n",
      "Get:6 http://archive.ubuntu.com/ubuntu focal/universe amd64 cm-super all 0.3.4-15 [18.7 MB]\r\n",
      "Get:7 http://archive.ubuntu.com/ubuntu focal/main amd64 fonts-urw-base35 all 20170801.1-3 [6333 kB]\r\n",
      "Get:8 http://archive.ubuntu.com/ubuntu focal-updates/main amd64 libgs9-common all 9.50~dfsg-5ubuntu4.5 [681 kB]\r\n",
      "Get:9 http://archive.ubuntu.com/ubuntu focal/main amd64 libidn11 amd64 1.33-2.2ubuntu2 [46.2 kB]\r\n",
      "Get:10 http://archive.ubuntu.com/ubuntu focal/main amd64 libijs-0.35 amd64 0.35-15 [15.7 kB]\r\n",
      "Get:11 http://archive.ubuntu.com/ubuntu focal/main amd64 libjbig2dec0 amd64 0.18-1ubuntu1 [60.0 kB]\r\n",
      "Get:12 http://archive.ubuntu.com/ubuntu focal-updates/main amd64 libgs9 amd64 9.50~dfsg-5ubuntu4.5 [2172 kB]\r\n",
      "Get:13 http://archive.ubuntu.com/ubuntu focal-updates/main amd64 ghostscript amd64 9.50~dfsg-5ubuntu4.5 [51.8 kB]\r\n",
      "Get:14 http://archive.ubuntu.com/ubuntu focal/universe amd64 dvipng amd64 1.15-1.1 [78.9 kB]\r\n",
      "Get:15 http://archive.ubuntu.com/ubuntu focal-updates/main amd64 fonts-noto-mono all 20200323-1build1~ubuntu20.04.1 [80.6 kB]\r\n",
      "Get:16 http://archive.ubuntu.com/ubuntu focal/main amd64 javascript-common all 11 [6066 B]\r\n",
      "Get:17 http://archive.ubuntu.com/ubuntu focal/universe amd64 libapache-pom-java all 18-1 [4720 B]\r\n",
      "Get:18 http://archive.ubuntu.com/ubuntu focal/universe amd64 libcommons-parent-java all 43-1 [10.8 kB]\r\n",
      "Get:19 http://archive.ubuntu.com/ubuntu focal/universe amd64 libcommons-logging-java all 1.2-2 [60.3 kB]\r\n",
      "Get:20 http://archive.ubuntu.com/ubuntu focal/main amd64 libjs-jquery all 3.3.1~dfsg-3 [329 kB]\r\n",
      "Get:21 http://archive.ubuntu.com/ubuntu focal/main amd64 rubygems-integration all 1.16 [5092 B]\r\n",
      "Get:22 http://archive.ubuntu.com/ubuntu focal-updates/main amd64 ruby2.7 amd64 2.7.0-5ubuntu1.6 [95.6 kB]\r\n",
      "Get:23 http://archive.ubuntu.com/ubuntu focal/main amd64 ruby amd64 1:2.7+1 [5412 B]\r\n",
      "Get:24 http://archive.ubuntu.com/ubuntu focal/main amd64 rake all 13.0.1-4 [61.6 kB]\r\n",
      "Get:25 http://archive.ubuntu.com/ubuntu focal/main amd64 ruby-minitest all 5.13.0-1 [40.9 kB]\r\n",
      "Get:26 http://archive.ubuntu.com/ubuntu focal/main amd64 ruby-net-telnet all 0.1.1-2 [12.6 kB]\r\n",
      "Get:27 http://archive.ubuntu.com/ubuntu focal/main amd64 ruby-power-assert all 1.1.7-1 [11.4 kB]\r\n",
      "Get:28 http://archive.ubuntu.com/ubuntu focal/main amd64 ruby-test-unit all 3.3.5-1 [73.2 kB]\r\n",
      "Get:29 http://archive.ubuntu.com/ubuntu focal/main amd64 ruby-xmlrpc all 0.3.0-2 [23.8 kB]\r\n",
      "Get:30 http://archive.ubuntu.com/ubuntu focal-updates/main amd64 libruby2.7 amd64 2.7.0-5ubuntu1.6 [3534 kB]\r\n",
      "Get:31 http://archive.ubuntu.com/ubuntu focal/main amd64 libxtst6 amd64 2:1.2.3-1 [12.8 kB]\r\n",
      "Get:32 http://archive.ubuntu.com/ubuntu focal/main amd64 libxxf86dga1 amd64 2:1.1.5-0ubuntu1 [12.0 kB]\r\n",
      "Get:33 http://archive.ubuntu.com/ubuntu focal/universe amd64 preview-latex-style all 11.91-2ubuntu2 [184 kB]\r\n",
      "Get:34 http://archive.ubuntu.com/ubuntu focal/main amd64 tcl8.6 amd64 8.6.10+dfsg-1 [14.8 kB]\r\n",
      "Get:35 http://archive.ubuntu.com/ubuntu focal/universe amd64 tcl amd64 8.6.9+1 [5112 B]\r\n",
      "Get:36 http://archive.ubuntu.com/ubuntu focal/universe amd64 libfontbox-java all 1:1.8.16-2 [207 kB]\r\n",
      "Get:37 http://archive.ubuntu.com/ubuntu focal/universe amd64 libpdfbox-java all 1:1.8.16-2 [5199 kB]\r\n",
      "Get:38 http://archive.ubuntu.com/ubuntu focal/universe amd64 texlive-pictures all 2019.20200218-1 [4492 kB]\r\n",
      "Get:39 http://archive.ubuntu.com/ubuntu focal/universe amd64 texlive-latex-extra all 2019.202000218-1 [12.5 MB]\r\n",
      "Get:40 http://archive.ubuntu.com/ubuntu focal/universe amd64 texlive-plain-generic all 2019.202000218-1 [24.6 MB]\r\n",
      "Get:41 http://archive.ubuntu.com/ubuntu focal/main amd64 tk8.6 amd64 8.6.10-1 [12.5 kB]\r\n",
      "Get:42 http://archive.ubuntu.com/ubuntu focal/universe amd64 tk amd64 8.6.9+1 [3240 B]\r\n",
      "Get:43 http://archive.ubuntu.com/ubuntu focal/main amd64 x11-utils amd64 7.7+5 [199 kB]\r\n",
      "Get:44 http://archive.ubuntu.com/ubuntu focal/main amd64 xbitmaps all 1.1.1-2 [28.1 kB]\r\n",
      "Get:45 http://archive.ubuntu.com/ubuntu focal-updates/universe amd64 xterm amd64 353-1ubuntu1.20.04.2 [765 kB]\r\n",
      "Fetched 92.5 MB in 10s (8871 kB/s)\r\n",
      "Extracting templates from packages: 100%\r\n",
      "Selecting previously unselected package fonts-droid-fallback.\r\n",
      "(Reading database ... 100799 files and directories currently installed.)\r\n",
      "Preparing to unpack .../00-fonts-droid-fallback_1%3a6.0.1r16-1.1_all.deb ...\r\n",
      "Unpacking fonts-droid-fallback (1:6.0.1r16-1.1) ...\r\n",
      "Selecting previously unselected package fonts-lato.\r\n",
      "Preparing to unpack .../01-fonts-lato_2.0-2_all.deb ...\r\n",
      "Unpacking fonts-lato (2.0-2) ...\r\n",
      "Selecting previously unselected package poppler-data.\r\n",
      "Preparing to unpack .../02-poppler-data_0.4.9-2_all.deb ...\r\n",
      "Unpacking poppler-data (0.4.9-2) ...\r\n",
      "Selecting previously unselected package cm-super-minimal.\r\n",
      "Preparing to unpack .../03-cm-super-minimal_0.3.4-15_all.deb ...\r\n",
      "Unpacking cm-super-minimal (0.3.4-15) ...\r\n",
      "Selecting previously unselected package pfb2t1c2pfb.\r\n",
      "Preparing to unpack .../04-pfb2t1c2pfb_0.3-11_amd64.deb ...\r\n",
      "Unpacking pfb2t1c2pfb (0.3-11) ...\r\n",
      "Selecting previously unselected package cm-super.\r\n",
      "Preparing to unpack .../05-cm-super_0.3.4-15_all.deb ...\r\n",
      "Unpacking cm-super (0.3.4-15) ...\r\n",
      "Selecting previously unselected package fonts-urw-base35.\r\n",
      "Preparing to unpack .../06-fonts-urw-base35_20170801.1-3_all.deb ...\r\n",
      "Unpacking fonts-urw-base35 (20170801.1-3) ...\r\n",
      "Selecting previously unselected package libgs9-common.\r\n",
      "Preparing to unpack .../07-libgs9-common_9.50~dfsg-5ubuntu4.5_all.deb ...\r\n",
      "Unpacking libgs9-common (9.50~dfsg-5ubuntu4.5) ...\r\n",
      "Selecting previously unselected package libidn11:amd64.\r\n",
      "Preparing to unpack .../08-libidn11_1.33-2.2ubuntu2_amd64.deb ...\r\n",
      "Unpacking libidn11:amd64 (1.33-2.2ubuntu2) ...\r\n",
      "Selecting previously unselected package libijs-0.35:amd64.\r\n",
      "Preparing to unpack .../09-libijs-0.35_0.35-15_amd64.deb ...\r\n",
      "Unpacking libijs-0.35:amd64 (0.35-15) ...\r\n",
      "Selecting previously unselected package libjbig2dec0:amd64.\r\n",
      "Preparing to unpack .../10-libjbig2dec0_0.18-1ubuntu1_amd64.deb ...\r\n",
      "Unpacking libjbig2dec0:amd64 (0.18-1ubuntu1) ...\r\n",
      "Selecting previously unselected package libgs9:amd64.\r\n",
      "Preparing to unpack .../11-libgs9_9.50~dfsg-5ubuntu4.5_amd64.deb ...\r\n",
      "Unpacking libgs9:amd64 (9.50~dfsg-5ubuntu4.5) ...\r\n",
      "Selecting previously unselected package ghostscript.\r\n",
      "Preparing to unpack .../12-ghostscript_9.50~dfsg-5ubuntu4.5_amd64.deb ...\r\n",
      "Unpacking ghostscript (9.50~dfsg-5ubuntu4.5) ...\r\n",
      "Selecting previously unselected package dvipng.\r\n",
      "Preparing to unpack .../13-dvipng_1.15-1.1_amd64.deb ...\r\n",
      "Unpacking dvipng (1.15-1.1) ...\r\n",
      "Selecting previously unselected package fonts-noto-mono.\r\n",
      "Preparing to unpack .../14-fonts-noto-mono_20200323-1build1~ubuntu20.04.1_all.deb ...\r\n",
      "Unpacking fonts-noto-mono (20200323-1build1~ubuntu20.04.1) ...\r\n",
      "Selecting previously unselected package javascript-common.\r\n",
      "Preparing to unpack .../15-javascript-common_11_all.deb ...\r\n",
      "Unpacking javascript-common (11) ...\r\n",
      "Selecting previously unselected package libapache-pom-java.\r\n",
      "Preparing to unpack .../16-libapache-pom-java_18-1_all.deb ...\r\n",
      "Unpacking libapache-pom-java (18-1) ...\r\n",
      "Selecting previously unselected package libcommons-parent-java.\r\n",
      "Preparing to unpack .../17-libcommons-parent-java_43-1_all.deb ...\r\n",
      "Unpacking libcommons-parent-java (43-1) ...\r\n",
      "Selecting previously unselected package libcommons-logging-java.\r\n",
      "Preparing to unpack .../18-libcommons-logging-java_1.2-2_all.deb ...\r\n",
      "Unpacking libcommons-logging-java (1.2-2) ...\r\n",
      "Selecting previously unselected package libjs-jquery.\r\n",
      "Preparing to unpack .../19-libjs-jquery_3.3.1~dfsg-3_all.deb ...\r\n",
      "Unpacking libjs-jquery (3.3.1~dfsg-3) ...\r\n",
      "Selecting previously unselected package rubygems-integration.\r\n",
      "Preparing to unpack .../20-rubygems-integration_1.16_all.deb ...\r\n",
      "Unpacking rubygems-integration (1.16) ...\r\n",
      "Selecting previously unselected package ruby2.7.\r\n",
      "Preparing to unpack .../21-ruby2.7_2.7.0-5ubuntu1.6_amd64.deb ...\r\n",
      "Unpacking ruby2.7 (2.7.0-5ubuntu1.6) ...\r\n",
      "Selecting previously unselected package ruby.\r\n",
      "Preparing to unpack .../22-ruby_1%3a2.7+1_amd64.deb ...\r\n",
      "Unpacking ruby (1:2.7+1) ...\r\n",
      "Selecting previously unselected package rake.\r\n",
      "Preparing to unpack .../23-rake_13.0.1-4_all.deb ...\r\n",
      "Unpacking rake (13.0.1-4) ...\r\n",
      "Selecting previously unselected package ruby-minitest.\r\n",
      "Preparing to unpack .../24-ruby-minitest_5.13.0-1_all.deb ...\r\n",
      "Unpacking ruby-minitest (5.13.0-1) ...\r\n",
      "Selecting previously unselected package ruby-net-telnet.\r\n",
      "Preparing to unpack .../25-ruby-net-telnet_0.1.1-2_all.deb ...\r\n",
      "Unpacking ruby-net-telnet (0.1.1-2) ...\r\n",
      "Selecting previously unselected package ruby-power-assert.\r\n",
      "Preparing to unpack .../26-ruby-power-assert_1.1.7-1_all.deb ...\r\n",
      "Unpacking ruby-power-assert (1.1.7-1) ...\r\n",
      "Selecting previously unselected package ruby-test-unit.\r\n",
      "Preparing to unpack .../27-ruby-test-unit_3.3.5-1_all.deb ...\r\n",
      "Unpacking ruby-test-unit (3.3.5-1) ...\r\n",
      "Selecting previously unselected package ruby-xmlrpc.\r\n",
      "Preparing to unpack .../28-ruby-xmlrpc_0.3.0-2_all.deb ...\r\n",
      "Unpacking ruby-xmlrpc (0.3.0-2) ...\r\n",
      "Selecting previously unselected package libruby2.7:amd64.\r\n",
      "Preparing to unpack .../29-libruby2.7_2.7.0-5ubuntu1.6_amd64.deb ...\r\n",
      "Unpacking libruby2.7:amd64 (2.7.0-5ubuntu1.6) ...\r\n",
      "Selecting previously unselected package libxtst6:amd64.\r\n",
      "Preparing to unpack .../30-libxtst6_2%3a1.2.3-1_amd64.deb ...\r\n",
      "Unpacking libxtst6:amd64 (2:1.2.3-1) ...\r\n",
      "Selecting previously unselected package libxxf86dga1:amd64.\r\n",
      "Preparing to unpack .../31-libxxf86dga1_2%3a1.1.5-0ubuntu1_amd64.deb ...\r\n",
      "Unpacking libxxf86dga1:amd64 (2:1.1.5-0ubuntu1) ...\r\n",
      "Selecting previously unselected package preview-latex-style.\r\n",
      "Preparing to unpack .../32-preview-latex-style_11.91-2ubuntu2_all.deb ...\r\n",
      "Unpacking preview-latex-style (11.91-2ubuntu2) ...\r\n",
      "Selecting previously unselected package tcl8.6.\r\n",
      "Preparing to unpack .../33-tcl8.6_8.6.10+dfsg-1_amd64.deb ...\r\n",
      "Unpacking tcl8.6 (8.6.10+dfsg-1) ...\r\n",
      "Selecting previously unselected package tcl.\r\n",
      "Preparing to unpack .../34-tcl_8.6.9+1_amd64.deb ...\r\n",
      "Unpacking tcl (8.6.9+1) ...\r\n",
      "Selecting previously unselected package libfontbox-java.\r\n",
      "Preparing to unpack .../35-libfontbox-java_1%3a1.8.16-2_all.deb ...\r\n",
      "Unpacking libfontbox-java (1:1.8.16-2) ...\r\n",
      "Selecting previously unselected package libpdfbox-java.\r\n",
      "Preparing to unpack .../36-libpdfbox-java_1%3a1.8.16-2_all.deb ...\r\n",
      "Unpacking libpdfbox-java (1:1.8.16-2) ...\r\n",
      "Selecting previously unselected package texlive-pictures.\r\n",
      "Preparing to unpack .../37-texlive-pictures_2019.20200218-1_all.deb ...\r\n",
      "Unpacking texlive-pictures (2019.20200218-1) ...\r\n",
      "Selecting previously unselected package texlive-latex-extra.\r\n",
      "Preparing to unpack .../38-texlive-latex-extra_2019.202000218-1_all.deb ...\r\n",
      "Unpacking texlive-latex-extra (2019.202000218-1) ...\r\n",
      "Selecting previously unselected package texlive-plain-generic.\r\n",
      "Preparing to unpack .../39-texlive-plain-generic_2019.202000218-1_all.deb ...\r\n",
      "Unpacking texlive-plain-generic (2019.202000218-1) ...\r\n",
      "Selecting previously unselected package tk8.6.\r\n",
      "Preparing to unpack .../40-tk8.6_8.6.10-1_amd64.deb ...\r\n",
      "Unpacking tk8.6 (8.6.10-1) ...\r\n",
      "Selecting previously unselected package tk.\r\n",
      "Preparing to unpack .../41-tk_8.6.9+1_amd64.deb ...\r\n",
      "Unpacking tk (8.6.9+1) ...\r\n",
      "Selecting previously unselected package x11-utils.\r\n",
      "Preparing to unpack .../42-x11-utils_7.7+5_amd64.deb ...\r\n",
      "Unpacking x11-utils (7.7+5) ...\r\n",
      "Selecting previously unselected package xbitmaps.\r\n",
      "Preparing to unpack .../43-xbitmaps_1.1.1-2_all.deb ...\r\n",
      "Unpacking xbitmaps (1.1.1-2) ...\r\n",
      "Selecting previously unselected package xterm.\r\n",
      "Preparing to unpack .../44-xterm_353-1ubuntu1.20.04.2_amd64.deb ...\r\n",
      "Unpacking xterm (353-1ubuntu1.20.04.2) ...\r\n",
      "Setting up pfb2t1c2pfb (0.3-11) ...\r\n",
      "Setting up javascript-common (11) ...\r\n",
      "Setting up tk8.6 (8.6.10-1) ...\r\n",
      "Setting up tcl8.6 (8.6.10+dfsg-1) ...\r\n",
      "Setting up fonts-lato (2.0-2) ...\r\n",
      "Setting up fonts-noto-mono (20200323-1build1~ubuntu20.04.1) ...\r\n",
      "Setting up ruby-power-assert (1.1.7-1) ...\r\n",
      "Setting up libxtst6:amd64 (2:1.2.3-1) ...\r\n",
      "Setting up libijs-0.35:amd64 (0.35-15) ...\r\n",
      "Setting up preview-latex-style (11.91-2ubuntu2) ...\r\n",
      "Setting up libfontbox-java (1:1.8.16-2) ...\r\n",
      "Setting up texlive-plain-generic (2019.202000218-1) ...\r\n",
      "Setting up libxxf86dga1:amd64 (2:1.1.5-0ubuntu1) ...\r\n",
      "Setting up rubygems-integration (1.16) ...\r\n",
      "Setting up fonts-urw-base35 (20170801.1-3) ...\r\n",
      "Setting up poppler-data (0.4.9-2) ...\r\n",
      "Setting up ruby-minitest (5.13.0-1) ...\r\n",
      "Setting up ruby-test-unit (3.3.5-1) ...\r\n",
      "Setting up libjbig2dec0:amd64 (0.18-1ubuntu1) ...\r\n",
      "Setting up libidn11:amd64 (1.33-2.2ubuntu2) ...\r\n",
      "Setting up libapache-pom-java (18-1) ...\r\n",
      "Setting up ruby-net-telnet (0.1.1-2) ...\r\n",
      "Setting up texlive-pictures (2019.20200218-1) ...\r\n",
      "Setting up tcl (8.6.9+1) ...\r\n",
      "Setting up x11-utils (7.7+5) ...\r\n",
      "Setting up fonts-droid-fallback (1:6.0.1r16-1.1) ...\r\n",
      "Setting up libjs-jquery (3.3.1~dfsg-3) ...\r\n",
      "Setting up tk (8.6.9+1) ...\r\n",
      "Setting up ruby-xmlrpc (0.3.0-2) ...\r\n",
      "Setting up xbitmaps (1.1.1-2) ...\r\n",
      "Setting up cm-super-minimal (0.3.4-15) ...\r\n",
      "Setting up libgs9-common (9.50~dfsg-5ubuntu4.5) ...\r\n",
      "Setting up libpdfbox-java (1:1.8.16-2) ...\r\n",
      "Setting up libgs9:amd64 (9.50~dfsg-5ubuntu4.5) ...\r\n",
      "Setting up libcommons-parent-java (43-1) ...\r\n",
      "Setting up libcommons-logging-java (1.2-2) ...\r\n",
      "Setting up texlive-latex-extra (2019.202000218-1) ...\r\n",
      "Setting up ghostscript (9.50~dfsg-5ubuntu4.5) ...\r\n",
      "Setting up cm-super (0.3.4-15) ...\r\n",
      "Creating fonts. This may take some time... done.\r\n",
      "Setting up xterm (353-1ubuntu1.20.04.2) ...\r\n",
      "update-alternatives: using /usr/bin/xterm to provide /usr/bin/x-terminal-emulator (x-terminal-emulator) in auto mode\r\n",
      "update-alternatives: warning: skip creation of /usr/share/man/man1/x-terminal-emulator.1.gz because associated file /usr/share/man/man1/xterm.1.gz (of link group x-terminal-emulator) doesn't exist\r\n",
      "update-alternatives: using /usr/bin/lxterm to provide /usr/bin/x-terminal-emulator (x-terminal-emulator) in auto mode\r\n",
      "update-alternatives: warning: skip creation of /usr/share/man/man1/x-terminal-emulator.1.gz because associated file /usr/share/man/man1/lxterm.1.gz (of link group x-terminal-emulator) doesn't exist\r\n",
      "Setting up dvipng (1.15-1.1) ...\r\n",
      "Setting up rake (13.0.1-4) ...\r\n",
      "Setting up libruby2.7:amd64 (2.7.0-5ubuntu1.6) ...\r\n",
      "Setting up ruby2.7 (2.7.0-5ubuntu1.6) ...\r\n",
      "Setting up ruby (1:2.7+1) ...\r\n",
      "Processing triggers for install-info (6.7.0.dfsg.2-5) ...\r\n",
      "Processing triggers for fontconfig (2.13.1-2ubuntu3) ...\r\n",
      "Processing triggers for mime-support (3.64ubuntu1) ...\r\n",
      "Processing triggers for hicolor-icon-theme (0.17-2) ...\r\n",
      "Processing triggers for libc-bin (2.31-0ubuntu9.2) ...\r\n",
      "Processing triggers for man-db (2.9.1-1) ...\r\n",
      "Processing triggers for tex-common (6.13) ...\r\n",
      "Running mktexlsr. This may take some time... done.\r\n",
      "Running updmap-sys. This may take some time... done.\r\n",
      "Running mktexlsr /var/lib/texmf ... done.\r\n",
      "Building format(s) --all.\r\n",
      "\tThis may take some time... done.\r\n"
     ]
    }
   ],
   "source": [
    "class dotdict(dict):\n",
    "    \"\"\"dot.notation access to dictionary attributes.\"\"\"\n",
    "    __getattr__ = dict.get\n",
    "    __setattr__ = dict.__setitem__\n",
    "    __delattr__ = dict.__delitem__\n",
    "\n",
    "\n",
    "@partial(jit, static_argnums=(0,))\n",
    "def runge_kutta(f, x, u, h):\n",
    "    \"\"\"f(x, u) -> next_x.\"\"\"\n",
    "    k1 = f(x, u)\n",
    "    k2 = f(x + 0.5 * h * k1, u)\n",
    "    k3 = f(x + 0.5 * h * k2, u)\n",
    "    k4 = f(x + h * k3, u)\n",
    "    next_x = x + (k1 + 2 * k2 + 2 * k3 + k4) * h / 6\n",
    "    return next_x\n",
    "\n",
    "def integrate(method, f, control, x0, h, N):\n",
    "    soln = dotdict()\n",
    "    soln.x = []\n",
    "    soln.t = []\n",
    "    soln.u = []\n",
    "\n",
    "    x = x0\n",
    "\n",
    "    t = 0 * h\n",
    "    u = control(t, x)\n",
    "    soln.x.append(x)\n",
    "\n",
    "\n",
    "    for n in range(1, N):\n",
    "        # log previous control\n",
    "        soln.t.append(t)\n",
    "        soln.u.append(u)\n",
    "        # compute next state\n",
    "        x_next = runge_kutta(f, x, u, h)\n",
    "        # log next state\n",
    "        soln.x.append(x_next)\n",
    "        x = x_next\n",
    "        t = n * h\n",
    "        u = control(t, x)\n",
    "\n",
    "    soln.x = np.vstack(soln.x)\n",
    "    soln.t = np.vstack(soln.t)\n",
    "    soln.u = np.vstack(soln.u)\n",
    "\n",
    "    return soln\n",
    "\n",
    "def integrate_deeponet(model, best_params, control, x0, h, N):\n",
    "    P_test = 2\n",
    "    y_star = np.linspace(0, h, P_test).reshape(-1, 1)\n",
    "    soln = dotdict()\n",
    "    soln.x = []\n",
    "    soln.t = []\n",
    "    soln.u = []\n",
    "\n",
    "    x = np.array(x0)\n",
    "    t = 0 * h\n",
    "    u = control(t, x)\n",
    "    soln.x.append(x)\n",
    "\n",
    "    for n in range(1, N):\n",
    "        # log previous control\n",
    "        soln.t.append(t)\n",
    "        soln.u.append(u)\n",
    "        u_test = np.hstack([x, u])\n",
    "        u_star = np.tile(u_test, (P_test, 1))\n",
    "        theta_predk, theta_dot_predk = model.predict(best_params, u_star, y_star)\n",
    "        # collect next state\n",
    "        x = np.hstack([theta_predk[-1], theta_dot_predk[-1]])\n",
    "        # log next state\n",
    "        soln.x.append(x)\n",
    "        t = n * h\n",
    "        u = control(t, x)\n",
    "\n",
    "    soln.x = np.vstack(soln.x)\n",
    "    soln.t = np.vstack(soln.t)\n",
    "    soln.u = np.vstack(soln.u)\n",
    "\n",
    "    return soln\n",
    "\n",
    "def L2_relative_error(y_true, y_pred):\n",
    "    return 100 * np.linalg.norm(y_true - y_pred) / np.linalg.norm(y_true)\n",
    "\n",
    "!sudo apt-get -y install dvipng texlive-latex-extra texlive-fonts-recommended cm-super\n",
    "\n",
    "def plot_comparison(x_list, y_list, legend_list, xlim=None, ylim=None, xlabel=\"time (s)\", ylabel=\"machine angle\", figsize=(12,8), color_list=None, linestyle_list=None, fig_path=None):\n",
    "    plt.rcParams['font.size'] = '30'\n",
    "    plt.rcParams['text.usetex'] = True\n",
    "    fig = plt.figure(figsize=figsize)\n",
    "    for x_i, y_i, legend_i, c_i, ls_i in zip(x_list, y_list, legend_list, color_list, linestyle_list):\n",
    "        plt.plot(x_i.reshape(-1,), y_i.reshape(-1,), lw=4.0, color=c_i, linestyle=ls_i, label=legend_i)\n",
    "    if xlim is not None:\n",
    "        plt.xlim(xlim)\n",
    "    if ylim is not None:\n",
    "        plt.ylim(ylim)\n",
    "    plt.xlabel(xlabel)\n",
    "    plt.ylabel(ylabel)\n",
    "    # plt.tight_layout()\n",
    "    plt.legend(loc=\"best\", fontsize=24)\n",
    "    if fig_path is not None:\n",
    "        plt.savefig(fig_path)\n",
    "    else:\n",
    "        plt.show()"
   ]
  },
  {
   "cell_type": "code",
   "execution_count": 3,
   "id": "6a0dd54c",
   "metadata": {
    "execution": {
     "iopub.execute_input": "2022-03-29T19:57:48.429542Z",
     "iopub.status.busy": "2022-03-29T19:57:48.428639Z",
     "iopub.status.idle": "2022-03-29T19:57:48.430549Z",
     "shell.execute_reply": "2022-03-29T19:57:48.431212Z",
     "shell.execute_reply.started": "2022-03-29T19:56:01.396341Z"
    },
    "papermill": {
     "duration": 0.103405,
     "end_time": "2022-03-29T19:57:48.431420",
     "exception": false,
     "start_time": "2022-03-29T19:57:48.328015",
     "status": "completed"
    },
    "tags": []
   },
   "outputs": [],
   "source": [
    "# define the pendulu's vector field\n",
    "m = 1\n",
    "l = 1\n",
    "I = (1 / 12) * m * (l ** 2)\n",
    "b = 0.01\n",
    "g = 9.81\n",
    "def pendulum(x, u):\n",
    "    theta, omega = x\n",
    "    f_theta = omega\n",
    "    f_omega = (1 / (0.25 * m * (l ** 2) + I)) * (u - b * omega - 0.5 * m * l * g * np.sin(theta))\n",
    "    return np.array([f_theta, f_omega])"
   ]
  },
  {
   "attachments": {},
   "cell_type": "markdown",
   "id": "ed9801ea",
   "metadata": {
    "papermill": {
     "duration": 0.092813,
     "end_time": "2022-03-29T19:57:48.615032",
     "exception": false,
     "start_time": "2022-03-29T19:57:48.522219",
     "status": "completed"
    },
    "tags": []
   },
   "source": [
    "## Data"
   ]
  },
  {
   "cell_type": "code",
   "execution_count": 4,
   "id": "c8250bf5",
   "metadata": {
    "execution": {
     "iopub.execute_input": "2022-03-29T19:57:48.798796Z",
     "iopub.status.busy": "2022-03-29T19:57:48.798073Z",
     "iopub.status.idle": "2022-03-29T19:57:49.304207Z",
     "shell.execute_reply": "2022-03-29T19:57:49.304797Z",
     "shell.execute_reply.started": "2022-03-29T19:56:01.405468Z"
    },
    "papermill": {
     "duration": 0.599971,
     "end_time": "2022-03-29T19:57:49.304981",
     "exception": false,
     "start_time": "2022-03-29T19:57:48.705010",
     "status": "completed"
    },
    "tags": []
   },
   "outputs": [],
   "source": [
    "class DataGenerator(data.Dataset):\n",
    "    def __init__(self, u, y, s, \n",
    "                 batch_size=64, rng_key=random.PRNGKey(1234)):\n",
    "        'Initialization'\n",
    "        self.u = u\n",
    "        self.y = y\n",
    "        self.s = s\n",
    "        \n",
    "        self.N = u.shape[0]\n",
    "        self.batch_size = batch_size\n",
    "        self.key = rng_key\n",
    "\n",
    "    def __getitem__(self, index):\n",
    "        'Generate one batch of data'\n",
    "        self.key, subkey = random.split(self.key)\n",
    "        inputs, outputs = self.__data_generation(subkey)\n",
    "        return inputs, outputs\n",
    "\n",
    "    @partial(jit, static_argnums=(0,))\n",
    "    def __data_generation(self, key):\n",
    "        'Generates data containing batch_size samples'\n",
    "        idx = random.choice(key, self.N, (self.batch_size,), replace=True)\n",
    "        s = self.s[idx,:]\n",
    "        y = self.y[idx,:]\n",
    "        u = self.u[idx,:]\n",
    "        # Construct batch\n",
    "        inputs = (u, y)\n",
    "        outputs = s\n",
    "        return inputs, outputs"
   ]
  },
  {
   "cell_type": "code",
   "execution_count": 5,
   "id": "e0a5d9b1",
   "metadata": {
    "execution": {
     "iopub.execute_input": "2022-03-29T19:57:49.488118Z",
     "iopub.status.busy": "2022-03-29T19:57:49.487425Z",
     "iopub.status.idle": "2022-03-29T19:57:49.497226Z",
     "shell.execute_reply": "2022-03-29T19:57:49.497741Z",
     "shell.execute_reply.started": "2022-03-29T19:56:01.861300Z"
    },
    "papermill": {
     "duration": 0.102047,
     "end_time": "2022-03-29T19:57:49.497944",
     "exception": false,
     "start_time": "2022-03-29T19:57:49.395897",
     "status": "completed"
    },
    "tags": []
   },
   "outputs": [],
   "source": [
    "def generate_one_training_data(key, m=1):\n",
    "    key_u, key_y = random.split(key)\n",
    "    \n",
    "    u_min = np.array([-np.pi, -8.0,-2.0]).flatten()\n",
    "    u_max = np.array([np.pi, 8.0, 2.0]).flatten()\n",
    "    \n",
    "    u_train = random.uniform(key_u, shape=(m,3), minval=u_min, maxval=u_max)\n",
    "    y_train = random.uniform(key_y, shape=(1,), minval=0.0, maxval=0.1)\n",
    "    state = u_train.flatten()[0:2]\n",
    "    s_train = runge_kutta(pendulum, u_train.flatten()[0:2], u_train.flatten()[-1], y_train)\n",
    "\n",
    "    return u_train, y_train, s_train\n",
    "\n",
    "# Generate training data corresponding to N input sample\n",
    "def generate_training_data(key, N, m):\n",
    "    keys = random.split(key, N)\n",
    "    gen_fn = jit(lambda key: generate_one_training_data(key, m=1))\n",
    "    u_train, y_train, s_train = vmap(gen_fn)(keys)\n",
    "\n",
    "    u_train = np.float32(u_train.reshape(N,-1))\n",
    "    y_train = np.float32(y_train.reshape(N,-1))\n",
    "    s_train = np.float32(s_train.reshape(N,-1))\n",
    "\n",
    "    return u_train, y_train, s_train"
   ]
  },
  {
   "attachments": {},
   "cell_type": "markdown",
   "id": "bfe5ac81",
   "metadata": {
    "papermill": {
     "duration": 0.089321,
     "end_time": "2022-03-29T19:57:49.680259",
     "exception": false,
     "start_time": "2022-03-29T19:57:49.590938",
     "status": "completed"
    },
    "tags": []
   },
   "source": [
    "## Models"
   ]
  },
  {
   "cell_type": "code",
   "execution_count": 6,
   "id": "6036b5cf",
   "metadata": {
    "execution": {
     "iopub.execute_input": "2022-03-29T19:57:49.864724Z",
     "iopub.status.busy": "2022-03-29T19:57:49.863726Z",
     "iopub.status.idle": "2022-03-29T19:57:49.889162Z",
     "shell.execute_reply": "2022-03-29T19:57:49.889730Z",
     "shell.execute_reply.started": "2022-03-29T19:56:01.874579Z"
    },
    "papermill": {
     "duration": 0.119274,
     "end_time": "2022-03-29T19:57:49.889917",
     "exception": false,
     "start_time": "2022-03-29T19:57:49.770643",
     "status": "completed"
    },
    "tags": []
   },
   "outputs": [],
   "source": [
    "def MLP(layers, activation=relu):\n",
    "    \"\"\"vanilla MLP\"\"\"\n",
    "    def init(rng_key):\n",
    "        def init_layer(key, d_in, d_out):\n",
    "            k1, k2 = random.split(key)\n",
    "            glorot_stddev = 1.0 / np.sqrt((d_in + d_out) / 2.0)\n",
    "            W = glorot_stddev * random.normal(k1, (d_in, d_out))\n",
    "            b = np.zeros(d_out)\n",
    "            return W, b\n",
    "        key, *keys = random.split(rng_key, len(layers))\n",
    "        params = list(map(init_layer, keys, layers[:-1], layers[1:]))\n",
    "        return params\n",
    "    def apply(params, inputs):\n",
    "        for W, b in params[:-1]:\n",
    "            outputs = np.dot(inputs, W) + b\n",
    "            inputs = activation(outputs)\n",
    "        W, b = params[-1]\n",
    "        outputs = np.dot(inputs, W) + b\n",
    "        return outputs\n",
    "    return init, apply\n",
    "\n",
    "def FF_MLP(layers, freqs, activation=relu):\n",
    "    \"\"\"Fourier feature net\"\"\"\n",
    "    def input_encoding(x, w):\n",
    "        out = np.hstack([np.sin(np.dot(x, w)), np.cos(np.dot(x, w))])\n",
    "        return out\n",
    "    FF = freqs * random.normal(random.PRNGKey(0),(layers[0], layers[1]//2))\n",
    "    def init(rng_key):\n",
    "        def init_layer(key, d_in, d_out):\n",
    "            k1, k2 = random.split(key)\n",
    "            glorot_stddev = 1.0 / np.sqrt((d_in + d_out) / 2.0)\n",
    "            W = glorot_stddev * random.normal(k1, (d_in, d_out))\n",
    "            b = np.zeros(d_out)\n",
    "            return W, b\n",
    "        key, *keys = random.split(rng_key, len(layers))\n",
    "        params = list(map(init_layer, keys, layers[1:-1], layers[2:]))\n",
    "        return params\n",
    "    def apply(params, inputs):\n",
    "        H = input_encoding(inputs, FF)\n",
    "        for W, b in params[:-1]:\n",
    "            outputs = np.dot(H, W) + b\n",
    "            H = activation(outputs)\n",
    "        W, b = params[-1]\n",
    "        outputs = np.dot(H, W) + b\n",
    "        return outputs\n",
    "    return init, apply\n",
    "\n",
    "def modified_MLP(layers, activation=relu):\n",
    "    \"\"\"Modified MLP\"\"\"\n",
    "    def xavier_init(key, d_in, d_out):\n",
    "        glorot_stddev = 1.0 / np.sqrt((d_in + d_out) / 2.0)\n",
    "        W = glorot_stddev * random.normal(key, (d_in, d_out))\n",
    "        b = np.zeros(d_out)\n",
    "        return W, b\n",
    "    def init(rng_key):\n",
    "        U1, b1 = xavier_init(random.PRNGKey(12345), layers[0], layers[1])\n",
    "        U2, b2 = xavier_init(random.PRNGKey(54321), layers[0], layers[1])\n",
    "        def init_layer(key, d_in, d_out):\n",
    "            k1, k2 = random.split(key)\n",
    "            W, b = xavier_init(k1, d_in, d_out)\n",
    "            return W, b\n",
    "        key, *keys = random.split(rng_key, len(layers))\n",
    "        params = list(map(init_layer, keys, layers[:-1], layers[1:]))\n",
    "        return (params, U1, b1, U2, b2)\n",
    "    def apply(params, inputs):\n",
    "        params, U1, b1, U2, b2 = params\n",
    "        U = activation(np.dot(inputs, U1) + b1)\n",
    "        V = activation(np.dot(inputs, U2) + b2)\n",
    "        for W, b in params[:-1]:\n",
    "            outputs = activation(np.dot(inputs, W) + b)\n",
    "            inputs = np.multiply(outputs, U) + np.multiply(1 - outputs, V)\n",
    "        W, b = params[-1]\n",
    "        outputs = np.dot(inputs, W) + b\n",
    "        return outputs\n",
    "    return init, apply"
   ]
  },
  {
   "cell_type": "code",
   "execution_count": 7,
   "id": "557e7614",
   "metadata": {
    "execution": {
     "iopub.execute_input": "2022-03-29T19:57:50.076290Z",
     "iopub.status.busy": "2022-03-29T19:57:50.075437Z",
     "iopub.status.idle": "2022-03-29T19:57:50.102332Z",
     "shell.execute_reply": "2022-03-29T19:57:50.102911Z",
     "shell.execute_reply.started": "2022-03-29T19:56:01.903303Z"
    },
    "papermill": {
     "duration": 0.121867,
     "end_time": "2022-03-29T19:57:50.103094",
     "exception": false,
     "start_time": "2022-03-29T19:57:49.981227",
     "status": "completed"
    },
    "tags": []
   },
   "outputs": [],
   "source": [
    "# DeepONet\n",
    "class DeepONet:\n",
    "    def __init__(self, branch, trunk):\n",
    "        # Branch\n",
    "        if branch.type == \"MLP\":\n",
    "            self.branch_init, self.branch_apply = MLP(branch.layers, activation=branch.activation)\n",
    "        elif branch.type == \"FF\":\n",
    "            self.branch_init, self.branch_apply = FF_MLP(branch.layers, 2, activation=branch.activation)\n",
    "        elif branch.type == \"modified\":\n",
    "            self.branch_init, self.branch_apply = modified_MLP(branch.layers, activation=branch.activation)\n",
    "\n",
    "        # Trunk\n",
    "        if trunk.type == \"MLP\":\n",
    "            self.trunk_init, self.trunk_apply = MLP(trunk.layers, activation=trunk.activation)\n",
    "        elif trunk.type == \"FF\":\n",
    "            self.trunk_init, self.trunk_apply = FF_MLP(trunk.layers, 2, activation=trunk.activation)\n",
    "        elif trunk.type == \"modified\":\n",
    "            self.trunk_init, self.trunk_apply = modified_MLP(trunk.layers, activation=trunk.activation)\n",
    "\n",
    "        # initialize\n",
    "        branch_params = self.branch_init(rng_key = random.PRNGKey(1234))\n",
    "        trunk_params = self.trunk_init(rng_key = random.PRNGKey(4321))\n",
    "        params = (branch_params, trunk_params)\n",
    "\n",
    "        # use optimizers to set optimizer initialization and update functions\n",
    "        self.opt_init, self.opt_update, self.get_params = optimizers.adam(\n",
    "            (optimizers.exponential_decay(1e-3, decay_steps=2000, decay_rate=0.9))\n",
    "        )\n",
    "        self.opt_state = self.opt_init(params)\n",
    "        self.itercount = itertools.count()\n",
    "\n",
    "        # loggers\n",
    "        self.loss_log = []\n",
    "        \n",
    "        self.dim_state = 2    # the two-axis is a fourth-order model\n",
    "        self.best_loss = 1e10\n",
    "\n",
    "    # Define DeepONet architecture\n",
    "    def operator_net(self, params, u, y):\n",
    "        branch_params, trunk_params = params\n",
    "        B = self.branch_apply(branch_params, u)\n",
    "        T = self.trunk_apply(trunk_params, y)\n",
    "        \n",
    "        p = int(B.shape[0] / self.dim_state)\n",
    "        B1 = B[:p]\n",
    "        B2 = B[p:2*p]\n",
    "        \n",
    "        T1 = T[:p]\n",
    "        T2 = T[p:2*p]\n",
    "        \n",
    "        x1 = np.sum(B1 * T1)\n",
    "        x2 = np.sum(B2 * T2)\n",
    "        \n",
    "        return x1, x2\n",
    "\n",
    "    def supervised_loss(self, params, batch):\n",
    "        inputs, outputs = batch\n",
    "        u, y = inputs\n",
    "        x1 = outputs[:, 0:1]\n",
    "        x2 = outputs[:, 1:2]\n",
    "        \n",
    "        # compute forward pass\n",
    "        x1_pred, x2_pred = vmap(self.operator_net, (None, 0, 0))(params, u, y)\n",
    "\n",
    "        # compute loss\n",
    "        loss_1 = np.mean((x1.flatten() - x1_pred) ** 2)\n",
    "        loss_2 = np.mean((x2.flatten() - x2_pred) ** 2)\n",
    "        \n",
    "        loss = loss_1 + loss_2\n",
    "\n",
    "        return 1 * loss\n",
    "\n",
    "    def loss(self, params, res_batch):\n",
    "        loss_res = self.supervised_loss(params, res_batch)\n",
    "        loss = loss_res\n",
    "        return loss\n",
    "\n",
    "    # Define a compiled update state\n",
    "    @partial(jit, static_argnums=(0,))\n",
    "    def step(self, i, opt_state, res_batch):\n",
    "        params = self.get_params(opt_state)\n",
    "        g = grad(self.loss)(params, res_batch)\n",
    "        return self.opt_update(i, g, opt_state)\n",
    "\n",
    "\n",
    "    # Optimize parameters in a loop\n",
    "    def train(self, res_dataset, nIter=1000):\n",
    "        # define the data iterator\n",
    "        res_data = iter(res_dataset)\n",
    "        \n",
    "        pbar = trange(nIter)\n",
    "        # main training loop\n",
    "        for it in pbar:\n",
    "            res_batch = next(res_data)\n",
    "            \n",
    "            self.opt_state = self.step(next(self.itercount), self.opt_state, res_batch)\n",
    "\n",
    "            if it % 10 == 0:\n",
    "                params = self.get_params(self.opt_state)\n",
    "                \n",
    "                # compute losses\n",
    "                loss_val = self.loss(params, res_batch)\n",
    "                \n",
    "                # log losses\n",
    "                self.loss_log.append(loss_val)\n",
    "                \n",
    "            if loss_val < self.best_loss:\n",
    "                self.best_loss = loss_val\n",
    "                flat_params, _  = ravel_pytree(self.get_params(self.opt_state))\n",
    "                np.save('best_params.npy', flat_params)\n",
    "                \n",
    "            # print losses during training\n",
    "            pbar.set_postfix({\n",
    "                'Loss':loss_val,\n",
    "                'Best-Loss':self.best_loss,\n",
    "            })\n",
    "\n",
    "    # Evaluates predictions at test points\n",
    "    @partial(jit, static_argnums=(0,))\n",
    "    def predict(self, params, U_star, Y_star):\n",
    "        x1, x2 = vmap(self.operator_net, (None, 0, 0))(params, U_star, Y_star)\n",
    "        return x1, x2"
   ]
  },
  {
   "attachments": {},
   "cell_type": "markdown",
   "id": "8ff97b38",
   "metadata": {
    "papermill": {
     "duration": 0.090241,
     "end_time": "2022-03-29T19:57:50.282983",
     "exception": false,
     "start_time": "2022-03-29T19:57:50.192742",
     "status": "completed"
    },
    "tags": []
   },
   "source": [
    "## Training"
   ]
  },
  {
   "cell_type": "code",
   "execution_count": 8,
   "id": "bc3c00ef",
   "metadata": {
    "execution": {
     "iopub.execute_input": "2022-03-29T19:57:50.465290Z",
     "iopub.status.busy": "2022-03-29T19:57:50.464600Z",
     "iopub.status.idle": "2022-03-29T19:57:51.617938Z",
     "shell.execute_reply": "2022-03-29T19:57:51.617257Z",
     "shell.execute_reply.started": "2022-03-29T19:56:01.936359Z"
    },
    "papermill": {
     "duration": 1.244968,
     "end_time": "2022-03-29T19:57:51.618085",
     "exception": false,
     "start_time": "2022-03-29T19:57:50.373117",
     "status": "completed"
    },
    "tags": []
   },
   "outputs": [
    {
     "name": "stdout",
     "output_type": "stream",
     "text": [
      "Shape for training: u_train=(50000, 3), y_train=(50000, 1), s_train=(50000, 2)\n"
     ]
    }
   ],
   "source": [
    "# Training data \n",
    "N_train = 50000\n",
    "m = 1 # number of input sensors\n",
    "key_train = random.PRNGKey(0) # use different key for generating training data \n",
    "u_train, y_train, s_train = generate_training_data(key_train, N_train, m)\n",
    "\n",
    "verbose = True\n",
    "\n",
    "if verbose:\n",
    "    print(\"Shape for training: u_train={}, y_train={}, s_train={}\".format(u_train.shape, y_train.shape, s_train.shape))"
   ]
  },
  {
   "cell_type": "code",
   "execution_count": 9,
   "id": "ed0a1559",
   "metadata": {
    "execution": {
     "iopub.execute_input": "2022-03-29T19:57:51.806702Z",
     "iopub.status.busy": "2022-03-29T19:57:51.806026Z",
     "iopub.status.idle": "2022-03-29T20:30:25.653819Z",
     "shell.execute_reply": "2022-03-29T20:30:25.653103Z"
    },
    "papermill": {
     "duration": 1953.946667,
     "end_time": "2022-03-29T20:30:25.654023",
     "exception": false,
     "start_time": "2022-03-29T19:57:51.707356",
     "status": "completed"
    },
    "tags": []
   },
   "outputs": [
    {
     "name": "stderr",
     "output_type": "stream",
     "text": [
      "100%|██████████| 100000/100000 [32:31<00:00, 51.24it/s, Loss=7.2752795e-07, Best-Loss=3.7447654e-07]\n"
     ]
    }
   ],
   "source": [
    "# Initialize model\n",
    "branch = dotdict()\n",
    "trunk = dotdict()\n",
    "branch.type = \"modified\"\n",
    "trunk.type = \"modified\"\n",
    "depth = 6\n",
    "branch.layers = [3] + [100] * depth + [200]\n",
    "trunk.layers =  [1] + [100] * depth + [200]\n",
    "branch.activation = np.sin\n",
    "trunk.activation = np.sin\n",
    "model = DeepONet(branch, trunk)\n",
    "\n",
    "# Create data set\n",
    "batch_size = 100\n",
    "res_dataset = DataGenerator(u_train, y_train, s_train, batch_size)\n",
    "\n",
    "model.train(res_dataset, nIter=100000)"
   ]
  },
  {
   "attachments": {},
   "cell_type": "markdown",
   "id": "e01f7350",
   "metadata": {
    "papermill": {
     "duration": 43.784237,
     "end_time": "2022-03-29T20:31:53.549278",
     "exception": false,
     "start_time": "2022-03-29T20:31:09.765041",
     "status": "completed"
    },
    "tags": []
   },
   "source": [
    "## Testing"
   ]
  },
  {
   "attachments": {},
   "cell_type": "markdown",
   "id": "2f091df4",
   "metadata": {
    "papermill": {
     "duration": 44.083942,
     "end_time": "2022-03-29T20:33:21.744292",
     "exception": false,
     "start_time": "2022-03-29T20:32:37.660350",
     "status": "completed"
    },
    "tags": []
   },
   "source": [
    "### Stable response"
   ]
  },
  {
   "cell_type": "code",
   "execution_count": 10,
   "id": "127e2c1e",
   "metadata": {
    "execution": {
     "iopub.execute_input": "2022-03-29T20:34:50.696124Z",
     "iopub.status.busy": "2022-03-29T20:34:50.695420Z",
     "iopub.status.idle": "2022-03-29T20:34:51.097371Z",
     "shell.execute_reply": "2022-03-29T20:34:51.097869Z"
    },
    "papermill": {
     "duration": 44.462962,
     "end_time": "2022-03-29T20:34:51.098056",
     "exception": false,
     "start_time": "2022-03-29T20:34:06.635094",
     "status": "completed"
    },
    "tags": []
   },
   "outputs": [],
   "source": [
    "# for testing, we solve the following:\n",
    "T = 10\n",
    "h = 0.1\n",
    "N = int(T/h)\n",
    "x = np.array([0.1,1.0])\n",
    "\n",
    "@jit\n",
    "def control(t, x):\n",
    "    theta, theta_dot = x\n",
    "    #return np.sin(t/2)         # oscillatory response\n",
    "    #return t/100\n",
    "    return -0.80 * theta_dot    # stable response\n",
    "\n",
    "soln = integrate(runge_kutta, pendulum, control, x, h, N)"
   ]
  },
  {
   "cell_type": "code",
   "execution_count": 11,
   "id": "7e97ccc5",
   "metadata": {
    "execution": {
     "iopub.execute_input": "2022-03-29T20:36:19.185461Z",
     "iopub.status.busy": "2022-03-29T20:36:19.184751Z",
     "iopub.status.idle": "2022-03-29T20:36:20.861290Z",
     "shell.execute_reply": "2022-03-29T20:36:20.861879Z"
    },
    "papermill": {
     "duration": 45.846574,
     "end_time": "2022-03-29T20:36:20.862093",
     "exception": false,
     "start_time": "2022-03-29T20:35:35.015519",
     "status": "completed"
    },
    "tags": []
   },
   "outputs": [],
   "source": [
    "# Restore best PINN-DeepONet\n",
    "flat_params = np.load('best_params.npy')\n",
    "_, unravel = ravel_pytree(model.get_params(model.opt_state))\n",
    "best_params = unravel(flat_params)\n",
    "\n",
    "soln_deeponet = integrate_deeponet(model, best_params, control, x, h, N)"
   ]
  },
  {
   "cell_type": "code",
   "execution_count": 12,
   "id": "5abc27c2",
   "metadata": {
    "execution": {
     "iopub.execute_input": "2022-03-29T20:37:49.273610Z",
     "iopub.status.busy": "2022-03-29T20:37:49.272556Z",
     "iopub.status.idle": "2022-03-29T20:37:49.276083Z",
     "shell.execute_reply": "2022-03-29T20:37:49.275548Z"
    },
    "papermill": {
     "duration": 44.147503,
     "end_time": "2022-03-29T20:37:49.276225",
     "exception": false,
     "start_time": "2022-03-29T20:37:05.128722",
     "status": "completed"
    },
    "tags": []
   },
   "outputs": [
    {
     "name": "stdout",
     "output_type": "stream",
     "text": [
      "deeponet results shapes = (100, 2), (99, 1), (99, 1)\n"
     ]
    }
   ],
   "source": [
    "if verbose:\n",
    "    print(\"deeponet results shapes = {}, {}, {}\".format(soln_deeponet.x.shape, soln_deeponet.u.shape, soln_deeponet.t.shape))"
   ]
  },
  {
   "cell_type": "code",
   "execution_count": 13,
   "id": "684353e1",
   "metadata": {
    "execution": {
     "iopub.execute_input": "2022-03-29T20:39:17.014205Z",
     "iopub.status.busy": "2022-03-29T20:39:17.013145Z",
     "iopub.status.idle": "2022-03-29T20:39:21.846389Z",
     "shell.execute_reply": "2022-03-29T20:39:21.845744Z"
    },
    "papermill": {
     "duration": 48.533968,
     "end_time": "2022-03-29T20:39:21.846553",
     "exception": false,
     "start_time": "2022-03-29T20:38:33.312585",
     "status": "completed"
    },
    "tags": []
   },
   "outputs": [
    {
     "data": {
      "image/png": "[encoded data removed]",
      "text/plain": [
       "<Figure size 864x576 with 1 Axes>"
      ]
     },
     "metadata": {
      "needs_background": "light"
     },
     "output_type": "display_data"
    },
    {
     "data": {
      "image/png": "[encoded data removed]",
      "text/plain": [
       "<Figure size 864x576 with 1 Axes>"
      ]
     },
     "metadata": {
      "needs_background": "light"
     },
     "output_type": "display_data"
    }
   ],
   "source": [
    "plot_comparison([soln.t, soln.t], [soln.x[0:-1,0].flatten(), soln_deeponet.x[0:-1,0].flatten()], legend_list=[\"True\", \"DeepONet prediction\"], ylabel=r\"$\\theta(t)$\", color_list=[\"red\", \"blue\"], linestyle_list=['solid', 'dashed'], fig_path=\"theta.pdf\", xlabel=r\"$t$\")\n",
    "plot_comparison([soln.t, soln.t], [soln.x[0:-1,1].flatten(), soln_deeponet.x[0:-1,1].flatten()], legend_list=[\"True\", \"DeepONet prediction\"], ylabel=r\"$\\dot{\\theta}(t)$\", color_list=[\"red\", \"blue\"], linestyle_list=['solid', 'dashed'], fig_path=\"theta_dot.pdf\", xlabel=r\"$t$\")"
   ]
  },
  {
   "cell_type": "code",
   "execution_count": 14,
   "id": "85968e43",
   "metadata": {
    "execution": {
     "iopub.execute_input": "2022-03-29T20:40:49.596392Z",
     "iopub.status.busy": "2022-03-29T20:40:49.595347Z",
     "iopub.status.idle": "2022-03-29T20:40:49.688914Z",
     "shell.execute_reply": "2022-03-29T20:40:49.689432Z"
    },
    "papermill": {
     "duration": 43.749441,
     "end_time": "2022-03-29T20:40:49.689608",
     "exception": false,
     "start_time": "2022-03-29T20:40:05.940167",
     "status": "completed"
    },
    "tags": []
   },
   "outputs": [
    {
     "name": "stdout",
     "output_type": "stream",
     "text": [
      "theta L2 relative error=0.743437647819519\n",
      "theta_dot L2 relative error=2.095308780670166\n"
     ]
    }
   ],
   "source": [
    "print(\"theta L2 relative error={}\".format(L2_relative_error(soln.x[0:-1,0].flatten(), soln_deeponet.x[0:-1,0].flatten())))\n",
    "print(\"theta_dot L2 relative error={}\".format(L2_relative_error(soln.x[0:-1,1].flatten(), soln_deeponet.x[0:-1,1].flatten())))"
   ]
  },
  {
   "attachments": {},
   "cell_type": "markdown",
   "id": "bf95efc6",
   "metadata": {
    "papermill": {
     "duration": 43.976664,
     "end_time": "2022-03-29T20:42:17.525750",
     "exception": false,
     "start_time": "2022-03-29T20:41:33.549086",
     "status": "completed"
    },
    "tags": []
   },
   "source": [
    "### Testing multiple initial conditions"
   ]
  },
  {
   "cell_type": "code",
   "execution_count": 15,
   "id": "8b272ccc",
   "metadata": {
    "execution": {
     "iopub.execute_input": "2022-03-29T20:43:44.714676Z",
     "iopub.status.busy": "2022-03-29T20:43:44.713971Z",
     "iopub.status.idle": "2022-03-29T20:44:21.560999Z",
     "shell.execute_reply": "2022-03-29T20:44:21.560193Z"
    },
    "papermill": {
     "duration": 80.395735,
     "end_time": "2022-03-29T20:44:21.561155",
     "exception": false,
     "start_time": "2022-03-29T20:43:01.165420",
     "status": "completed"
    },
    "tags": []
   },
   "outputs": [],
   "source": [
    "def test_multiple_ICS(control, model, best_params, num=100, rng_key=random.PRNGKey(0), N=100, h=0.1):\n",
    "    key = rng_key\n",
    "    log_L2 = dotdict()\n",
    "    log_L2.theta = []\n",
    "    log_L2.theta_dot = []\n",
    "    \n",
    "    \n",
    "    for k in range(num):\n",
    "        key, subkey = random.split(key)\n",
    "        x0 = random.uniform(key, shape=(1,), minval=-1 * np.pi / 2, maxval= 1 * np.pi / 2).flatten()\n",
    "        x0 = np.array([x0[0], 0.0])\n",
    "        soln_k = integrate(runge_kutta, pendulum, control, x0, h, N)\n",
    "        soln_deeponet_k = integrate_deeponet(model, best_params, control, x0, h, N)\n",
    "        log_L2.theta.append(L2_relative_error(soln_k.x[0:-1,0].flatten(), soln_deeponet_k.x[0:-1,0].flatten()))\n",
    "        log_L2.theta_dot.append(L2_relative_error(soln_k.x[0:-1,1].flatten(), soln_deeponet_k.x[0:-1,1].flatten()))\n",
    "        \n",
    "    log_L2.theta = np.stack(log_L2.theta)\n",
    "    log_L2.theta_dot = np.stack(log_L2.theta_dot)\n",
    "        \n",
    "    return log_L2\n",
    "\n",
    "        \n",
    "        \n",
    "log_L2 = test_multiple_ICS(control, model, best_params, h=h, num=100, N=N)"
   ]
  },
  {
   "cell_type": "code",
   "execution_count": 16,
   "id": "63bf1704",
   "metadata": {
    "execution": {
     "iopub.execute_input": "2022-03-29T20:45:49.388428Z",
     "iopub.status.busy": "2022-03-29T20:45:49.387411Z",
     "iopub.status.idle": "2022-03-29T20:45:49.451736Z",
     "shell.execute_reply": "2022-03-29T20:45:49.452217Z"
    },
    "papermill": {
     "duration": 44.122167,
     "end_time": "2022-03-29T20:45:49.452421",
     "exception": false,
     "start_time": "2022-03-29T20:45:05.330254",
     "status": "completed"
    },
    "tags": []
   },
   "outputs": [
    {
     "name": "stdout",
     "output_type": "stream",
     "text": [
      "L2-relative-error for theta mean= 1.0569602251052856\n",
      "L2-relative-error for theta std= 2.5097291469573975\n",
      "L2-relative-error for theta_dot mean= 3.3569717407226562\n",
      "L2-relative-error for theta_dot std= 8.23419189453125\n"
     ]
    }
   ],
   "source": [
    "print(\"L2-relative-error for theta mean= {}\".format(np.mean(log_L2.theta)))\n",
    "print(\"L2-relative-error for theta std= {}\".format(np.std(log_L2.theta)))\n",
    "print(\"L2-relative-error for theta_dot mean= {}\".format(np.mean(log_L2.theta_dot)))\n",
    "print(\"L2-relative-error for theta_dot std= {}\".format(np.std(log_L2.theta_dot)))"
   ]
  },
  {
   "attachments": {},
   "cell_type": "markdown",
   "id": "5645a0b8",
   "metadata": {
    "papermill": {
     "duration": 44.376774,
     "end_time": "2022-03-29T20:47:17.668915",
     "exception": false,
     "start_time": "2022-03-29T20:46:33.292141",
     "status": "completed"
    },
    "tags": []
   },
   "source": [
    "### Oscillatory response"
   ]
  },
  {
   "cell_type": "code",
   "execution_count": 17,
   "id": "b668aadb",
   "metadata": {
    "execution": {
     "iopub.execute_input": "2022-03-29T20:48:45.514274Z",
     "iopub.status.busy": "2022-03-29T20:48:45.513146Z",
     "iopub.status.idle": "2022-03-29T20:48:45.642258Z",
     "shell.execute_reply": "2022-03-29T20:48:45.641561Z"
    },
    "papermill": {
     "duration": 43.9575,
     "end_time": "2022-03-29T20:48:45.642434",
     "exception": false,
     "start_time": "2022-03-29T20:48:01.684934",
     "status": "completed"
    },
    "tags": []
   },
   "outputs": [],
   "source": [
    "@jit\n",
    "def control(t, x):\n",
    "    theta, theta_dot = x\n",
    "    return np.sin(t/2)         # oscillatory response\n",
    "    \n",
    "soln = integrate(runge_kutta, pendulum, control, x, h, N)"
   ]
  },
  {
   "cell_type": "code",
   "execution_count": 18,
   "id": "9322c1a2",
   "metadata": {
    "execution": {
     "iopub.execute_input": "2022-03-29T20:50:13.143480Z",
     "iopub.status.busy": "2022-03-29T20:50:13.142484Z",
     "iopub.status.idle": "2022-03-29T20:50:13.555104Z",
     "shell.execute_reply": "2022-03-29T20:50:13.554385Z"
    },
    "papermill": {
     "duration": 44.202916,
     "end_time": "2022-03-29T20:50:13.555260",
     "exception": false,
     "start_time": "2022-03-29T20:49:29.352344",
     "status": "completed"
    },
    "tags": []
   },
   "outputs": [],
   "source": [
    "# Restore best PINN-DeepONet\n",
    "flat_params = np.load('best_params.npy')\n",
    "_, unravel = ravel_pytree(model.get_params(model.opt_state))\n",
    "best_params = unravel(flat_params)\n",
    "\n",
    "soln_deeponet = integrate_deeponet(model, best_params, control, x, h, N)"
   ]
  },
  {
   "cell_type": "code",
   "execution_count": 19,
   "id": "ea15f9f6",
   "metadata": {
    "execution": {
     "iopub.execute_input": "2022-03-29T20:51:41.232906Z",
     "iopub.status.busy": "2022-03-29T20:51:41.231852Z",
     "iopub.status.idle": "2022-03-29T20:51:43.084066Z",
     "shell.execute_reply": "2022-03-29T20:51:43.084596Z"
    },
    "papermill": {
     "duration": 45.907848,
     "end_time": "2022-03-29T20:51:43.084783",
     "exception": false,
     "start_time": "2022-03-29T20:50:57.176935",
     "status": "completed"
    },
    "tags": []
   },
   "outputs": [
    {
     "data": {
      "image/png": "[encoded data removed]",
      "text/plain": [
       "<Figure size 864x576 with 1 Axes>"
      ]
     },
     "metadata": {
      "needs_background": "light"
     },
     "output_type": "display_data"
    },
    {
     "data": {
      "image/png": "[encoded data removed]",
      "text/plain": [
       "<Figure size 864x576 with 1 Axes>"
      ]
     },
     "metadata": {
      "needs_background": "light"
     },
     "output_type": "display_data"
    }
   ],
   "source": [
    "plot_comparison([soln.t, soln.t], [soln.x[0:-1,0].flatten(), soln_deeponet.x[0:-1,0].flatten()], legend_list=[\"True\", \"DeepONet prediction\"], ylabel=r\"$\\theta(t)$\", color_list=[\"red\", \"blue\"], linestyle_list=['solid', 'dashed'], fig_path=\"theta_osillatory.pdf\", xlabel=r\"$t$\")\n",
    "plot_comparison([soln.t, soln.t], [soln.x[0:-1,1].flatten(), soln_deeponet.x[0:-1,1].flatten()], legend_list=[\"True\", \"DeepONet prediction\"], ylabel=r\"$\\dot{\\theta}(t)$\", color_list=[\"red\", \"blue\"], linestyle_list=['solid', 'dashed'], fig_path=\"theta_dot_oscillatory.pdf\", xlabel=r\"$t$\")"
   ]
  },
  {
   "cell_type": "code",
   "execution_count": 20,
   "id": "e286316f",
   "metadata": {
    "execution": {
     "iopub.execute_input": "2022-03-29T20:53:11.873772Z",
     "iopub.status.busy": "2022-03-29T20:53:11.872755Z",
     "iopub.status.idle": "2022-03-29T20:53:11.884856Z",
     "shell.execute_reply": "2022-03-29T20:53:11.884184Z"
    },
    "papermill": {
     "duration": 44.218896,
     "end_time": "2022-03-29T20:53:11.885011",
     "exception": false,
     "start_time": "2022-03-29T20:52:27.666115",
     "status": "completed"
    },
    "tags": []
   },
   "outputs": [
    {
     "name": "stdout",
     "output_type": "stream",
     "text": [
      "theta L2 relative error=0.5392003059387207\n",
      "theta_dot L2 relative error=0.8174777030944824\n"
     ]
    }
   ],
   "source": [
    "print(\"theta L2 relative error={}\".format(L2_relative_error(soln.x[0:-1,0].flatten(), soln_deeponet.x[0:-1,0].flatten())))\n",
    "print(\"theta_dot L2 relative error={}\".format(L2_relative_error(soln.x[0:-1,1].flatten(), soln_deeponet.x[0:-1,1].flatten())))"
   ]
  },
  {
   "cell_type": "code",
   "execution_count": null,
   "id": "5f0c24b9",
   "metadata": {
    "papermill": {
     "duration": 43.802267,
     "end_time": "2022-03-29T20:54:39.171410",
     "exception": false,
     "start_time": "2022-03-29T20:53:55.369143",
     "status": "completed"
    },
    "tags": []
   },
   "outputs": [],
   "source": []
  }
 ],
 "metadata": {
  "kernelspec": {
   "display_name": "Python 3 (ipykernel)",
   "language": "python",
   "name": "python3"
  },
  "language_info": {
   "codemirror_mode": {
    "name": "ipython",
    "version": 3
   },
   "file_extension": ".py",
   "mimetype": "text/x-python",
   "name": "python",
   "nbconvert_exporter": "python",
   "pygments_lexer": "ipython3",
   "version": "3.8.10"
  },
  "papermill": {
   "default_parameters": {},
   "duration": 3523.780719,
   "end_time": "2022-03-29T20:55:26.364285",
   "environment_variables": {},
   "exception": null,
   "input_path": "__notebook__.ipynb",
   "output_path": "__notebook__.ipynb",
   "parameters": {},
   "start_time": "2022-03-29T19:56:42.583566",
   "version": "2.3.3"
  }
 },
 "nbformat": 4,
 "nbformat_minor": 5
}
