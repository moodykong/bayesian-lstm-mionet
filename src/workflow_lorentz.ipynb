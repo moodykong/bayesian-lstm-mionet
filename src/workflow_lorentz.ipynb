{
 "cells": [
  {
   "cell_type": "markdown",
   "metadata": {},
   "source": [
    "# Generate Lorentz data"
   ]
  },
  {
   "cell_type": "markdown",
   "metadata": {},
   "source": [
    "## Print args of database_generator.py"
   ]
  },
  {
   "cell_type": "code",
   "execution_count": 3,
   "metadata": {},
   "outputs": [
    {
     "name": "stdout",
     "output_type": "stream",
     "text": [
      "\n",
      "=====================\n",
      "usage: database_generator.py [-h] [--ode_system {pendulum,lorentz,Ausgrid}]\n",
      "                             [--t_max T_MAX] [--step_size STEP_SIZE]\n",
      "                             [--n_sample N_SAMPLE]\n",
      "                             [--x_init_pts [X_INIT_PTS ...]]\n",
      "                             [--ctr_func {designate,gaussian}]\n",
      "                             [--Ausgrid_customer_id [AUSGRID_CUSTOMER_ID ...]]\n",
      "                             [--Ausgrid_start_date AUSGRID_START_DATE]\n",
      "                             [--Ausgrid_end_date AUSGRID_END_DATE]\n",
      "                             [--Ausgrid_category {GG,CG}]\n",
      "                             [--Ausgrid_delta_t_idxs AUSGRID_DELTA_T_IDXS]\n",
      "                             [--datafile_path DATAFILE_PATH]\n",
      "\n",
      "options:\n",
      "  -h, --help            show this help message and exit\n",
      "  --ode_system {pendulum,lorentz,Ausgrid}\n",
      "                        ODE system to use.\n",
      "  --t_max T_MAX         Maximum time (float) of the trajectory.\n",
      "  --step_size STEP_SIZE\n",
      "                        Step size (float) of the trajectory.\n",
      "  --n_sample N_SAMPLE   Number of the trajectories to generate.\n",
      "  --x_init_pts [X_INIT_PTS ...]\n",
      "                        The range of initial points of the trajectories. Two\n",
      "                        floats define the range of each state component.\n",
      "  --ctr_func {designate,gaussian}\n",
      "                        Control function to use.\n",
      "  --Ausgrid_customer_id [AUSGRID_CUSTOMER_ID ...]\n",
      "                        Customer ID of the Ausgrid dataset.\n",
      "  --Ausgrid_start_date AUSGRID_START_DATE\n",
      "                        Start date of the Ausgrid dataset, e.g., 2010-7-1.\n",
      "  --Ausgrid_end_date AUSGRID_END_DATE\n",
      "                        End date of the Ausgrid dataset, e.g., 2011-6-30.\n",
      "  --Ausgrid_category {GG,CG}\n",
      "                        Category of the Ausgrid dataset.\n",
      "  --Ausgrid_delta_t_idxs AUSGRID_DELTA_T_IDXS\n",
      "                        Time interval of the Ausgrid dataset.\n",
      "  --datafile_path DATAFILE_PATH\n",
      "                        Path to save the data.\n",
      "\n",
      "=====================\n"
     ]
    }
   ],
   "source": [
    "print(\"\\n=====================\")\n",
    "%run database_generator.py --help\n",
    "print(\"\\n=====================\")\n"
   ]
  },
  {
   "cell_type": "markdown",
   "metadata": {},
   "source": [
    "## Generate Lorentz data with args"
   ]
  },
  {
   "cell_type": "code",
   "execution_count": 5,
   "metadata": {},
   "outputs": [
    {
     "name": "stdout",
     "output_type": "stream",
     "text": [
      "\n",
      "=====================\n",
      "Running database_generator.py with arguments:\n"
     ]
    },
    {
     "name": "stderr",
     "output_type": "stream",
     "text": [
      "Generating 100 data ...: 100%|██████████| 100/100 [00:19<00:00,  5.19it/s]"
     ]
    },
    {
     "name": "stdout",
     "output_type": "stream",
     "text": [
      "Data saved in data/lorentz_N_100_h001_T10_demonstration.npy.\n",
      "\n",
      "=====================\n"
     ]
    },
    {
     "name": "stderr",
     "output_type": "stream",
     "text": [
      "\n"
     ]
    }
   ],
   "source": [
    "print(\"\\n=====================\")\n",
    "print(\"Running database_generator.py with arguments:\")\n",
    "%run database_generator.py \\\n",
    "    --ode_system \"lorentz\" \\\n",
    "    --step_size 0.01 \\\n",
    "    --n_sample 100 \\\n",
    "    --t_max 10 \\\n",
    "    --x_init_pts -17 20 -23 28 0 50 \\\n",
    "    --datafile_path \"data/lorentz_N_100_h001_T10_demonstration.npy\"\n",
    "print(\"\\n=====================\")"
   ]
  },
  {
   "cell_type": "markdown",
   "metadata": {},
   "source": [
    "# Train the model"
   ]
  },
  {
   "cell_type": "markdown",
   "metadata": {},
   "source": [
    "## Print the args of train.py"
   ]
  },
  {
   "cell_type": "code",
   "execution_count": 1,
   "metadata": {},
   "outputs": [
    {
     "name": "stderr",
     "output_type": "stream",
     "text": [
      "/usr/local/lib/python3.10/site-packages/tqdm/auto.py:21: TqdmWarning: IProgress not found. Please update jupyter and ipywidgets. See https://ipywidgets.readthedocs.io/en/stable/user_install.html\n",
      "  from .autonotebook import tqdm as notebook_tqdm\n"
     ]
    },
    {
     "name": "stdout",
     "output_type": "stream",
     "text": [
      "usage: train.py [-h] [--datafile_path DATAFILE_PATH]\n",
      "                [--state_component STATE_COMPONENT] [--search_len SEARCH_LEN]\n",
      "                [--search_num SEARCH_NUM] [--search_random SEARCH_RANDOM]\n",
      "                [--t_max T_MAX] [--offset OFFSET] [--verbose VERBOSE]\n",
      "                [--scale_mode SCALE_MODE] [--learning_rate LEARNING_RATE]\n",
      "                [--batch_size BATCH_SIZE] [--epochs EPOCHS]\n",
      "                [--validate_freq VALIDATE_FREQ]\n",
      "                [--use_scheduler USE_SCHEDULER]\n",
      "                [--scheduler_patience SCHEDULER_PATIENCE]\n",
      "                [--scheduler_factor SCHEDULER_FACTOR]\n",
      "                [--loss_function LOSS_FUNCTION]\n",
      "                [--early_stopping_epochs EARLY_STOPPING_EPOCHS]\n",
      "                [--save_model SAVE_MODEL] [--checkpoint_path CHECKPOINT_PATH]\n",
      "                [--monitor_metric {val_loss,train_loss}]\n",
      "                [--use_trained_model USE_TRAINED_MODEL]\n",
      "                [--trained_model_path TRAINED_MODEL_PATH]\n",
      "                [--device {0,1,2,3,4,5,6,7,8,9,10,parallel,cpu}]\n",
      "                [--experiment_name EXPERIMENT_NAME] [--run_name RUN_NAME]\n",
      "                [--plot_trajs PLOT_TRAJS] [--plot_idxs [PLOT_IDXS ...]]\n",
      "                [--figure_path FIGURE_PATH]\n",
      "                [--branch_state_width BRANCH_STATE_WIDTH]\n",
      "                [--branch_state_depth BRANCH_STATE_DEPTH]\n",
      "                [--branch_state_activation BRANCH_STATE_ACTIVATION]\n",
      "                [--branch_memory_width BRANCH_MEMORY_WIDTH]\n",
      "                [--branch_memory_depth BRANCH_MEMORY_DEPTH]\n",
      "                [--branch_memory_lstm_size BRANCH_MEMORY_LSTM_SIZE]\n",
      "                [--branch_memory_lstm_layer_num BRANCH_MEMORY_LSTM_LAYER_NUM]\n",
      "                [--branch_memory_activation BRANCH_MEMORY_ACTIVATION]\n",
      "                [--trunk_width TRUNK_WIDTH] [--trunk_depth TRUNK_DEPTH]\n",
      "                [--trunk_activation TRUNK_ACTIVATION]\n",
      "\n",
      "options:\n",
      "  -h, --help            show this help message and exit\n",
      "  --datafile_path DATAFILE_PATH\n",
      "                        Path to the datafile.\n",
      "  --state_component STATE_COMPONENT\n",
      "                        Index of the state component to train.\n",
      "  --search_len SEARCH_LEN\n",
      "                        Length of the search length (h_max). It is an integer\n",
      "                        of points.\n",
      "  --search_num SEARCH_NUM\n",
      "                        Number of the search points on each trajectory (N_h).\n",
      "                        It is an integer of points.\n",
      "  --search_random SEARCH_RANDOM\n",
      "                        Whether to sample the search points randomly. If\n",
      "                        False, the search points are evenly sampled. Empty\n",
      "                        string means False. Otherwise, the value is True.\n",
      "  --t_max T_MAX         Maximum time (float) of the trajectory.\n",
      "  --offset OFFSET       Offset is the minimum length (integer of points) of\n",
      "                        trajectory memory.\n",
      "  --verbose VERBOSE     Whether to print the training process. Empty string\n",
      "                        means False. Otherwise, the value is True.\n",
      "  --scale_mode SCALE_MODE\n",
      "                        Whether to scale the data. If None, no scaling is\n",
      "                        applied. If 'standard', the data is scaled to have\n",
      "                        zero mean and unit variance. If 'minmax', the data is\n",
      "                        scaled to be in the range of [0, 1].\n",
      "  --learning_rate LEARNING_RATE\n",
      "                        Learning rate of the optimizer.\n",
      "  --batch_size BATCH_SIZE\n",
      "                        Batch size of the training process.\n",
      "  --epochs EPOCHS       Number of epochs to train.\n",
      "  --validate_freq VALIDATE_FREQ\n",
      "                        Frequency of validation.\n",
      "  --use_scheduler USE_SCHEDULER\n",
      "                        Whether to use the scheduler. Empty string means\n",
      "                        False. Otherwise, the value is True.\n",
      "  --scheduler_patience SCHEDULER_PATIENCE\n",
      "                        Patience of the scheduler.\n",
      "  --scheduler_factor SCHEDULER_FACTOR\n",
      "                        Factor of the scheduler.\n",
      "  --loss_function LOSS_FUNCTION\n",
      "                        Loss function to use.\n",
      "  --early_stopping_epochs EARLY_STOPPING_EPOCHS\n",
      "                        Number of epochs to early stop.\n",
      "  --save_model SAVE_MODEL\n",
      "                        Whether to save the model. Empty string means False.\n",
      "                        Otherwise, the value is True.\n",
      "  --checkpoint_path CHECKPOINT_PATH\n",
      "                        Path to save the checkpoints.\n",
      "  --monitor_metric {val_loss,train_loss}\n",
      "                        Metric to monitor.\n",
      "  --use_trained_model USE_TRAINED_MODEL\n",
      "                        Whether to use previously trained model. Empty string\n",
      "                        means False. Otherwise, the value is True.\n",
      "  --trained_model_path TRAINED_MODEL_PATH\n",
      "                        Path to the previously trained model.\n",
      "  --device {0,1,2,3,4,5,6,7,8,9,10,parallel,cpu}\n",
      "                        Device to use. Enter an integer to use a specific GPU\n",
      "                        ID. Enter 'parallel' to use all available GPUs. Enter\n",
      "                        'cpu' to use CPU.\n",
      "  --experiment_name EXPERIMENT_NAME\n",
      "                        Name of the experiment.\n",
      "  --run_name RUN_NAME   Name of the run for display.\n",
      "  --plot_trajs PLOT_TRAJS\n",
      "                        Whether to plot the test trajectories. Empty string\n",
      "                        means False. Otherwise, the value is True.\n",
      "  --plot_idxs [PLOT_IDXS ...]\n",
      "                        Indices of the test trajectories to plot.\n",
      "  --figure_path FIGURE_PATH\n",
      "                        Path to save the figures.\n",
      "  --branch_state_width BRANCH_STATE_WIDTH\n",
      "                        Width of the state branch.\n",
      "  --branch_state_depth BRANCH_STATE_DEPTH\n",
      "                        Depth of the state branch.\n",
      "  --branch_state_activation BRANCH_STATE_ACTIVATION\n",
      "                        Activation function of the state branch.\n",
      "  --branch_memory_width BRANCH_MEMORY_WIDTH\n",
      "                        Width of the memory branch.\n",
      "  --branch_memory_depth BRANCH_MEMORY_DEPTH\n",
      "                        Depth of the memory branch.\n",
      "  --branch_memory_lstm_size BRANCH_MEMORY_LSTM_SIZE\n",
      "                        Size of the LSTM in the memory branch.\n",
      "  --branch_memory_lstm_layer_num BRANCH_MEMORY_LSTM_LAYER_NUM\n",
      "                        Number of the LSTM layers in the memory branch.\n",
      "  --branch_memory_activation BRANCH_MEMORY_ACTIVATION\n",
      "                        Activation function of the memory branch.\n",
      "  --trunk_width TRUNK_WIDTH\n",
      "                        Width of the trunk.\n",
      "  --trunk_depth TRUNK_DEPTH\n",
      "                        Depth of the trunk.\n",
      "  --trunk_activation TRUNK_ACTIVATION\n",
      "                        Activation function of the trunk.\n"
     ]
    }
   ],
   "source": [
    "%run train.py --help"
   ]
  },
  {
   "cell_type": "markdown",
   "metadata": {},
   "source": [
    "## Train the model with args"
   ]
  },
  {
   "cell_type": "markdown",
   "metadata": {},
   "source": [
    "About mlflow: the model is tracked and stored using mlflow. It helps store the training args, training metrics (such as loss), trained models, codes, etc.\n",
    "\n",
    "It has been installed in this devcontainer. To use its ui inferface:\n",
    "\n",
    "cd /PENDULUM/src\n",
    "\n",
    "mlflow ui\n",
    "\n",
    "Then visit 127.0.0.1:5000"
   ]
  },
  {
   "cell_type": "markdown",
   "metadata": {},
   "source": [
    "Please do **NOT** run the train.py in **Jupyter notebook** if **you are doing large scale training** (not including the demonstration training shown below) as it will occupy significant memory and the memory will not be released unless you restart the Jupyter kernal.\n",
    "\n",
    "The code below is just **for demonstration** how the train.py should be used. The trained results have large errors because I just train 10 epochs here.\n"
   ]
  },
  {
   "cell_type": "code",
   "execution_count": 1,
   "metadata": {},
   "outputs": [
    {
     "name": "stderr",
     "output_type": "stream",
     "text": [
      "/usr/local/lib/python3.10/site-packages/tqdm/auto.py:21: TqdmWarning: IProgress not found. Please update jupyter and ipywidgets. See https://ipywidgets.readthedocs.io/en/stable/user_install.html\n",
      "  from .autonotebook import tqdm as notebook_tqdm\n"
     ]
    },
    {
     "name": "stdout",
     "output_type": "stream",
     "text": [
      "Using all available 2 GPUs in parallel.\n",
      "Shapes for LSTM-MIONet training input=(900, 999, 1), x_n=(900, 1), x_next=(900, 1)\n",
      "Shapes for LSTM-MIONet training input=(100, 999, 1), x_n=(100, 1), x_next=(100, 1)\n",
      "Data memory size: 3 MB\n",
      "Data memory size: 0 MB\n",
      "LSTM_MIONet(\n",
      "  (branch_1): MLP(\n",
      "    (net): ModuleList(\n",
      "      (0): Linear(in_features=1, out_features=200, bias=True)\n",
      "      (1): Linear(in_features=200, out_features=200, bias=True)\n",
      "      (2): ReLU()\n",
      "      (3): LayerNorm((200,), eps=1e-05, elementwise_affine=True)\n",
      "      (4): Linear(in_features=200, out_features=200, bias=True)\n",
      "    )\n",
      "  )\n",
      "  (branch_2): LSTM_MLP(\n",
      "    (net_1): ModuleList(\n",
      "      (0): Linear(in_features=1, out_features=200, bias=True)\n",
      "      (1): Linear(in_features=200, out_features=200, bias=True)\n",
      "      (2): ReLU()\n",
      "      (3): LayerNorm((200,), eps=1e-05, elementwise_affine=True)\n",
      "      (4): Linear(in_features=200, out_features=200, bias=True)\n",
      "    )\n",
      "    (lstm): LSTM(200, 100, num_layers=2, batch_first=True)\n",
      "    (net_2): ModuleList(\n",
      "      (0): Linear(in_features=100, out_features=200, bias=True)\n",
      "      (1): Linear(in_features=200, out_features=200, bias=True)\n",
      "      (2): ReLU()\n",
      "      (3): Linear(in_features=200, out_features=200, bias=True)\n",
      "    )\n",
      "  )\n",
      "  (trunk): MLP(\n",
      "    (net): ModuleList(\n",
      "      (0): Linear(in_features=1, out_features=200, bias=True)\n",
      "      (1): Linear(in_features=200, out_features=200, bias=True)\n",
      "      (2): ReLU()\n",
      "      (3): LayerNorm((200,), eps=1e-05, elementwise_affine=True)\n",
      "      (4): Linear(in_features=200, out_features=200, bias=True)\n",
      "    )\n",
      "  )\n",
      ")\n",
      "\n",
      "***** Training with Adam Optimizer for 10 epochs and using 900 data samples*****\n",
      "\n"
     ]
    },
    {
     "name": "stderr",
     "output_type": "stream",
     "text": [
      " 20%|██        | 2/10 [00:04<00:16,  2.06s/it, Train=61.7, Val=68.2, Best_train=61.7, Best_Val=68.2]/usr/local/lib/python3.10/site-packages/_distutils_hack/__init__.py:18: UserWarning: Distutils was imported before Setuptools, but importing Setuptools also replaces the `distutils` module in `sys.modules`. This may lead to undesirable behaviors or errors. To avoid these issues, avoid using distutils directly, ensure that setuptools is installed in the traditional way (e.g. not an editable install), and/or make sure that setuptools is always imported before distutils.\n",
      "  warnings.warn(\n",
      "/usr/local/lib/python3.10/site-packages/_distutils_hack/__init__.py:33: UserWarning: Setuptools is replacing distutils.\n",
      "  warnings.warn(\"Setuptools is replacing distutils.\")\n",
      "100%|██████████| 10/10 [00:26<00:00,  2.69s/it, Train=1.8, Val=1.6, Best_train=1.8, Best_Val=1.6]   "
     ]
    },
    {
     "name": "stdout",
     "output_type": "stream",
     "text": [
      "\n",
      "***** Testing with 100 data samples*****\n",
      "\n",
      "False\n",
      "\n",
      "=============================\n",
      "     L1-relative Error %      \n",
      "=============================\n",
      "     mean     st. dev.  \n",
      "-----------------------------\n",
      "   14.3561    3.2209\n",
      "-----------------------------\n",
      "\n",
      "=============================\n",
      "     L2-relative Error %      \n",
      "=============================\n",
      "     mean     st. dev.  \n",
      "-----------------------------\n",
      "   15.9348    3.1676\n",
      "-----------------------------\n",
      "\n",
      "=============================\n",
      "[L1-relative Error list, L2-relative Error list ] %     \n",
      "=============================\n",
      "[[12.265425  12.342283 ]\n",
      " [13.904874  15.007377 ]\n",
      " [16.93993   17.81425  ]\n",
      " [ 7.0769377 10.173896 ]\n",
      " [12.3442135 13.631855 ]\n",
      " [19.17191   18.761293 ]\n",
      " [13.632792  16.037645 ]\n",
      " [14.823379  15.768578 ]\n",
      " [16.185266  18.325306 ]\n",
      " [17.215855  21.485191 ]]\n"
     ]
    },
    {
     "name": "stderr",
     "output_type": "stream",
     "text": [
      "\n"
     ]
    }
   ],
   "source": [
    "%run train.py \\\n",
    "    --datafile_path \"data/lorentz_N_100_h001_T10_demonstration.npy\" \\\n",
    "    --state_component 0 \\\n",
    "    --search_len 2 \\\n",
    "    --search_num 10 \\\n",
    "    --learning_rate 1e-3 \\\n",
    "    --use_scheduler True \\\n",
    "    --batch_size 200 \\\n",
    "    --epochs 10 \\\n",
    "    --early_stopping_epochs 80 \\\n",
    "    --run_name \"lorentz_demonstration\" \\\n",
    "    --plot_trajs \"\" \\\n",
    "    --device \"parallel\" "
   ]
  },
  {
   "cell_type": "markdown",
   "metadata": {},
   "source": [
    "## Infer the model with args"
   ]
  },
  {
   "cell_type": "markdown",
   "metadata": {},
   "source": [
    "Note: \n",
    "\n",
    "1) The trained model has been diligently trained\n",
    "\n",
    "2) The trained model doesn't require the instantialization of the model class. Instead, the model class along with state_dict are both stored in the mlflow location."
   ]
  },
  {
   "cell_type": "code",
   "execution_count": 6,
   "metadata": {},
   "outputs": [
    {
     "name": "stdout",
     "output_type": "stream",
     "text": [
      "Using GPU ID 0.\n"
     ]
    },
    {
     "name": "stdout",
     "output_type": "stream",
     "text": [
      "Shapes for LSTM-MIONet training input=(20000, 999, 1), x_n=(20000, 1), x_next=(20000, 1)\n",
      "Data memory size: 76 MB\n",
      "LSTM_MIONet(\n",
      "  (branch_1): MLP(\n",
      "    (net): ModuleList(\n",
      "      (0): Linear(in_features=1, out_features=200, bias=True)\n",
      "      (1): Linear(in_features=200, out_features=200, bias=True)\n",
      "      (2): ReLU()\n",
      "      (3): LayerNorm((200,), eps=1e-05, elementwise_affine=True)\n",
      "      (4): Linear(in_features=200, out_features=200, bias=True)\n",
      "    )\n",
      "  )\n",
      "  (branch_2): LSTM_MLP(\n",
      "    (net_1): ModuleList(\n",
      "      (0): Linear(in_features=1, out_features=200, bias=True)\n",
      "      (1): Linear(in_features=200, out_features=200, bias=True)\n",
      "      (2): ReLU()\n",
      "      (3): LayerNorm((200,), eps=1e-05, elementwise_affine=True)\n",
      "      (4): Linear(in_features=200, out_features=200, bias=True)\n",
      "    )\n",
      "    (lstm): LSTM(200, 10, num_layers=2, batch_first=True)\n",
      "    (net_2): ModuleList(\n",
      "      (0): Linear(in_features=10, out_features=200, bias=True)\n",
      "      (1): Linear(in_features=200, out_features=200, bias=True)\n",
      "      (2): ReLU()\n",
      "      (3): Linear(in_features=200, out_features=200, bias=True)\n",
      "    )\n",
      "  )\n",
      "  (trunk): MLP(\n",
      "    (net): ModuleList(\n",
      "      (0): Linear(in_features=1, out_features=200, bias=True)\n",
      "      (1): Linear(in_features=200, out_features=200, bias=True)\n",
      "      (2): ReLU()\n",
      "      (3): LayerNorm((200,), eps=1e-05, elementwise_affine=True)\n",
      "      (4): Linear(in_features=200, out_features=200, bias=True)\n",
      "    )\n",
      "  )\n",
      ")\n",
      "\n",
      "***** Testing with 20000 data samples*****\n",
      "\n",
      "\n",
      "=============================\n",
      "     L1-relative Error %      \n",
      "=============================\n",
      "     mean     st. dev.  \n",
      "-----------------------------\n",
      "    0.2416    0.1009\n",
      "-----------------------------\n",
      "\n",
      "=============================\n",
      "     L2-relative Error %      \n",
      "=============================\n",
      "     mean     st. dev.  \n",
      "-----------------------------\n",
      "    1.4441    0.9889\n",
      "-----------------------------\n",
      "\n",
      "=============================\n",
      "[L1-relative Error list, L2-relative Error list ] %     \n",
      "=============================\n",
      "[[0.1588638  1.178227  ]\n",
      " [0.22686806 1.2536384 ]\n",
      " [0.27392372 1.4820582 ]\n",
      " [0.17228577 0.41401625]\n",
      " [0.20732963 1.0923855 ]\n",
      " [0.1980206  1.6619494 ]\n",
      " [0.5257745  4.5807786 ]\n",
      " [0.20563407 1.0635462 ]\n",
      " [0.2669341  1.3993342 ]\n",
      " [0.30611676 2.0360224 ]\n",
      " [0.19938105 0.9720587 ]\n",
      " [0.13195126 0.46615362]\n",
      " [0.22546104 0.8905012 ]\n",
      " [0.23968224 1.133868  ]\n",
      " [0.17109904 0.49665603]\n",
      " [0.2698468  1.6865969 ]\n",
      " [0.1630991  0.4755356 ]\n",
      " [0.28142813 1.7938318 ]\n",
      " [0.2281552  0.9164365 ]\n",
      " [0.10316081 0.48127034]\n",
      " [0.10911284 0.40817228]\n",
      " [0.3743928  2.9606044 ]\n",
      " [0.40095186 2.844045  ]\n",
      " [0.29110402 2.272166  ]\n",
      " [0.39948332 2.8243659 ]\n",
      " [0.4426299  3.9041777 ]\n",
      " [0.42327818 3.3028846 ]\n",
      " [0.38370386 2.8993316 ]\n",
      " [0.12440742 0.5407219 ]\n",
      " [0.13644738 0.40170163]\n",
      " [0.34475368 2.0572867 ]\n",
      " [0.3976514  2.3329372 ]\n",
      " [0.16741736 0.41482434]\n",
      " [0.26180264 0.8835421 ]\n",
      " [0.3972418  3.1270313 ]\n",
      " [0.22436108 0.9551409 ]\n",
      " [0.1456936  0.5888726 ]\n",
      " [0.13502537 0.5247123 ]\n",
      " [0.17858548 0.7383573 ]\n",
      " [0.19927724 0.92323625]\n",
      " [0.12989232 0.82009274]\n",
      " [0.16689304 0.7731236 ]\n",
      " [0.2005472  0.56838554]\n",
      " [0.24308231 1.4554013 ]\n",
      " [0.12080573 0.31445202]\n",
      " [0.33369255 1.8995043 ]\n",
      " [0.3816765  2.384256  ]\n",
      " [0.19319789 0.8732175 ]\n",
      " [0.1133966  0.74055266]\n",
      " [0.516468   4.408394  ]\n",
      " [0.2644545  1.4439211 ]\n",
      " [0.14079306 0.35192075]\n",
      " [0.14629573 0.3074652 ]\n",
      " [0.35739872 2.7583387 ]\n",
      " [0.34107056 1.757378  ]\n",
      " [0.35302815 2.1430504 ]\n",
      " [0.13508764 0.31421253]\n",
      " [0.2820226  1.821407  ]\n",
      " [0.26794934 2.475654  ]\n",
      " [0.41108215 4.076394  ]\n",
      " [0.1861858  0.87549883]\n",
      " [0.16386372 0.7517394 ]\n",
      " [0.15834928 0.3061508 ]\n",
      " [0.09555097 0.3775397 ]\n",
      " [0.20303212 1.148477  ]\n",
      " [0.19585155 1.6719224 ]\n",
      " [0.15375622 0.95327115]\n",
      " [0.22959302 1.094913  ]\n",
      " [0.38566428 1.680962  ]\n",
      " [0.26561356 2.7088149 ]\n",
      " [0.35821238 2.8276336 ]\n",
      " [0.40746936 2.7570975 ]\n",
      " [0.35304746 1.8682575 ]\n",
      " [0.36397776 2.2318835 ]\n",
      " [0.19257733 1.8362025 ]\n",
      " [0.24405466 2.4167073 ]\n",
      " [0.19607751 0.9961062 ]\n",
      " [0.09414074 0.3777496 ]\n",
      " [0.21214083 1.5214807 ]\n",
      " [0.19912662 0.5565236 ]\n",
      " [0.06221969 0.42190236]\n",
      " [0.09808858 0.12992506]\n",
      " [0.29500625 2.4074006 ]\n",
      " [0.2634992  1.1948762 ]\n",
      " [0.17235793 0.6226819 ]\n",
      " [0.28159496 1.828142  ]\n",
      " [0.13278209 0.30250072]\n",
      " [0.20128965 0.8604593 ]\n",
      " [0.15013005 0.64169544]\n",
      " [0.33636424 2.2627273 ]\n",
      " [0.19794509 1.1897676 ]\n",
      " [0.17857344 0.5034971 ]\n",
      " [0.23841062 1.1642714 ]\n",
      " [0.31065604 1.8294219 ]\n",
      " [0.1065063  0.5192766 ]\n",
      " [0.28078073 1.5210904 ]\n",
      " [0.21558136 1.1198865 ]\n",
      " [0.15948473 0.98375696]\n",
      " [0.25620407 1.3625021 ]\n",
      " [0.3713343  2.5177069 ]]\n"
     ]
    },
    {
     "data": {
      "image/png": "[encoded data removed]",
      "text/plain": [
       "<Figure size 640x480 with 1 Axes>"
      ]
     },
     "metadata": {},
     "output_type": "display_data"
    }
   ],
   "source": [
    "%run infer.py \\\n",
    "    --datafile_path \"data/lorentz_N_100_h001_T10_demonstration.npy\" \\\n",
    "    --trained_model_path \"runs:/09ea52ba93d54fc4b4efb715709e1ff7/best_model_epoch_381\" \\\n",
    "    --state_component 0 \\\n",
    "    --search_len 2 \\\n",
    "    --search_num 200 \\\n",
    "    --batch_size 100 \\\n",
    "    --plot_trajs \"True\" \\\n",
    "    --plot_idxs 0 \\\n",
    "    --device 0 \\\n",
    "    --verbose \"True\""
   ]
  }
 ],
 "metadata": {
  "kernelspec": {
   "display_name": "Python 3",
   "language": "python",
   "name": "python3"
  },
  "language_info": {
   "codemirror_mode": {
    "name": "ipython",
    "version": 3
   },
   "file_extension": ".py",
   "mimetype": "text/x-python",
   "name": "python",
   "nbconvert_exporter": "python",
   "pygments_lexer": "ipython3",
   "version": "3.10.13"
  },
  "orig_nbformat": 4
 },
 "nbformat": 4,
 "nbformat_minor": 2
}
