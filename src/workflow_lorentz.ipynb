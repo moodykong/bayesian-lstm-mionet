{
 "cells": [
  {
   "cell_type": "markdown",
   "metadata": {},
   "source": [
    "# Generate Lorentz data"
   ]
  },
  {
   "cell_type": "markdown",
   "metadata": {},
   "source": [
    "## Print args of database_generator.py"
   ]
  },
  {
   "cell_type": "code",
   "execution_count": 3,
   "metadata": {},
   "outputs": [
    {
     "name": "stdout",
     "output_type": "stream",
     "text": [
      "\n",
      "=====================\n",
      "usage: database_generator.py [-h] [--ode_system {pendulum,lorentz,Ausgrid}]\n",
      "                             [--t_max T_MAX] [--step_size STEP_SIZE]\n",
      "                             [--n_sample N_SAMPLE]\n",
      "                             [--x_init_pts [X_INIT_PTS ...]]\n",
      "                             [--ctr_func {designate,gaussian}]\n",
      "                             [--Ausgrid_customer_id [AUSGRID_CUSTOMER_ID ...]]\n",
      "                             [--Ausgrid_start_date AUSGRID_START_DATE]\n",
      "                             [--Ausgrid_end_date AUSGRID_END_DATE]\n",
      "                             [--Ausgrid_category {GG,CG}]\n",
      "                             [--Ausgrid_delta_t_idxs AUSGRID_DELTA_T_IDXS]\n",
      "                             [--datafile_path DATAFILE_PATH]\n",
      "\n",
      "options:\n",
      "  -h, --help            show this help message and exit\n",
      "  --ode_system {pendulum,lorentz,Ausgrid}\n",
      "                        ODE system to use.\n",
      "  --t_max T_MAX         Maximum time (float) of the trajectory.\n",
      "  --step_size STEP_SIZE\n",
      "                        Step size (float) of the trajectory.\n",
      "  --n_sample N_SAMPLE   Number of the trajectories to generate.\n",
      "  --x_init_pts [X_INIT_PTS ...]\n",
      "                        The range of initial points of the trajectories. Two\n",
      "                        floats define the range of each state component.\n",
      "  --ctr_func {designate,gaussian}\n",
      "                        Control function to use.\n",
      "  --Ausgrid_customer_id [AUSGRID_CUSTOMER_ID ...]\n",
      "                        Customer ID of the Ausgrid dataset.\n",
      "  --Ausgrid_start_date AUSGRID_START_DATE\n",
      "                        Start date of the Ausgrid dataset, e.g., 2010-7-1.\n",
      "  --Ausgrid_end_date AUSGRID_END_DATE\n",
      "                        End date of the Ausgrid dataset, e.g., 2011-6-30.\n",
      "  --Ausgrid_category {GG,CG}\n",
      "                        Category of the Ausgrid dataset.\n",
      "  --Ausgrid_delta_t_idxs AUSGRID_DELTA_T_IDXS\n",
      "                        Time interval of the Ausgrid dataset.\n",
      "  --datafile_path DATAFILE_PATH\n",
      "                        Path to save the data.\n",
      "\n",
      "=====================\n"
     ]
    }
   ],
   "source": [
    "print(\"\\n=====================\")\n",
    "%run database_generator.py --help\n",
    "print(\"\\n=====================\")\n"
   ]
  },
  {
   "cell_type": "markdown",
   "metadata": {},
   "source": [
    "## Generate Lorentz data with args"
   ]
  },
  {
   "cell_type": "code",
   "execution_count": 5,
   "metadata": {},
   "outputs": [
    {
     "name": "stdout",
     "output_type": "stream",
     "text": [
      "\n",
      "=====================\n",
      "Running database_generator.py with arguments:\n"
     ]
    },
    {
     "name": "stderr",
     "output_type": "stream",
     "text": [
      "Generating 100 data ...: 100%|██████████| 100/100 [00:19<00:00,  5.19it/s]"
     ]
    },
    {
     "name": "stdout",
     "output_type": "stream",
     "text": [
      "Data saved in data/lorentz_N_100_h001_T10_demonstration.npy.\n",
      "\n",
      "=====================\n"
     ]
    },
    {
     "name": "stderr",
     "output_type": "stream",
     "text": [
      "\n"
     ]
    }
   ],
   "source": [
    "print(\"\\n=====================\")\n",
    "print(\"Running database_generator.py with arguments:\")\n",
    "%run database_generator.py \\\n",
    "    --ode_system \"lorentz\" \\\n",
    "    --step_size 0.01 \\\n",
    "    --n_sample 100 \\\n",
    "    --t_max 10 \\\n",
    "    --x_init_pts -17 20 -23 28 0 50 \\\n",
    "    --datafile_path \"data/lorentz_N_100_h001_T10_demonstration.npy\"\n",
    "print(\"\\n=====================\")"
   ]
  },
  {
   "cell_type": "markdown",
   "metadata": {},
   "source": [
    "# Train the model"
   ]
  },
  {
   "cell_type": "markdown",
   "metadata": {},
   "source": [
    "## Print the args of train.py"
   ]
  },
  {
   "cell_type": "code",
   "execution_count": 1,
   "metadata": {},
   "outputs": [
    {
     "name": "stderr",
     "output_type": "stream",
     "text": [
      "/usr/local/lib/python3.10/site-packages/tqdm/auto.py:21: TqdmWarning: IProgress not found. Please update jupyter and ipywidgets. See https://ipywidgets.readthedocs.io/en/stable/user_install.html\n",
      "  from .autonotebook import tqdm as notebook_tqdm\n"
     ]
    },
    {
     "name": "stdout",
     "output_type": "stream",
     "text": [
      "usage: train.py [-h] [--datafile_path DATAFILE_PATH]\n",
      "                [--state_component STATE_COMPONENT] [--search_len SEARCH_LEN]\n",
      "                [--search_num SEARCH_NUM] [--search_random SEARCH_RANDOM]\n",
      "                [--t_max T_MAX] [--offset OFFSET] [--verbose VERBOSE]\n",
      "                [--scale_mode SCALE_MODE] [--learning_rate LEARNING_RATE]\n",
      "                [--batch_size BATCH_SIZE] [--epochs EPOCHS]\n",
      "                [--validate_freq VALIDATE_FREQ]\n",
      "                [--use_scheduler USE_SCHEDULER]\n",
      "                [--scheduler_patience SCHEDULER_PATIENCE]\n",
      "                [--scheduler_factor SCHEDULER_FACTOR]\n",
      "                [--loss_function LOSS_FUNCTION]\n",
      "                [--early_stopping_epochs EARLY_STOPPING_EPOCHS]\n",
      "                [--save_model SAVE_MODEL] [--checkpoint_path CHECKPOINT_PATH]\n",
      "                [--monitor_metric {val_loss,train_loss}]\n",
      "                [--use_trained_model USE_TRAINED_MODEL]\n",
      "                [--trained_model_path TRAINED_MODEL_PATH]\n",
      "                [--device {0,1,2,3,4,5,6,7,8,9,10,parallel,cpu}]\n",
      "                [--experiment_name EXPERIMENT_NAME] [--run_name RUN_NAME]\n",
      "                [--plot_trajs PLOT_TRAJS] [--plot_idxs [PLOT_IDXS ...]]\n",
      "                [--figure_path FIGURE_PATH]\n",
      "                [--branch_state_width BRANCH_STATE_WIDTH]\n",
      "                [--branch_state_depth BRANCH_STATE_DEPTH]\n",
      "                [--branch_state_activation BRANCH_STATE_ACTIVATION]\n",
      "                [--branch_memory_width BRANCH_MEMORY_WIDTH]\n",
      "                [--branch_memory_depth BRANCH_MEMORY_DEPTH]\n",
      "                [--branch_memory_lstm_size BRANCH_MEMORY_LSTM_SIZE]\n",
      "                [--branch_memory_lstm_layer_num BRANCH_MEMORY_LSTM_LAYER_NUM]\n",
      "                [--branch_memory_activation BRANCH_MEMORY_ACTIVATION]\n",
      "                [--trunk_width TRUNK_WIDTH] [--trunk_depth TRUNK_DEPTH]\n",
      "                [--trunk_activation TRUNK_ACTIVATION]\n",
      "\n",
      "options:\n",
      "  -h, --help            show this help message and exit\n",
      "  --datafile_path DATAFILE_PATH\n",
      "                        Path to the datafile.\n",
      "  --state_component STATE_COMPONENT\n",
      "                        Index of the state component to train.\n",
      "  --search_len SEARCH_LEN\n",
      "                        Length of the search length (h_max). It is an integer\n",
      "                        of points.\n",
      "  --search_num SEARCH_NUM\n",
      "                        Number of the search points on each trajectory (N_h).\n",
      "                        It is an integer of points.\n",
      "  --search_random SEARCH_RANDOM\n",
      "                        Whether to sample the search points randomly. If\n",
      "                        False, the search points are evenly sampled. Empty\n",
      "                        string means False. Otherwise, the value is True.\n",
      "  --t_max T_MAX         Maximum time (float) of the trajectory.\n",
      "  --offset OFFSET       Offset is the minimum length (integer of points) of\n",
      "                        trajectory memory.\n",
      "  --verbose VERBOSE     Whether to print the training process. Empty string\n",
      "                        means False. Otherwise, the value is True.\n",
      "  --scale_mode SCALE_MODE\n",
      "                        Whether to scale the data. If None, no scaling is\n",
      "                        applied. If 'standard', the data is scaled to have\n",
      "                        zero mean and unit variance. If 'minmax', the data is\n",
      "                        scaled to be in the range of [0, 1].\n",
      "  --learning_rate LEARNING_RATE\n",
      "                        Learning rate of the optimizer.\n",
      "  --batch_size BATCH_SIZE\n",
      "                        Batch size of the training process.\n",
      "  --epochs EPOCHS       Number of epochs to train.\n",
      "  --validate_freq VALIDATE_FREQ\n",
      "                        Frequency of validation.\n",
      "  --use_scheduler USE_SCHEDULER\n",
      "                        Whether to use the scheduler. Empty string means\n",
      "                        False. Otherwise, the value is True.\n",
      "  --scheduler_patience SCHEDULER_PATIENCE\n",
      "                        Patience of the scheduler.\n",
      "  --scheduler_factor SCHEDULER_FACTOR\n",
      "                        Factor of the scheduler.\n",
      "  --loss_function LOSS_FUNCTION\n",
      "                        Loss function to use.\n",
      "  --early_stopping_epochs EARLY_STOPPING_EPOCHS\n",
      "                        Number of epochs to early stop.\n",
      "  --save_model SAVE_MODEL\n",
      "                        Whether to save the model. Empty string means False.\n",
      "                        Otherwise, the value is True.\n",
      "  --checkpoint_path CHECKPOINT_PATH\n",
      "                        Path to save the checkpoints.\n",
      "  --monitor_metric {val_loss,train_loss}\n",
      "                        Metric to monitor.\n",
      "  --use_trained_model USE_TRAINED_MODEL\n",
      "                        Whether to use previously trained model. Empty string\n",
      "                        means False. Otherwise, the value is True.\n",
      "  --trained_model_path TRAINED_MODEL_PATH\n",
      "                        Path to the previously trained model.\n",
      "  --device {0,1,2,3,4,5,6,7,8,9,10,parallel,cpu}\n",
      "                        Device to use. Enter an integer to use a specific GPU\n",
      "                        ID. Enter 'parallel' to use all available GPUs. Enter\n",
      "                        'cpu' to use CPU.\n",
      "  --experiment_name EXPERIMENT_NAME\n",
      "                        Name of the experiment.\n",
      "  --run_name RUN_NAME   Name of the run for display.\n",
      "  --plot_trajs PLOT_TRAJS\n",
      "                        Whether to plot the test trajectories. Empty string\n",
      "                        means False. Otherwise, the value is True.\n",
      "  --plot_idxs [PLOT_IDXS ...]\n",
      "                        Indices of the test trajectories to plot.\n",
      "  --figure_path FIGURE_PATH\n",
      "                        Path to save the figures.\n",
      "  --branch_state_width BRANCH_STATE_WIDTH\n",
      "                        Width of the state branch.\n",
      "  --branch_state_depth BRANCH_STATE_DEPTH\n",
      "                        Depth of the state branch.\n",
      "  --branch_state_activation BRANCH_STATE_ACTIVATION\n",
      "                        Activation function of the state branch.\n",
      "  --branch_memory_width BRANCH_MEMORY_WIDTH\n",
      "                        Width of the memory branch.\n",
      "  --branch_memory_depth BRANCH_MEMORY_DEPTH\n",
      "                        Depth of the memory branch.\n",
      "  --branch_memory_lstm_size BRANCH_MEMORY_LSTM_SIZE\n",
      "                        Size of the LSTM in the memory branch.\n",
      "  --branch_memory_lstm_layer_num BRANCH_MEMORY_LSTM_LAYER_NUM\n",
      "                        Number of the LSTM layers in the memory branch.\n",
      "  --branch_memory_activation BRANCH_MEMORY_ACTIVATION\n",
      "                        Activation function of the memory branch.\n",
      "  --trunk_width TRUNK_WIDTH\n",
      "                        Width of the trunk.\n",
      "  --trunk_depth TRUNK_DEPTH\n",
      "                        Depth of the trunk.\n",
      "  --trunk_activation TRUNK_ACTIVATION\n",
      "                        Activation function of the trunk.\n"
     ]
    }
   ],
   "source": [
    "%run train.py --help"
   ]
  },
  {
   "cell_type": "markdown",
   "metadata": {},
   "source": [
    "## Train the model with args"
   ]
  },
  {
   "cell_type": "markdown",
   "metadata": {},
   "source": [
    "About mlflow: the model is tracked and stored using mlflow. It helps store the training args, training metrics (such as loss), trained models, codes, etc.\n",
    "\n",
    "It has been installed in this devcontainer. To use its ui inferface:\n",
    "\n",
    "cd /PENDULUM/src\n",
    "\n",
    "mlflow ui\n",
    "\n",
    "Then visit 127.0.0.1:5000"
   ]
  },
  {
   "cell_type": "markdown",
   "metadata": {},
   "source": [
    "Please do **NOT** run the train.py in **Jupyter notebook** if **you are doing large scale training** (not including the demonstration training shown below) as it will occupy significant memory and the memory will not be released unless you restart the Jupyter kernal.\n",
    "\n",
    "The code below is just **for demonstration** how the train.py should be used. The trained results have large errors because I just train 10 epochs here.\n"
   ]
  },
  {
   "cell_type": "code",
   "execution_count": 1,
   "metadata": {},
   "outputs": [
    {
     "name": "stderr",
     "output_type": "stream",
     "text": [
      "/usr/local/lib/python3.10/site-packages/tqdm/auto.py:21: TqdmWarning: IProgress not found. Please update jupyter and ipywidgets. See https://ipywidgets.readthedocs.io/en/stable/user_install.html\n",
      "  from .autonotebook import tqdm as notebook_tqdm\n"
     ]
    },
    {
     "name": "stdout",
     "output_type": "stream",
     "text": [
      "Using all available 2 GPUs in parallel.\n",
      "Shapes for LSTM-MIONet training input=(900, 999, 1), x_n=(900, 1), x_next=(900, 1)\n",
      "Shapes for LSTM-MIONet training input=(100, 999, 1), x_n=(100, 1), x_next=(100, 1)\n",
      "Data memory size: 3 MB\n",
      "Data memory size: 0 MB\n",
      "LSTM_MIONet(\n",
      "  (branch_1): MLP(\n",
      "    (net): ModuleList(\n",
      "      (0): Linear(in_features=1, out_features=200, bias=True)\n",
      "      (1): Linear(in_features=200, out_features=200, bias=True)\n",
      "      (2): ReLU()\n",
      "      (3): LayerNorm((200,), eps=1e-05, elementwise_affine=True)\n",
      "      (4): Linear(in_features=200, out_features=200, bias=True)\n",
      "    )\n",
      "  )\n",
      "  (branch_2): LSTM_MLP(\n",
      "    (net_1): ModuleList(\n",
      "      (0): Linear(in_features=1, out_features=200, bias=True)\n",
      "      (1): Linear(in_features=200, out_features=200, bias=True)\n",
      "      (2): ReLU()\n",
      "      (3): LayerNorm((200,), eps=1e-05, elementwise_affine=True)\n",
      "      (4): Linear(in_features=200, out_features=200, bias=True)\n",
      "    )\n",
      "    (lstm): LSTM(200, 100, num_layers=2, batch_first=True)\n",
      "    (net_2): ModuleList(\n",
      "      (0): Linear(in_features=100, out_features=200, bias=True)\n",
      "      (1): Linear(in_features=200, out_features=200, bias=True)\n",
      "      (2): ReLU()\n",
      "      (3): Linear(in_features=200, out_features=200, bias=True)\n",
      "    )\n",
      "  )\n",
      "  (trunk): MLP(\n",
      "    (net): ModuleList(\n",
      "      (0): Linear(in_features=1, out_features=200, bias=True)\n",
      "      (1): Linear(in_features=200, out_features=200, bias=True)\n",
      "      (2): ReLU()\n",
      "      (3): LayerNorm((200,), eps=1e-05, elementwise_affine=True)\n",
      "      (4): Linear(in_features=200, out_features=200, bias=True)\n",
      "    )\n",
      "  )\n",
      ")\n",
      "\n",
      "***** Training with Adam Optimizer for 10 epochs and using 900 data samples*****\n",
      "\n"
     ]
    },
    {
     "name": "stderr",
     "output_type": "stream",
     "text": [
      " 20%|██        | 2/10 [00:04<00:16,  2.06s/it, Train=61.7, Val=68.2, Best_train=61.7, Best_Val=68.2]/usr/local/lib/python3.10/site-packages/_distutils_hack/__init__.py:18: UserWarning: Distutils was imported before Setuptools, but importing Setuptools also replaces the `distutils` module in `sys.modules`. This may lead to undesirable behaviors or errors. To avoid these issues, avoid using distutils directly, ensure that setuptools is installed in the traditional way (e.g. not an editable install), and/or make sure that setuptools is always imported before distutils.\n",
      "  warnings.warn(\n",
      "/usr/local/lib/python3.10/site-packages/_distutils_hack/__init__.py:33: UserWarning: Setuptools is replacing distutils.\n",
      "  warnings.warn(\"Setuptools is replacing distutils.\")\n",
      "100%|██████████| 10/10 [00:26<00:00,  2.69s/it, Train=1.8, Val=1.6, Best_train=1.8, Best_Val=1.6]   "
     ]
    },
    {
     "name": "stdout",
     "output_type": "stream",
     "text": [
      "\n",
      "***** Testing with 100 data samples*****\n",
      "\n",
      "False\n",
      "\n",
      "=============================\n",
      "     L1-relative Error %      \n",
      "=============================\n",
      "     mean     st. dev.  \n",
      "-----------------------------\n",
      "   14.3561    3.2209\n",
      "-----------------------------\n",
      "\n",
      "=============================\n",
      "     L2-relative Error %      \n",
      "=============================\n",
      "     mean     st. dev.  \n",
      "-----------------------------\n",
      "   15.9348    3.1676\n",
      "-----------------------------\n",
      "\n",
      "=============================\n",
      "[L1-relative Error list, L2-relative Error list ] %     \n",
      "=============================\n",
      "[[12.265425  12.342283 ]\n",
      " [13.904874  15.007377 ]\n",
      " [16.93993   17.81425  ]\n",
      " [ 7.0769377 10.173896 ]\n",
      " [12.3442135 13.631855 ]\n",
      " [19.17191   18.761293 ]\n",
      " [13.632792  16.037645 ]\n",
      " [14.823379  15.768578 ]\n",
      " [16.185266  18.325306 ]\n",
      " [17.215855  21.485191 ]]\n"
     ]
    },
    {
     "name": "stderr",
     "output_type": "stream",
     "text": [
      "\n"
     ]
    }
   ],
   "source": [
    "%run train.py \\\n",
    "    --datafile_path \"data/lorentz_N_100_h001_T10_demonstration.npy\" \\\n",
    "    --state_component 0 \\\n",
    "    --search_len 2 \\\n",
    "    --search_num 10 \\\n",
    "    --learning_rate 1e-3 \\\n",
    "    --use_scheduler True \\\n",
    "    --batch_size 200 \\\n",
    "    --epochs 10 \\\n",
    "    --early_stopping_epochs 80 \\\n",
    "    --run_name \"lorentz_demonstration\" \\\n",
    "    --plot_trajs \"\" \\\n",
    "    --device \"parallel\" "
   ]
  },
  {
   "cell_type": "markdown",
   "metadata": {},
   "source": [
    "## Infer the model with args"
   ]
  },
  {
   "cell_type": "markdown",
   "metadata": {},
   "source": [
    "Note: \n",
    "\n",
    "1) The trained model has been diligently trained\n",
    "\n",
    "2) The trained model doesn't require the instantialization of the model class. Instead, the model class along with state_dict are both stored in the mlflow location."
   ]
  },
  {
   "cell_type": "code",
   "execution_count": 2,
   "metadata": {},
   "outputs": [
    {
     "name": "stdout",
     "output_type": "stream",
     "text": [
      "Using GPU ID 0.\n",
      "Shapes for LSTM-MIONet training input=(20000, 1999, 1), x_n=(20000, 1), x_next=(20000, 1)\n",
      "Data memory size: 152 MB\n",
      "models:/lorentz/latest\n",
      "LSTM_MIONet(\n",
      "  (branch_1): MLP(\n",
      "    (net): ModuleList(\n",
      "      (0): Linear(in_features=1, out_features=200, bias=True)\n",
      "      (1): Linear(in_features=200, out_features=200, bias=True)\n",
      "      (2): ReLU()\n",
      "      (3): LayerNorm((200,), eps=1e-05, elementwise_affine=True)\n",
      "      (4): Linear(in_features=200, out_features=200, bias=True)\n",
      "    )\n",
      "  )\n",
      "  (branch_2): LSTM_MLP(\n",
      "    (net_1): ModuleList(\n",
      "      (0): Linear(in_features=1, out_features=200, bias=True)\n",
      "      (1): Linear(in_features=200, out_features=200, bias=True)\n",
      "      (2): ReLU()\n",
      "      (3): LayerNorm((200,), eps=1e-05, elementwise_affine=True)\n",
      "      (4): Linear(in_features=200, out_features=200, bias=True)\n",
      "    )\n",
      "    (lstm): LSTM(200, 10, num_layers=2, batch_first=True)\n",
      "    (net_2): ModuleList(\n",
      "      (0): Linear(in_features=10, out_features=200, bias=True)\n",
      "      (1): Linear(in_features=200, out_features=200, bias=True)\n",
      "      (2): ReLU()\n",
      "      (3): Linear(in_features=200, out_features=200, bias=True)\n",
      "    )\n",
      "  )\n",
      "  (trunk): MLP(\n",
      "    (net): ModuleList(\n",
      "      (0): Linear(in_features=1, out_features=200, bias=True)\n",
      "      (1): Linear(in_features=200, out_features=200, bias=True)\n",
      "      (2): ReLU()\n",
      "      (3): LayerNorm((200,), eps=1e-05, elementwise_affine=True)\n",
      "      (4): Linear(in_features=200, out_features=200, bias=True)\n",
      "    )\n",
      "  )\n",
      ")\n",
      "\n",
      "***** Testing with 20000 data samples*****\n",
      "\n",
      "\n",
      "=============================\n",
      "     L1-relative Error %      \n",
      "=============================\n",
      "     mean     st. dev.  \n",
      "-----------------------------\n",
      "    0.2199    0.0837\n",
      "-----------------------------\n",
      "\n",
      "=============================\n",
      "     L2-relative Error %      \n",
      "=============================\n",
      "     mean     st. dev.  \n",
      "-----------------------------\n",
      "    1.2949    0.9260\n",
      "-----------------------------\n",
      "\n",
      "=============================\n",
      "[L1-relative Error list, L2-relative Error list ] %     \n",
      "=============================\n",
      "[[0.16641884 0.6022395 ]\n",
      " [0.21332888 1.0533522 ]\n",
      " [0.16944243 0.66084796]\n",
      " [0.34338996 2.3918233 ]\n",
      " [0.23205703 1.3131169 ]\n",
      " [0.15510109 0.41984203]\n",
      " [0.22733763 0.82821035]\n",
      " [0.12560362 0.24761741]\n",
      " [0.25263065 1.7048773 ]\n",
      " [0.31290495 2.2946618 ]\n",
      " [0.20242408 1.2290556 ]\n",
      " [0.5105715  4.554582  ]\n",
      " [0.17056803 0.7185145 ]\n",
      " [0.14313962 0.5083717 ]\n",
      " [0.421731   3.0629826 ]\n",
      " [0.09773748 0.21757963]\n",
      " [0.1858748  0.7408787 ]\n",
      " [0.13430925 0.29568496]\n",
      " [0.33402336 2.7466805 ]\n",
      " [0.15741982 0.5796917 ]\n",
      " [0.21978348 1.2372092 ]\n",
      " [0.09671957 0.97867817]\n",
      " [0.24629538 1.4450905 ]\n",
      " [0.16869934 0.7339592 ]\n",
      " [0.27085963 1.6833268 ]\n",
      " [0.14247222 0.6497327 ]\n",
      " [0.18545908 0.6968347 ]\n",
      " [0.35586217 3.3502936 ]\n",
      " [0.37329102 3.1471863 ]\n",
      " [0.14463963 0.5056649 ]\n",
      " [0.31812444 2.7291129 ]\n",
      " [0.17752267 0.55925536]\n",
      " [0.25753248 1.2184619 ]\n",
      " [0.2278989  1.3370197 ]\n",
      " [0.13592052 0.26390186]\n",
      " [0.22403482 1.0286888 ]\n",
      " [0.32303438 2.2731745 ]\n",
      " [0.16211878 0.5237031 ]\n",
      " [0.15682462 0.55781156]\n",
      " [0.22565334 1.2664138 ]\n",
      " [0.12082439 0.2009888 ]\n",
      " [0.17793016 1.4870067 ]\n",
      " [0.16031013 0.5297637 ]\n",
      " [0.23810731 1.4351642 ]\n",
      " [0.24504243 1.7470561 ]\n",
      " [0.18034874 0.7225226 ]\n",
      " [0.17788263 0.65929925]\n",
      " [0.11032664 0.29279593]\n",
      " [0.24331531 1.5133698 ]\n",
      " [0.2386522  1.4804406 ]\n",
      " [0.2862037  2.2412477 ]\n",
      " [0.17598598 0.76174223]\n",
      " [0.15402722 0.6515504 ]\n",
      " [0.22783321 0.8623935 ]\n",
      " [0.15565678 0.8877819 ]\n",
      " [0.15746284 0.8672544 ]\n",
      " [0.4899147  4.251794  ]\n",
      " [0.20653772 1.2707632 ]\n",
      " [0.4716448  4.005287  ]\n",
      " [0.29069003 2.1456068 ]\n",
      " [0.23988174 1.4773562 ]\n",
      " [0.3526055  2.5392175 ]\n",
      " [0.27769846 1.8041544 ]\n",
      " [0.121628   0.14880635]\n",
      " [0.2566809  1.7577473 ]\n",
      " [0.10294359 0.121493  ]\n",
      " [0.15419114 0.4053677 ]\n",
      " [0.30299962 1.9575285 ]\n",
      " [0.27900967 2.061766  ]\n",
      " [0.19036804 0.7260355 ]\n",
      " [0.21988289 1.3985943 ]\n",
      " [0.27522594 2.1863167 ]\n",
      " [0.30626708 2.1565666 ]\n",
      " [0.14583081 0.6953727 ]\n",
      " [0.17141697 0.4962878 ]\n",
      " [0.12848252 0.5348405 ]\n",
      " [0.20405385 1.059735  ]\n",
      " [0.25741804 1.4244554 ]\n",
      " [0.1834292  0.94445807]\n",
      " [0.23143709 1.3388573 ]\n",
      " [0.12261976 0.16705221]\n",
      " [0.14278716 0.36719555]\n",
      " [0.35998422 2.5549874 ]\n",
      " [0.14960307 0.36809832]\n",
      " [0.18875295 2.0586188 ]\n",
      " [0.2826351  2.5893385 ]\n",
      " [0.24690269 1.5449507 ]\n",
      " [0.19539554 1.4778045 ]\n",
      " [0.15899633 0.6568067 ]\n",
      " [0.318486   2.3720646 ]\n",
      " [0.17278557 0.67125225]\n",
      " [0.19741067 1.0035155 ]\n",
      " [0.20041254 0.98612875]\n",
      " [0.15312564 0.47926706]\n",
      " [0.20431666 1.4648918 ]\n",
      " [0.26171866 1.658751  ]\n",
      " [0.28168648 1.8625796 ]\n",
      " [0.16745749 0.57950824]\n",
      " [0.136727   0.27133685]\n",
      " [0.17043023 0.74990463]]\n"
     ]
    },
    {
     "data": {
      "image/png": "[encoded data removed]",
      "text/plain": [
       "<Figure size 640x480 with 1 Axes>"
      ]
     },
     "metadata": {},
     "output_type": "display_data"
    }
   ],
   "source": [
    "%run infer.py \\\n",
    "    --datafile_path \"data/lorentz_N_100_h001_T20.npy\" \\\n",
    "    --trained_model_path \"models:/lorentz/latest\" \\\n",
    "    --state_component 0 \\\n",
    "    --search_len 2 \\\n",
    "    --search_num 200 \\\n",
    "    --batch_size 100 \\\n",
    "    --plot_trajs \"True\" \\\n",
    "    --plot_idxs 0 \\\n",
    "    --device 0 \\\n",
    "    --verbose \"True\""
   ]
  }
 ],
 "metadata": {
  "kernelspec": {
   "display_name": "Python 3",
   "language": "python",
   "name": "python3"
  },
  "language_info": {
   "codemirror_mode": {
    "name": "ipython",
    "version": 3
   },
   "file_extension": ".py",
   "mimetype": "text/x-python",
   "name": "python",
   "nbconvert_exporter": "python",
   "pygments_lexer": "ipython3",
   "version": "3.10.13"
  },
  "orig_nbformat": 4
 },
 "nbformat": 4,
 "nbformat_minor": 2
}
