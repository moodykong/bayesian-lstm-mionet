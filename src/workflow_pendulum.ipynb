{
 "cells": [
  {
   "cell_type": "markdown",
   "metadata": {},
   "source": [
    "# Generate pendulum data"
   ]
  },
  {
   "cell_type": "markdown",
   "metadata": {},
   "source": [
    "## Print args of database_generator.py"
   ]
  },
  {
   "cell_type": "code",
   "execution_count": 3,
   "metadata": {},
   "outputs": [
    {
     "name": "stdout",
     "output_type": "stream",
     "text": [
      "\n",
      "=====================\n",
      "usage: database_generator.py [-h] [--ode_system {pendulum,lorentz,Ausgrid}]\n",
      "                             [--t_max T_MAX] [--step_size STEP_SIZE]\n",
      "                             [--n_sample N_SAMPLE]\n",
      "                             [--x_init_pts [X_INIT_PTS ...]]\n",
      "                             [--ctr_func {designate,gaussian}]\n",
      "                             [--Ausgrid_customer_id [AUSGRID_CUSTOMER_ID ...]]\n",
      "                             [--Ausgrid_start_date AUSGRID_START_DATE]\n",
      "                             [--Ausgrid_end_date AUSGRID_END_DATE]\n",
      "                             [--Ausgrid_category {GG,CG}]\n",
      "                             [--Ausgrid_delta_t_idxs AUSGRID_DELTA_T_IDXS]\n",
      "                             [--datafile_path DATAFILE_PATH]\n",
      "\n",
      "options:\n",
      "  -h, --help            show this help message and exit\n",
      "  --ode_system {pendulum,lorentz,Ausgrid}\n",
      "                        ODE system to use.\n",
      "  --t_max T_MAX         Maximum time (float) of the trajectory.\n",
      "  --step_size STEP_SIZE\n",
      "                        Step size (float) of the trajectory.\n",
      "  --n_sample N_SAMPLE   Number of the trajectories to generate.\n",
      "  --x_init_pts [X_INIT_PTS ...]\n",
      "                        The range of initial points of the trajectories. Two\n",
      "                        floats define the range of each state component.\n",
      "  --ctr_func {designate,gaussian}\n",
      "                        Control function to use.\n",
      "  --Ausgrid_customer_id [AUSGRID_CUSTOMER_ID ...]\n",
      "                        Customer ID of the Ausgrid dataset.\n",
      "  --Ausgrid_start_date AUSGRID_START_DATE\n",
      "                        Start date of the Ausgrid dataset, e.g., 2010-7-1.\n",
      "  --Ausgrid_end_date AUSGRID_END_DATE\n",
      "                        End date of the Ausgrid dataset, e.g., 2011-6-30.\n",
      "  --Ausgrid_category {GG,CG}\n",
      "                        Category of the Ausgrid dataset.\n",
      "  --Ausgrid_delta_t_idxs AUSGRID_DELTA_T_IDXS\n",
      "                        Time interval of the Ausgrid dataset.\n",
      "  --datafile_path DATAFILE_PATH\n",
      "                        Path to save the data.\n",
      "\n",
      "=====================\n"
     ]
    }
   ],
   "source": [
    "print(\"\\n=====================\")\n",
    "%run database_generator.py --help\n",
    "print(\"\\n=====================\")\n"
   ]
  },
  {
   "cell_type": "markdown",
   "metadata": {},
   "source": [
    "## Generate pendulum data with args"
   ]
  },
  {
   "cell_type": "code",
   "execution_count": 11,
   "metadata": {},
   "outputs": [
    {
     "name": "stdout",
     "output_type": "stream",
     "text": [
      "\n",
      "=====================\n",
      "Running database_generator.py with arguments:\n"
     ]
    },
    {
     "name": "stderr",
     "output_type": "stream",
     "text": []
    },
    {
     "name": "stderr",
     "output_type": "stream",
     "text": [
      "/LSTM-MIONet/src/config/data_config.py:55: RuntimeWarning: invalid value encountered in subtract\n",
      "  u - b * omega - 0.5 * m * l * g * np.sin(theta)\n",
      "/LSTM-MIONet/src/config/data_config.py:55: RuntimeWarning: invalid value encountered in sin\n",
      "  u - b * omega - 0.5 * m * l * g * np.sin(theta)\n",
      "Generating 100 data ...: 100%|██████████| 100/100 [00:23<00:00,  4.28it/s]"
     ]
    },
    {
     "name": "stdout",
     "output_type": "stream",
     "text": [
      "Data saved in data/pendulum_ctr_grf_N_100_h001_T10_demonstration.npy.\n",
      "\n",
      "=====================\n"
     ]
    },
    {
     "name": "stderr",
     "output_type": "stream",
     "text": [
      "\n"
     ]
    }
   ],
   "source": [
    "print(\"\\n=====================\")\n",
    "print(\"Running database_generator.py with arguments:\")\n",
    "%run database_generator.py \\\n",
    "    --ode_system \"pendulum\" \\\n",
    "    --ctr_func \"gaussian\" \\\n",
    "    --step_size 0.01 \\\n",
    "    --n_sample 100 \\\n",
    "    --t_max 10 \\\n",
    "    --x_init_pts -3.14 3.14 -8 8 \\\n",
    "    --datafile_path \"data/pendulum_ctr_grf_N_100_h001_T10_demonstration.npy\"\n",
    "print(\"\\n=====================\")"
   ]
  },
  {
   "cell_type": "markdown",
   "metadata": {},
   "source": [
    "# Train the model"
   ]
  },
  {
   "cell_type": "markdown",
   "metadata": {},
   "source": [
    "## Print the args of train.py"
   ]
  },
  {
   "cell_type": "code",
   "execution_count": 4,
   "metadata": {},
   "outputs": [
    {
     "name": "stdout",
     "output_type": "stream",
     "text": [
      "usage: train.py [-h] [--datafile_path DATAFILE_PATH]\n",
      "                [--state_component STATE_COMPONENT] [--search_len SEARCH_LEN]\n",
      "                [--search_num SEARCH_NUM] [--search_random SEARCH_RANDOM]\n",
      "                [--t_max T_MAX] [--offset OFFSET] [--verbose VERBOSE]\n",
      "                [--scale_mode SCALE_MODE] [--learning_rate LEARNING_RATE]\n",
      "                [--batch_size BATCH_SIZE] [--epochs EPOCHS]\n",
      "                [--validate_freq VALIDATE_FREQ]\n",
      "                [--use_scheduler USE_SCHEDULER]\n",
      "                [--scheduler_patience SCHEDULER_PATIENCE]\n",
      "                [--scheduler_factor SCHEDULER_FACTOR]\n",
      "                [--loss_function LOSS_FUNCTION]\n",
      "                [--early_stopping_epochs EARLY_STOPPING_EPOCHS]\n",
      "                [--save_model SAVE_MODEL] [--checkpoint_path CHECKPOINT_PATH]\n",
      "                [--monitor_metric {val_loss,train_loss}]\n",
      "                [--use_trained_model USE_TRAINED_MODEL]\n",
      "                [--trained_model_path TRAINED_MODEL_PATH]\n",
      "                [--device {0,1,2,3,4,5,6,7,8,9,10,parallel,cpu}]\n",
      "                [--experiment_name EXPERIMENT_NAME] [--run_name RUN_NAME]\n",
      "                [--plot_trajs PLOT_TRAJS] [--plot_idxs [PLOT_IDXS ...]]\n",
      "                [--figure_path FIGURE_PATH]\n",
      "                [--branch_state_width BRANCH_STATE_WIDTH]\n",
      "                [--branch_state_depth BRANCH_STATE_DEPTH]\n",
      "                [--branch_state_activation BRANCH_STATE_ACTIVATION]\n",
      "                [--branch_memory_width BRANCH_MEMORY_WIDTH]\n",
      "                [--branch_memory_depth BRANCH_MEMORY_DEPTH]\n",
      "                [--branch_memory_lstm_size BRANCH_MEMORY_LSTM_SIZE]\n",
      "                [--branch_memory_lstm_layer_num BRANCH_MEMORY_LSTM_LAYER_NUM]\n",
      "                [--branch_memory_activation BRANCH_MEMORY_ACTIVATION]\n",
      "                [--trunk_width TRUNK_WIDTH] [--trunk_depth TRUNK_DEPTH]\n",
      "                [--trunk_activation TRUNK_ACTIVATION]\n",
      "\n",
      "options:\n",
      "  -h, --help            show this help message and exit\n",
      "  --datafile_path DATAFILE_PATH\n",
      "                        Path to the datafile.\n",
      "  --state_component STATE_COMPONENT\n",
      "                        Index of the state component to train.\n",
      "  --search_len SEARCH_LEN\n",
      "                        Length of the search length (h_max). It is an integer\n",
      "                        of points.\n",
      "  --search_num SEARCH_NUM\n",
      "                        Number of the search points on each trajectory (N_h).\n",
      "                        It is an integer of points.\n",
      "  --search_random SEARCH_RANDOM\n",
      "                        Whether to sample the search points randomly. If\n",
      "                        False, the search points are evenly sampled. Empty\n",
      "                        string means False. Otherwise, the value is True.\n",
      "  --t_max T_MAX         Maximum time (float) of the trajectory.\n",
      "  --offset OFFSET       Offset is the minimum length (integer of points) of\n",
      "                        trajectory memory.\n",
      "  --verbose VERBOSE     Whether to print the training process. Empty string\n",
      "                        means False. Otherwise, the value is True.\n",
      "  --scale_mode SCALE_MODE\n",
      "                        Whether to scale the data. If None, no scaling is\n",
      "                        applied. If 'standard', the data is scaled to have\n",
      "                        zero mean and unit variance. If 'minmax', the data is\n",
      "                        scaled to be in the range of [0, 1].\n",
      "  --learning_rate LEARNING_RATE\n",
      "                        Learning rate of the optimizer.\n",
      "  --batch_size BATCH_SIZE\n",
      "                        Batch size of the training process.\n",
      "  --epochs EPOCHS       Number of epochs to train.\n",
      "  --validate_freq VALIDATE_FREQ\n",
      "                        Frequency of validation.\n",
      "  --use_scheduler USE_SCHEDULER\n",
      "                        Whether to use the scheduler. Empty string means\n",
      "                        False. Otherwise, the value is True.\n",
      "  --scheduler_patience SCHEDULER_PATIENCE\n",
      "                        Patience of the scheduler.\n",
      "  --scheduler_factor SCHEDULER_FACTOR\n",
      "                        Factor of the scheduler.\n",
      "  --loss_function LOSS_FUNCTION\n",
      "                        Loss function to use.\n",
      "  --early_stopping_epochs EARLY_STOPPING_EPOCHS\n",
      "                        Number of epochs to early stop.\n",
      "  --save_model SAVE_MODEL\n",
      "                        Whether to save the model. Empty string means False.\n",
      "                        Otherwise, the value is True.\n",
      "  --checkpoint_path CHECKPOINT_PATH\n",
      "                        Path to save the checkpoints.\n",
      "  --monitor_metric {val_loss,train_loss}\n",
      "                        Metric to monitor.\n",
      "  --use_trained_model USE_TRAINED_MODEL\n",
      "                        Whether to use previously trained model. Empty string\n",
      "                        means False. Otherwise, the value is True.\n",
      "  --trained_model_path TRAINED_MODEL_PATH\n",
      "                        Path to the previously trained model.\n",
      "  --device {0,1,2,3,4,5,6,7,8,9,10,parallel,cpu}\n",
      "                        Device to use. Enter an integer to use a specific GPU\n",
      "                        ID. Enter 'parallel' to use all available GPUs. Enter\n",
      "                        'cpu' to use CPU.\n",
      "  --experiment_name EXPERIMENT_NAME\n",
      "                        Name of the experiment.\n",
      "  --run_name RUN_NAME   Name of the run for display.\n",
      "  --plot_trajs PLOT_TRAJS\n",
      "                        Whether to plot the test trajectories. Empty string\n",
      "                        means False. Otherwise, the value is True.\n",
      "  --plot_idxs [PLOT_IDXS ...]\n",
      "                        Indices of the test trajectories to plot.\n",
      "  --figure_path FIGURE_PATH\n",
      "                        Path to save the figures.\n",
      "  --branch_state_width BRANCH_STATE_WIDTH\n",
      "                        Width of the state branch.\n",
      "  --branch_state_depth BRANCH_STATE_DEPTH\n",
      "                        Depth of the state branch.\n",
      "  --branch_state_activation BRANCH_STATE_ACTIVATION\n",
      "                        Activation function of the state branch.\n",
      "  --branch_memory_width BRANCH_MEMORY_WIDTH\n",
      "                        Width of the memory branch.\n",
      "  --branch_memory_depth BRANCH_MEMORY_DEPTH\n",
      "                        Depth of the memory branch.\n",
      "  --branch_memory_lstm_size BRANCH_MEMORY_LSTM_SIZE\n",
      "                        Size of the LSTM in the memory branch.\n",
      "  --branch_memory_lstm_layer_num BRANCH_MEMORY_LSTM_LAYER_NUM\n",
      "                        Number of the LSTM layers in the memory branch.\n",
      "  --branch_memory_activation BRANCH_MEMORY_ACTIVATION\n",
      "                        Activation function of the memory branch.\n",
      "  --trunk_width TRUNK_WIDTH\n",
      "                        Width of the trunk.\n",
      "  --trunk_depth TRUNK_DEPTH\n",
      "                        Depth of the trunk.\n",
      "  --trunk_activation TRUNK_ACTIVATION\n",
      "                        Activation function of the trunk.\n"
     ]
    }
   ],
   "source": [
    "%run train.py --help --loss_function"
   ]
  },
  {
   "cell_type": "markdown",
   "metadata": {},
   "source": [
    "## Train the model with args"
   ]
  },
  {
   "cell_type": "markdown",
   "metadata": {},
   "source": [
    "About mlflow: the model is tracked and stored using mlflow. It helps store the training args, training metrics (such as loss), trained models, codes, etc.\n",
    "\n",
    "It has been installed in this devcontainer. To use its ui inferface:\n",
    "\n",
    "`cd /LSTM-MIONet/src`\n",
    "\n",
    "`mlflow ui`\n",
    "\n",
    "Then visit `127.0.0.1:5000`"
   ]
  },
  {
   "cell_type": "markdown",
   "metadata": {},
   "source": [
    "Please do **NOT** run the train.py in **Jupyter notebook** if **you are doing large scale training** (not including the demonstration training shown below) as it will occupy significant memory and the memory will not be released unless you restart the Jupyter kernal.\n",
    "\n",
    "The code below is just **for demonstration** how the train.py should be used. The trained results have large errors because I just train 10 epochs here.\n"
   ]
  },
  {
   "cell_type": "code",
   "execution_count": 5,
   "metadata": {},
   "outputs": [
    {
     "name": "stdout",
     "output_type": "stream",
     "text": [
      "Using all available 2 GPUs in parallel.\n",
      "Shapes for LSTM-MIONet training input=(900, 1999, 1), x_n=(900, 1), x_next=(900, 1)\n",
      "Shapes for LSTM-MIONet training input=(100, 1999, 1), x_n=(100, 1), x_next=(100, 1)\n",
      "Data memory size: 6 MB\n",
      "Data memory size: 0 MB\n",
      "LSTM_MIONet(\n",
      "  (branch_1): MLP(\n",
      "    (net): ModuleList(\n",
      "      (0): Linear(in_features=1, out_features=200, bias=True)\n",
      "      (1): Linear(in_features=200, out_features=200, bias=True)\n",
      "      (2): ReLU()\n",
      "      (3): LayerNorm((200,), eps=1e-05, elementwise_affine=True)\n",
      "      (4): Linear(in_features=200, out_features=200, bias=True)\n",
      "    )\n",
      "  )\n",
      "  (branch_2): LSTM_MLP(\n",
      "    (net_1): ModuleList(\n",
      "      (0): Linear(in_features=1, out_features=200, bias=True)\n",
      "      (1): Linear(in_features=200, out_features=200, bias=True)\n",
      "      (2): ReLU()\n",
      "      (3): LayerNorm((200,), eps=1e-05, elementwise_affine=True)\n",
      "      (4): Linear(in_features=200, out_features=200, bias=True)\n",
      "    )\n",
      "    (lstm): LSTM(200, 100, num_layers=2, batch_first=True)\n",
      "    (net_2): ModuleList(\n",
      "      (0): Linear(in_features=100, out_features=200, bias=True)\n",
      "      (1): Linear(in_features=200, out_features=200, bias=True)\n",
      "      (2): ReLU()\n",
      "      (3): Linear(in_features=200, out_features=200, bias=True)\n",
      "    )\n",
      "  )\n",
      "  (trunk): MLP(\n",
      "    (net): ModuleList(\n",
      "      (0): Linear(in_features=1, out_features=200, bias=True)\n",
      "      (1): Linear(in_features=200, out_features=200, bias=True)\n",
      "      (2): ReLU()\n",
      "      (3): LayerNorm((200,), eps=1e-05, elementwise_affine=True)\n",
      "      (4): Linear(in_features=200, out_features=200, bias=True)\n",
      "    )\n",
      "  )\n",
      ")\n",
      "\n",
      "***** Training with Adam Optimizer for 10 epochs and using 900 data samples*****\n",
      "\n"
     ]
    },
    {
     "name": "stderr",
     "output_type": "stream",
     "text": [
      " 10%|█         | 1/10 [00:04<00:43,  4.80s/it, Train=683, Val=548, Best_train=683, Best_Val=548]/usr/local/lib/python3.10/site-packages/_distutils_hack/__init__.py:18: UserWarning: Distutils was imported before Setuptools, but importing Setuptools also replaces the `distutils` module in `sys.modules`. This may lead to undesirable behaviors or errors. To avoid these issues, avoid using distutils directly, ensure that setuptools is installed in the traditional way (e.g. not an editable install), and/or make sure that setuptools is always imported before distutils.\n",
      "  warnings.warn(\n",
      "/usr/local/lib/python3.10/site-packages/_distutils_hack/__init__.py:33: UserWarning: Setuptools is replacing distutils.\n",
      "  warnings.warn(\"Setuptools is replacing distutils.\")\n",
      "100%|██████████| 10/10 [00:34<00:00,  3.47s/it, Train=182, Val=119, Best_train=182, Best_Val=119]"
     ]
    },
    {
     "name": "stdout",
     "output_type": "stream",
     "text": [
      "\n",
      "***** Testing with 100 data samples*****\n",
      "\n",
      "\n",
      "=============================\n",
      "     L1-relative Error %      \n",
      "=============================\n",
      "     mean     st. dev.  \n",
      "-----------------------------\n",
      "  224.6231  254.2372\n",
      "-----------------------------\n",
      "\n",
      "=============================\n",
      "     L2-relative Error %      \n",
      "=============================\n",
      "     mean     st. dev.  \n",
      "-----------------------------\n",
      "  225.2955  239.0362\n",
      "-----------------------------\n",
      "\n",
      "=============================\n",
      "[L1-relative Error list, L2-relative Error list ] %     \n",
      "=============================\n",
      "[[102.68713  109.878395]\n",
      " [ 49.901703  55.397247]\n",
      " [305.08127  292.17575 ]\n",
      " [289.5012   284.26743 ]\n",
      " [ 41.327442  42.43144 ]\n",
      " [145.3716   164.01537 ]\n",
      " [158.56184  181.6165  ]\n",
      " [937.16394  891.40814 ]\n",
      " [ 33.229366  30.750156]\n",
      " [183.40556  201.01488 ]]\n"
     ]
    },
    {
     "name": "stderr",
     "output_type": "stream",
     "text": [
      "\n"
     ]
    }
   ],
   "source": [
    "%run train.py \\\n",
    "    --datafile_path \"data/pendulum_N_100_h001_T20_demonstration.npy\" \\\n",
    "    --state_component 0 \\\n",
    "    --search_len 2 \\\n",
    "    --search_num 10 \\\n",
    "    --learning_rate 1e-3 \\\n",
    "    --use_scheduler True \\\n",
    "    --batch_size 200 \\\n",
    "    --epochs 10 \\\n",
    "    --early_stopping_epochs 80 \\\n",
    "    --run_name \"pendulum_demonstration\" \\\n",
    "    --plot_trajs \"\" \\\n",
    "    --device \"parallel\" "
   ]
  },
  {
   "cell_type": "markdown",
   "metadata": {},
   "source": [
    "## Infer the model with args"
   ]
  },
  {
   "cell_type": "markdown",
   "metadata": {},
   "source": [
    "Note: \n",
    "\n",
    "1) The trained model has been diligently trained\n",
    "\n",
    "2) The trained model doesn't require the instantialization of the model class. Instead, the model class along with state_dict are both stored in the mlflow location."
   ]
  },
  {
   "cell_type": "code",
   "execution_count": 4,
   "metadata": {},
   "outputs": [
    {
     "name": "stdout",
     "output_type": "stream",
     "text": [
      "Using GPU ID 0.\n",
      "Shapes for LSTM-MIONet training input=(20000, 999, 1), x_n=(20000, 1), x_next=(20000, 1)\n",
      "Data memory size: 76 MB\n",
      "models:/pendulum/latest\n",
      "LSTM_MIONet(\n",
      "  (branch_1): MLP(\n",
      "    (net): ModuleList(\n",
      "      (0): Linear(in_features=1, out_features=200, bias=True)\n",
      "      (1): Linear(in_features=200, out_features=200, bias=True)\n",
      "      (2): ReLU()\n",
      "      (3): LayerNorm((200,), eps=1e-05, elementwise_affine=True)\n",
      "      (4): Linear(in_features=200, out_features=200, bias=True)\n",
      "    )\n",
      "  )\n",
      "  (branch_2): LSTM_MLP(\n",
      "    (net_1): ModuleList(\n",
      "      (0): Linear(in_features=1, out_features=200, bias=True)\n",
      "      (1): Linear(in_features=200, out_features=200, bias=True)\n",
      "      (2): ReLU()\n",
      "      (3): LayerNorm((200,), eps=1e-05, elementwise_affine=True)\n",
      "      (4): Linear(in_features=200, out_features=200, bias=True)\n",
      "    )\n",
      "    (lstm): LSTM(200, 10, num_layers=2, batch_first=True)\n",
      "    (net_2): ModuleList(\n",
      "      (0): Linear(in_features=10, out_features=200, bias=True)\n",
      "      (1): Linear(in_features=200, out_features=200, bias=True)\n",
      "      (2): ReLU()\n",
      "      (3): Linear(in_features=200, out_features=200, bias=True)\n",
      "    )\n",
      "  )\n",
      "  (trunk): MLP(\n",
      "    (net): ModuleList(\n",
      "      (0): Linear(in_features=1, out_features=200, bias=True)\n",
      "      (1): Linear(in_features=200, out_features=200, bias=True)\n",
      "      (2): ReLU()\n",
      "      (3): LayerNorm((200,), eps=1e-05, elementwise_affine=True)\n",
      "      (4): Linear(in_features=200, out_features=200, bias=True)\n",
      "    )\n",
      "  )\n",
      ")\n",
      "\n",
      "***** Testing with 20000 data samples*****\n",
      "\n",
      "\n",
      "=============================\n",
      "     L1-relative Error %      \n",
      "=============================\n",
      "     mean     st. dev.  \n",
      "-----------------------------\n",
      "    1.9473    1.4503\n",
      "-----------------------------\n",
      "\n",
      "=============================\n",
      "     L2-relative Error %      \n",
      "=============================\n",
      "     mean     st. dev.  \n",
      "-----------------------------\n",
      "    2.0218    1.4599\n",
      "-----------------------------\n",
      "\n",
      "=============================\n",
      "[L1-relative Error list, L2-relative Error list ] %     \n",
      "=============================\n",
      "[[2.6457763  2.7697687 ]\n",
      " [3.1120098  3.2073572 ]\n",
      " [0.11563478 0.14063373]\n",
      " [3.5452797  3.5426424 ]\n",
      " [3.5404847  3.5915072 ]\n",
      " [0.22139777 0.25971773]\n",
      " [0.26864225 0.37274995]\n",
      " [3.3313904  3.3878024 ]\n",
      " [0.2518998  0.27058262]\n",
      " [2.7298367  2.879369  ]\n",
      " [3.8897521  3.8592782 ]\n",
      " [2.4632962  2.6534548 ]\n",
      " [3.3565264  3.4140003 ]\n",
      " [3.4211419  3.501289  ]\n",
      " [3.1308427  3.1916223 ]\n",
      " [2.3974352  2.6115777 ]\n",
      " [3.7419572  3.7378304 ]\n",
      " [0.25124863 0.27855968]\n",
      " [3.6958196  3.6552885 ]\n",
      " [0.2602942  0.306705  ]\n",
      " [0.0767026  0.0809647 ]\n",
      " [3.3898726  3.4662302 ]\n",
      " [3.0251036  3.1019495 ]\n",
      " [3.0692704  3.1297069 ]\n",
      " [0.20679654 0.21838576]\n",
      " [3.447877   3.4818373 ]\n",
      " [0.0773797  0.08270461]\n",
      " [2.238103   2.422832  ]\n",
      " [0.07623918 0.0919176 ]\n",
      " [2.980424   3.0741134 ]\n",
      " [0.5899019  0.7975274 ]\n",
      " [0.27615374 0.33278796]\n",
      " [0.07479389 0.08373176]\n",
      " [0.69649255 0.9082445 ]\n",
      " [0.08856975 0.09353369]\n",
      " [2.2481413  2.4386451 ]\n",
      " [3.432491   3.4887123 ]\n",
      " [0.41960377 0.39397377]\n",
      " [0.7473711  0.8858416 ]\n",
      " [0.3710775  0.45927727]\n",
      " [0.8328897  0.93528235]\n",
      " [0.25861263 0.29048106]\n",
      " [2.3117032  2.4968762 ]\n",
      " [3.730033   3.7284102 ]\n",
      " [1.7587788  1.9716492 ]\n",
      " [3.2156718  3.2931817 ]\n",
      " [2.4547427  2.6389415 ]\n",
      " [3.7579663  3.7814527 ]\n",
      " [0.4797553  0.5352875 ]\n",
      " [0.48084897 0.4434188 ]\n",
      " [0.22863242 0.295802  ]\n",
      " [3.4079318  3.479041  ]\n",
      " [0.11403107 0.13545014]\n",
      " [0.34083763 0.434885  ]\n",
      " [2.362298   2.5419643 ]\n",
      " [3.491558   3.5115588 ]\n",
      " [0.13578123 0.15496068]\n",
      " [0.45771274 0.5233328 ]\n",
      " [0.13516419 0.18129252]\n",
      " [3.4934406  3.5396888 ]\n",
      " [0.26358894 0.3277643 ]\n",
      " [0.22167449 0.2617815 ]\n",
      " [0.20968607 0.2619461 ]\n",
      " [0.29666585 0.34236765]\n",
      " [2.71012    2.8571994 ]\n",
      " [3.5830274  3.6816206 ]\n",
      " [2.3512757  2.5096977 ]\n",
      " [0.07829808 0.08700233]\n",
      " [0.09674221 0.12443026]\n",
      " [3.14612    3.2186997 ]\n",
      " [3.6456223  3.6577113 ]\n",
      " [2.0628402  2.292341  ]\n",
      " [3.3068054  3.3612852 ]\n",
      " [3.143135   3.1900883 ]\n",
      " [2.381625   3.0720367 ]\n",
      " [2.741168   2.8507469 ]\n",
      " [0.09400396 0.12820014]\n",
      " [0.22123794 0.27573466]\n",
      " [3.5036151  3.54533   ]\n",
      " [3.4633512  3.5170171 ]\n",
      " [2.798033   2.9014103 ]\n",
      " [3.0083754  3.0997329 ]\n",
      " [0.57056314 0.6229297 ]\n",
      " [3.4447148  3.4999974 ]\n",
      " [3.8128357  3.7868495 ]\n",
      " [3.3871655  3.4209867 ]\n",
      " [3.5483255  3.5877607 ]\n",
      " [3.1899645  3.2588503 ]\n",
      " [0.1247532  0.14086787]\n",
      " [3.2528307  3.352407  ]\n",
      " [2.9831398  3.0768604 ]\n",
      " [0.44611287 0.51528305]\n",
      " [2.3808076  2.5651715 ]\n",
      " [3.6420543  3.6855426 ]\n",
      " [0.25880215 0.29956284]\n",
      " [3.278335   3.3202474 ]\n",
      " [2.4564211  2.626618  ]\n",
      " [3.4864008  3.5417213 ]\n",
      " [3.6936357  3.6387866 ]\n",
      " [0.09387167 0.09760767]]\n"
     ]
    },
    {
     "data": {
      "image/png": "[encoded data removed]",
      "text/plain": [
       "<Figure size 640x480 with 1 Axes>"
      ]
     },
     "metadata": {},
     "output_type": "display_data"
    }
   ],
   "source": [
    "%run infer.py \\\n",
    "    --datafile_path \"data/pendulum_ctr_grf_N_100_h001_T10.npy\" \\\n",
    "    --trained_model_path \"models:/pendulum/latest\" \\\n",
    "    --state_component 0 \\\n",
    "    --search_len 2 \\\n",
    "    --search_num 200 \\\n",
    "    --batch_size 100 \\\n",
    "    --plot_trajs \"True\" \\\n",
    "    --plot_idxs 0 \\\n",
    "    --device 0 \\\n",
    "    --verbose \"True\""
   ]
  },
  {
   "cell_type": "markdown",
   "metadata": {},
   "source": [
    "## Infer the model with args recursively and teacher forcing = 1"
   ]
  },
  {
   "cell_type": "code",
   "execution_count": 3,
   "metadata": {},
   "outputs": [
    {
     "name": "stdout",
     "output_type": "stream",
     "text": [
      "Using GPU ID 0.\n",
      "Shapes for LSTM-MIONet training input=(995, 999, 1), x_n=(995, 1), x_next=(995, 1)\n",
      "Data memory size: 3 MB\n",
      "models:/pendulum/latest\n",
      "LSTM_MIONet(\n",
      "  (branch_1): MLP(\n",
      "    (net): ModuleList(\n",
      "      (0): Linear(in_features=1, out_features=200, bias=True)\n",
      "      (1): Linear(in_features=200, out_features=200, bias=True)\n",
      "      (2): ReLU()\n",
      "      (3): LayerNorm((200,), eps=1e-05, elementwise_affine=True)\n",
      "      (4): Linear(in_features=200, out_features=200, bias=True)\n",
      "    )\n",
      "  )\n",
      "  (branch_2): LSTM_MLP(\n",
      "    (net_1): ModuleList(\n",
      "      (0): Linear(in_features=1, out_features=200, bias=True)\n",
      "      (1): Linear(in_features=200, out_features=200, bias=True)\n",
      "      (2): ReLU()\n",
      "      (3): LayerNorm((200,), eps=1e-05, elementwise_affine=True)\n",
      "      (4): Linear(in_features=200, out_features=200, bias=True)\n",
      "    )\n",
      "    (lstm): LSTM(200, 10, num_layers=2, batch_first=True)\n",
      "    (net_2): ModuleList(\n",
      "      (0): Linear(in_features=10, out_features=200, bias=True)\n",
      "      (1): Linear(in_features=200, out_features=200, bias=True)\n",
      "      (2): ReLU()\n",
      "      (3): Linear(in_features=200, out_features=200, bias=True)\n",
      "    )\n",
      "  )\n",
      "  (trunk): MLP(\n",
      "    (net): ModuleList(\n",
      "      (0): Linear(in_features=1, out_features=200, bias=True)\n",
      "      (1): Linear(in_features=200, out_features=200, bias=True)\n",
      "      (2): ReLU()\n",
      "      (3): LayerNorm((200,), eps=1e-05, elementwise_affine=True)\n",
      "      (4): Linear(in_features=200, out_features=200, bias=True)\n",
      "    )\n",
      "  )\n",
      ")\n",
      "\n",
      "***** Testing with 995 data samples*****\n",
      "\n"
     ]
    },
    {
     "name": "stderr",
     "output_type": "stream",
     "text": [
      "Infering ...: 100%|██████████| 995/995 [00:12<00:00, 78.86it/s] \n"
     ]
    },
    {
     "name": "stdout",
     "output_type": "stream",
     "text": [
      "\n",
      "=============================\n",
      "     L1-relative Error %      \n",
      "=============================\n",
      "     mean     st. dev.  \n",
      "-----------------------------\n",
      "    3.2122    0.0000\n",
      "-----------------------------\n",
      "\n",
      "=============================\n",
      "     L2-relative Error %      \n",
      "=============================\n",
      "     mean     st. dev.  \n",
      "-----------------------------\n",
      "    3.2841    0.0000\n",
      "-----------------------------\n",
      "\n",
      "=============================\n",
      "[L1-relative Error list, L2-relative Error list ] %     \n",
      "=============================\n",
      "[[3.2122288 3.2840602]]\n"
     ]
    },
    {
     "data": {
      "image/png": "[encoded data removed]",
      "text/plain": [
       "<Figure size 640x480 with 1 Axes>"
      ]
     },
     "metadata": {},
     "output_type": "display_data"
    }
   ],
   "source": [
    "%run infer.py \\\n",
    "    --datafile_path \"data/pendulum_ctr_grf_N_1_h001_T10.npy\" \\\n",
    "    --trained_model_path \"models:/pendulum/latest\" \\\n",
    "    --recursive \"True\" \\\n",
    "    --state_component 0 \\\n",
    "    --autonomous \"\" \\\n",
    "    --teacher_forcing_prob 1. \\\n",
    "    --search_len 2 \\\n",
    "    --search_num 995 \\\n",
    "    --plot_trajs \"True\" \\\n",
    "    --plot_idxs 0 \\\n",
    "    --device 0 \\\n",
    "    --verbose \"True\""
   ]
  },
  {
   "cell_type": "markdown",
   "metadata": {},
   "source": [
    "## Infer the model with args recursively and teacher forcing = 0.5"
   ]
  },
  {
   "cell_type": "code",
   "execution_count": 2,
   "metadata": {},
   "outputs": [
    {
     "name": "stdout",
     "output_type": "stream",
     "text": [
      "Using GPU ID 0.\n",
      "Shapes for LSTM-MIONet training input=(995, 999, 1), x_n=(995, 1), x_next=(995, 1)\n",
      "Data memory size: 3 MB\n",
      "models:/pendulum/latest\n",
      "LSTM_MIONet(\n",
      "  (branch_1): MLP(\n",
      "    (net): ModuleList(\n",
      "      (0): Linear(in_features=1, out_features=200, bias=True)\n",
      "      (1): Linear(in_features=200, out_features=200, bias=True)\n",
      "      (2): ReLU()\n",
      "      (3): LayerNorm((200,), eps=1e-05, elementwise_affine=True)\n",
      "      (4): Linear(in_features=200, out_features=200, bias=True)\n",
      "    )\n",
      "  )\n",
      "  (branch_2): LSTM_MLP(\n",
      "    (net_1): ModuleList(\n",
      "      (0): Linear(in_features=1, out_features=200, bias=True)\n",
      "      (1): Linear(in_features=200, out_features=200, bias=True)\n",
      "      (2): ReLU()\n",
      "      (3): LayerNorm((200,), eps=1e-05, elementwise_affine=True)\n",
      "      (4): Linear(in_features=200, out_features=200, bias=True)\n",
      "    )\n",
      "    (lstm): LSTM(200, 10, num_layers=2, batch_first=True)\n",
      "    (net_2): ModuleList(\n",
      "      (0): Linear(in_features=10, out_features=200, bias=True)\n",
      "      (1): Linear(in_features=200, out_features=200, bias=True)\n",
      "      (2): ReLU()\n",
      "      (3): Linear(in_features=200, out_features=200, bias=True)\n",
      "    )\n",
      "  )\n",
      "  (trunk): MLP(\n",
      "    (net): ModuleList(\n",
      "      (0): Linear(in_features=1, out_features=200, bias=True)\n",
      "      (1): Linear(in_features=200, out_features=200, bias=True)\n",
      "      (2): ReLU()\n",
      "      (3): LayerNorm((200,), eps=1e-05, elementwise_affine=True)\n",
      "      (4): Linear(in_features=200, out_features=200, bias=True)\n",
      "    )\n",
      "  )\n",
      ")\n",
      "\n",
      "***** Testing with 995 data samples*****\n",
      "\n"
     ]
    },
    {
     "name": "stderr",
     "output_type": "stream",
     "text": [
      "Infering ...: 100%|██████████| 995/995 [00:12<00:00, 79.20it/s] \n"
     ]
    },
    {
     "name": "stdout",
     "output_type": "stream",
     "text": [
      "\n",
      "=============================\n",
      "     L1-relative Error %      \n",
      "=============================\n",
      "     mean     st. dev.  \n",
      "-----------------------------\n",
      "    6.1019    0.0000\n",
      "-----------------------------\n",
      "\n",
      "=============================\n",
      "     L2-relative Error %      \n",
      "=============================\n",
      "     mean     st. dev.  \n",
      "-----------------------------\n",
      "    7.3586    0.0000\n",
      "-----------------------------\n",
      "\n",
      "=============================\n",
      "[L1-relative Error list, L2-relative Error list ] %     \n",
      "=============================\n",
      "[[6.1018653 7.3585653]]\n"
     ]
    },
    {
     "data": {
      "image/png": "[encoded data removed]",
      "text/plain": [
       "<Figure size 640x480 with 1 Axes>"
      ]
     },
     "metadata": {},
     "output_type": "display_data"
    }
   ],
   "source": [
    "%run infer.py \\\n",
    "    --datafile_path \"data/pendulum_ctr_grf_N_1_h001_T10.npy\" \\\n",
    "    --trained_model_path \"models:/pendulum/latest\" \\\n",
    "    --recursive \"True\" \\\n",
    "    --state_component 0 \\\n",
    "    --autonomous \"\" \\\n",
    "    --teacher_forcing_prob 0.5 \\\n",
    "    --search_len 2 \\\n",
    "    --search_num 995 \\\n",
    "    --plot_trajs \"True\" \\\n",
    "    --plot_idxs 0 \\\n",
    "    --device 0 \\\n",
    "    --verbose \"True\""
   ]
  },
  {
   "cell_type": "markdown",
   "metadata": {},
   "source": [
    "## Infer the model with args recursively and teacher forcing = 0"
   ]
  },
  {
   "cell_type": "code",
   "execution_count": 9,
   "metadata": {},
   "outputs": [
    {
     "name": "stdout",
     "output_type": "stream",
     "text": [
      "Using GPU ID 0.\n",
      "Shapes for LSTM-MIONet training input=(995, 999, 1), x_n=(995, 1), x_next=(995, 1)\n",
      "Data memory size: 3 MB\n",
      "models:/pendulum/latest\n",
      "LSTM_MIONet(\n",
      "  (branch_1): MLP(\n",
      "    (net): ModuleList(\n",
      "      (0): Linear(in_features=1, out_features=200, bias=True)\n",
      "      (1): Linear(in_features=200, out_features=200, bias=True)\n",
      "      (2): ReLU()\n",
      "      (3): LayerNorm((200,), eps=1e-05, elementwise_affine=True)\n",
      "      (4): Linear(in_features=200, out_features=200, bias=True)\n",
      "    )\n",
      "  )\n",
      "  (branch_2): LSTM_MLP(\n",
      "    (net_1): ModuleList(\n",
      "      (0): Linear(in_features=1, out_features=200, bias=True)\n",
      "      (1): Linear(in_features=200, out_features=200, bias=True)\n",
      "      (2): ReLU()\n",
      "      (3): LayerNorm((200,), eps=1e-05, elementwise_affine=True)\n",
      "      (4): Linear(in_features=200, out_features=200, bias=True)\n",
      "    )\n",
      "    (lstm): LSTM(200, 10, num_layers=2, batch_first=True)\n",
      "    (net_2): ModuleList(\n",
      "      (0): Linear(in_features=10, out_features=200, bias=True)\n",
      "      (1): Linear(in_features=200, out_features=200, bias=True)\n",
      "      (2): ReLU()\n",
      "      (3): Linear(in_features=200, out_features=200, bias=True)\n",
      "    )\n",
      "  )\n",
      "  (trunk): MLP(\n",
      "    (net): ModuleList(\n",
      "      (0): Linear(in_features=1, out_features=200, bias=True)\n",
      "      (1): Linear(in_features=200, out_features=200, bias=True)\n",
      "      (2): ReLU()\n",
      "      (3): LayerNorm((200,), eps=1e-05, elementwise_affine=True)\n",
      "      (4): Linear(in_features=200, out_features=200, bias=True)\n",
      "    )\n",
      "  )\n",
      ")\n",
      "\n",
      "***** Testing with 995 data samples*****\n",
      "\n"
     ]
    },
    {
     "name": "stderr",
     "output_type": "stream",
     "text": [
      "Infering ...: 100%|██████████| 995/995 [00:13<00:00, 74.41it/s]\n"
     ]
    },
    {
     "name": "stdout",
     "output_type": "stream",
     "text": [
      "\n",
      "=============================\n",
      "     L1-relative Error %      \n",
      "=============================\n",
      "     mean     st. dev.  \n",
      "-----------------------------\n",
      " 1419.1115    0.0000\n",
      "-----------------------------\n",
      "\n",
      "=============================\n",
      "     L2-relative Error %      \n",
      "=============================\n",
      "     mean     st. dev.  \n",
      "-----------------------------\n",
      " 1502.9186    0.0000\n",
      "-----------------------------\n",
      "\n",
      "=============================\n",
      "[L1-relative Error list, L2-relative Error list ] %     \n",
      "=============================\n",
      "[[1419.1116 1502.9186]]\n"
     ]
    },
    {
     "data": {
      "image/png": "[encoded data removed]",
      "text/plain": [
       "<Figure size 640x480 with 1 Axes>"
      ]
     },
     "metadata": {},
     "output_type": "display_data"
    }
   ],
   "source": [
    "%run infer.py \\\n",
    "    --datafile_path \"data/pendulum_ctr_grf_N_1_h001_T10.npy\" \\\n",
    "    --trained_model_path \"models:/pendulum/latest\" \\\n",
    "    --recursive \"True\" \\\n",
    "    --state_component 0 \\\n",
    "    --autonomous \"\" \\\n",
    "    --teacher_forcing_prob 0. \\\n",
    "    --search_len 2 \\\n",
    "    --search_num 995 \\\n",
    "    --plot_trajs \"True\" \\\n",
    "    --plot_idxs 0 \\\n",
    "    --device 0 \\\n",
    "    --verbose \"True\""
   ]
  },
  {
   "cell_type": "markdown",
   "metadata": {},
   "source": [
    "## Generate **out-of-distribution** pendulum data `u=sin(t/2)`"
   ]
  },
  {
   "cell_type": "code",
   "execution_count": 10,
   "metadata": {},
   "outputs": [
    {
     "name": "stdout",
     "output_type": "stream",
     "text": [
      "\n",
      "=====================\n",
      "Running database_generator.py with arguments:\n"
     ]
    },
    {
     "name": "stderr",
     "output_type": "stream",
     "text": [
      "Generating 100 data ...: 100%|██████████| 100/100 [00:04<00:00, 24.91it/s]"
     ]
    },
    {
     "name": "stdout",
     "output_type": "stream",
     "text": [
      "Data saved in data/pendulum_ctr_designate_N_200_h001_T10.npy.\n",
      "\n",
      "=====================\n"
     ]
    },
    {
     "name": "stderr",
     "output_type": "stream",
     "text": [
      "\n"
     ]
    }
   ],
   "source": [
    "print(\"\\n=====================\")\n",
    "print(\"Running database_generator.py with arguments:\")\n",
    "%run database_generator.py \\\n",
    "    --ode_system \"pendulum\" \\\n",
    "    --ctr_func \"designate\" \\\n",
    "    --step_size 0.01 \\\n",
    "    --n_sample 100 \\\n",
    "    --t_max 10 \\\n",
    "    --x_init_pts -3.14 3.14 -8 8 \\\n",
    "    --datafile_path \"data/pendulum_ctr_designate_N_200_h001_T10.npy\"\n",
    "print(\"\\n=====================\")"
   ]
  },
  {
   "cell_type": "markdown",
   "metadata": {},
   "source": [
    "## Infer the model on **out-of-distribution** pendulum data `u=sin(t/2)`"
   ]
  },
  {
   "cell_type": "code",
   "execution_count": 12,
   "metadata": {},
   "outputs": [
    {
     "name": "stdout",
     "output_type": "stream",
     "text": [
      "Using GPU ID 0.\n",
      "Shapes for LSTM-MIONet training input=(20000, 999, 1), x_n=(20000, 1), x_next=(20000, 1)\n",
      "Data memory size: 76 MB\n",
      "models:/pendulum/latest\n",
      "LSTM_MIONet(\n",
      "  (branch_1): MLP(\n",
      "    (net): ModuleList(\n",
      "      (0): Linear(in_features=1, out_features=200, bias=True)\n",
      "      (1): Linear(in_features=200, out_features=200, bias=True)\n",
      "      (2): ReLU()\n",
      "      (3): LayerNorm((200,), eps=1e-05, elementwise_affine=True)\n",
      "      (4): Linear(in_features=200, out_features=200, bias=True)\n",
      "    )\n",
      "  )\n",
      "  (branch_2): LSTM_MLP(\n",
      "    (net_1): ModuleList(\n",
      "      (0): Linear(in_features=1, out_features=200, bias=True)\n",
      "      (1): Linear(in_features=200, out_features=200, bias=True)\n",
      "      (2): ReLU()\n",
      "      (3): LayerNorm((200,), eps=1e-05, elementwise_affine=True)\n",
      "      (4): Linear(in_features=200, out_features=200, bias=True)\n",
      "    )\n",
      "    (lstm): LSTM(200, 10, num_layers=2, batch_first=True)\n",
      "    (net_2): ModuleList(\n",
      "      (0): Linear(in_features=10, out_features=200, bias=True)\n",
      "      (1): Linear(in_features=200, out_features=200, bias=True)\n",
      "      (2): ReLU()\n",
      "      (3): Linear(in_features=200, out_features=200, bias=True)\n",
      "    )\n",
      "  )\n",
      "  (trunk): MLP(\n",
      "    (net): ModuleList(\n",
      "      (0): Linear(in_features=1, out_features=200, bias=True)\n",
      "      (1): Linear(in_features=200, out_features=200, bias=True)\n",
      "      (2): ReLU()\n",
      "      (3): LayerNorm((200,), eps=1e-05, elementwise_affine=True)\n",
      "      (4): Linear(in_features=200, out_features=200, bias=True)\n",
      "    )\n",
      "  )\n",
      ")\n",
      "\n",
      "***** Testing with 20000 data samples*****\n",
      "\n",
      "\n",
      "=============================\n",
      "     L1-relative Error %      \n",
      "=============================\n",
      "     mean     st. dev.  \n",
      "-----------------------------\n",
      "    3.1441    1.3390\n",
      "-----------------------------\n",
      "\n",
      "=============================\n",
      "     L2-relative Error %      \n",
      "=============================\n",
      "     mean     st. dev.  \n",
      "-----------------------------\n",
      "    2.8791    1.2827\n",
      "-----------------------------\n",
      "\n",
      "=============================\n",
      "[L1-relative Error list, L2-relative Error list ] %     \n",
      "=============================\n",
      "[[3.049728   2.5640373 ]\n",
      " [3.0630267  2.405403  ]\n",
      " [1.4520864  1.2575188 ]\n",
      " [5.279087   4.5879855 ]\n",
      " [3.5399373  3.1782775 ]\n",
      " [3.821902   3.7146955 ]\n",
      " [3.0547824  2.792551  ]\n",
      " [3.7302449  3.9889927 ]\n",
      " [2.7645316  2.2228637 ]\n",
      " [3.6541772  3.173861  ]\n",
      " [4.6966705  4.449508  ]\n",
      " [1.9239185  1.6114742 ]\n",
      " [3.355331   3.0325716 ]\n",
      " [3.4710832  3.4287472 ]\n",
      " [4.132922   3.3428059 ]\n",
      " [4.4457283  4.343545  ]\n",
      " [3.8069866  3.3741508 ]\n",
      " [0.5374491  0.552761  ]\n",
      " [3.7675362  3.9450102 ]\n",
      " [2.0889277  1.8487264 ]\n",
      " [0.7720531  0.7888507 ]\n",
      " [3.5763197  3.6349182 ]\n",
      " [3.694804   3.4217749 ]\n",
      " [3.6804855  3.4210415 ]\n",
      " [3.8321774  3.5724628 ]\n",
      " [3.2133884  2.841241  ]\n",
      " [1.2504771  1.109232  ]\n",
      " [2.6753511  2.3322647 ]\n",
      " [2.2651525  2.1104662 ]\n",
      " [2.5743523  2.2853107 ]\n",
      " [3.1388805  2.5583298 ]\n",
      " [0.73265815 0.7623457 ]\n",
      " [2.7272506  2.0952203 ]\n",
      " [3.2212782  2.936271  ]\n",
      " [4.0579157  3.8872962 ]\n",
      " [0.7575599  0.7766673 ]\n",
      " [4.688063   4.496659  ]\n",
      " [0.70605123 0.75263274]\n",
      " [5.663641   5.450295  ]\n",
      " [2.6993475  2.1754324 ]\n",
      " [3.7605367  3.308363  ]\n",
      " [1.9392958  1.8621199 ]\n",
      " [3.6004343  3.0397997 ]\n",
      " [3.1344957  2.9103255 ]\n",
      " [3.8079176  3.521185  ]\n",
      " [0.7302435  0.7609708 ]\n",
      " [4.70329    4.0712414 ]\n",
      " [4.3121223  4.0091195 ]\n",
      " [3.6479547  3.278862  ]\n",
      " [3.5131476  2.9642835 ]\n",
      " [3.4181542  3.2525203 ]\n",
      " [2.4386415  2.0249712 ]\n",
      " [0.70125026 0.7528125 ]\n",
      " [3.2045815  2.8189228 ]\n",
      " [3.385289   3.0830817 ]\n",
      " [0.7344183  0.7692784 ]\n",
      " [0.5315128  0.55297834]\n",
      " [5.4428015  5.4223084 ]\n",
      " [3.4373622  3.0814826 ]\n",
      " [4.828728   4.52634   ]\n",
      " [3.4097161  2.9436963 ]\n",
      " [4.3863     3.9445426 ]\n",
      " [3.432417   3.3936088 ]\n",
      " [2.716425   2.4163997 ]\n",
      " [4.4640217  4.361294  ]\n",
      " [0.5438854  0.56512094]\n",
      " [3.098189   2.3975024 ]\n",
      " [3.669731   3.611186  ]\n",
      " [4.7133174  4.3120546 ]\n",
      " [1.8170575  1.5373293 ]\n",
      " [2.830159   2.5398157 ]\n",
      " [3.6974537  3.237078  ]\n",
      " [4.0243735  3.6155925 ]\n",
      " [3.6527634  3.3446045 ]\n",
      " [2.54389    2.2688453 ]\n",
      " [3.6030397  3.3346329 ]\n",
      " [3.079723   2.8660114 ]\n",
      " [3.5570793  2.940647  ]\n",
      " [3.533388   3.2504094 ]\n",
      " [3.6214068  2.9667568 ]\n",
      " [0.732318   0.76948094]\n",
      " [4.2532268  3.934131  ]\n",
      " [3.275829   2.596906  ]\n",
      " [2.1411974  1.7673807 ]\n",
      " [5.0502143  5.1638627 ]\n",
      " [0.74705863 0.7739083 ]\n",
      " [0.54505104 0.5574628 ]\n",
      " [2.6239314  2.2394001 ]\n",
      " [1.5861342  1.5160698 ]\n",
      " [3.489462   3.1701612 ]\n",
      " [5.039903   4.907399  ]\n",
      " [3.687254   3.4197557 ]\n",
      " [3.4409657  2.912607  ]\n",
      " [3.3894527  2.8285973 ]\n",
      " [4.395782   4.280127  ]\n",
      " [6.872418   5.989931  ]\n",
      " [1.3570328  1.1972741 ]\n",
      " [2.915612   2.638483  ]\n",
      " [6.0587325  6.542206  ]\n",
      " [3.5755866  3.618031  ]]\n"
     ]
    },
    {
     "data": {
      "image/png": "[encoded data removed]",
      "text/plain": [
       "<Figure size 640x480 with 1 Axes>"
      ]
     },
     "metadata": {},
     "output_type": "display_data"
    }
   ],
   "source": [
    "%run infer.py \\\n",
    "    --datafile_path \"data/pendulum_ctr_designate_N_200_h001_T10.npy\" \\\n",
    "    --trained_model_path \"models:/pendulum/latest\" \\\n",
    "    --state_component 0 \\\n",
    "    --search_len 2 \\\n",
    "    --search_num 200 \\\n",
    "    --batch_size 100 \\\n",
    "    --plot_trajs \"True\" \\\n",
    "    --plot_idxs 0 \\\n",
    "    --device 0 \\\n",
    "    --verbose \"True\""
   ]
  }
 ],
 "metadata": {
  "kernelspec": {
   "display_name": "Python 3",
   "language": "python",
   "name": "python3"
  },
  "language_info": {
   "codemirror_mode": {
    "name": "ipython",
    "version": 3
   },
   "file_extension": ".py",
   "mimetype": "text/x-python",
   "name": "python",
   "nbconvert_exporter": "python",
   "pygments_lexer": "ipython3",
   "version": "3.10.13"
  },
  "orig_nbformat": 4
 },
 "nbformat": 4,
 "nbformat_minor": 2
}
