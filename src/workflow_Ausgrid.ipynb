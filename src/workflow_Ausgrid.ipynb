{
 "cells": [
  {
   "cell_type": "markdown",
   "metadata": {},
   "source": [
    "# Generate Ausgrid data"
   ]
  },
  {
   "cell_type": "markdown",
   "metadata": {},
   "source": [
    "## Print args of database_generator.py"
   ]
  },
  {
   "cell_type": "code",
   "execution_count": 3,
   "metadata": {},
   "outputs": [
    {
     "name": "stdout",
     "output_type": "stream",
     "text": [
      "\n",
      "=====================\n",
      "usage: database_generator.py [-h] [--ode_system {pendulum,lorentz,Ausgrid}]\n",
      "                             [--t_max T_MAX] [--step_size STEP_SIZE]\n",
      "                             [--n_sample N_SAMPLE]\n",
      "                             [--x_init_pts [X_INIT_PTS ...]]\n",
      "                             [--ctr_func {designate,gaussian}]\n",
      "                             [--Ausgrid_customer_id [AUSGRID_CUSTOMER_ID ...]]\n",
      "                             [--Ausgrid_start_date AUSGRID_START_DATE]\n",
      "                             [--Ausgrid_end_date AUSGRID_END_DATE]\n",
      "                             [--Ausgrid_category {GG,CG}]\n",
      "                             [--Ausgrid_delta_t_idxs AUSGRID_DELTA_T_IDXS]\n",
      "                             [--datafile_path DATAFILE_PATH]\n",
      "\n",
      "options:\n",
      "  -h, --help            show this help message and exit\n",
      "  --ode_system {pendulum,lorentz,Ausgrid}\n",
      "                        ODE system to use.\n",
      "  --t_max T_MAX         Maximum time (float) of the trajectory.\n",
      "  --step_size STEP_SIZE\n",
      "                        Step size (float) of the trajectory.\n",
      "  --n_sample N_SAMPLE   Number of the trajectories to generate.\n",
      "  --x_init_pts [X_INIT_PTS ...]\n",
      "                        The range of initial points of the trajectories. Two\n",
      "                        floats define the range of each state component.\n",
      "  --ctr_func {designate,gaussian}\n",
      "                        Control function to use.\n",
      "  --Ausgrid_customer_id [AUSGRID_CUSTOMER_ID ...]\n",
      "                        Customer ID of the Ausgrid dataset.\n",
      "  --Ausgrid_start_date AUSGRID_START_DATE\n",
      "                        Start date of the Ausgrid dataset, e.g., 2010-7-1.\n",
      "  --Ausgrid_end_date AUSGRID_END_DATE\n",
      "                        End date of the Ausgrid dataset, e.g., 2011-6-30.\n",
      "  --Ausgrid_category {GG,CG}\n",
      "                        Category of the Ausgrid dataset.\n",
      "  --Ausgrid_delta_t_idxs AUSGRID_DELTA_T_IDXS\n",
      "                        Time interval of the Ausgrid dataset.\n",
      "  --datafile_path DATAFILE_PATH\n",
      "                        Path to save the data.\n",
      "\n",
      "=====================\n"
     ]
    }
   ],
   "source": [
    "print(\"\\n=====================\")\n",
    "%run database_generator.py --help\n",
    "print(\"\\n=====================\")\n"
   ]
  },
  {
   "cell_type": "markdown",
   "metadata": {},
   "source": [
    "## Generate Ausgrid data with args"
   ]
  },
  {
   "cell_type": "code",
   "execution_count": 2,
   "metadata": {},
   "outputs": [
    {
     "name": "stdout",
     "output_type": "stream",
     "text": [
      "\n",
      "=====================\n",
      "Running database_generator.py with arguments:\n"
     ]
    },
    {
     "name": "stderr",
     "output_type": "stream",
     "text": [
      "/PENDULUM/src/database_generator.py:124: UserWarning: Could not infer format, so each element will be parsed individually, falling back to `dateutil`. To ensure parsing is consistent and as-expected, please specify a format.\n",
      "  data[\"date\"] = pd.to_datetime(data[\"date\"])\n"
     ]
    },
    {
     "name": "stdout",
     "output_type": "stream",
     "text": [
      "Ausgrid data with GG category selected from 2010-07-01 00:00:00 to 2010-08-01 00:00:00 for customer 1 - 4.\n",
      "Shape of the selected data: num_trajs= 118, num_time = 210\n",
      "Data saved in data/Ausgrid_demonstration.npy.\n",
      "\n",
      "=====================\n"
     ]
    }
   ],
   "source": [
    "print(\"\\n=====================\")\n",
    "print(\"Running database_generator.py with arguments:\")\n",
    "%run database_generator.py \\\n",
    "    --ode_system \"Ausgrid\" \\\n",
    "    --Ausgrid_customer_id 1 2 3 4 \\\n",
    "    --Ausgrid_start_date \"2010-07-01\" \\\n",
    "    --Ausgrid_end_date \"2010-08-01\" \\\n",
    "    --Ausgrid_delta_t_idxs 0.1 \\\n",
    "    --datafile_path \"data/Ausgrid_demonstration.npy\"\n",
    "print(\"\\n=====================\")"
   ]
  },
  {
   "cell_type": "markdown",
   "metadata": {},
   "source": [
    "# Train the model"
   ]
  },
  {
   "cell_type": "markdown",
   "metadata": {},
   "source": [
    "## Print the args of train.py"
   ]
  },
  {
   "cell_type": "code",
   "execution_count": 3,
   "metadata": {},
   "outputs": [
    {
     "name": "stderr",
     "output_type": "stream",
     "text": [
      "/usr/local/lib/python3.10/site-packages/tqdm/auto.py:21: TqdmWarning: IProgress not found. Please update jupyter and ipywidgets. See https://ipywidgets.readthedocs.io/en/stable/user_install.html\n",
      "  from .autonotebook import tqdm as notebook_tqdm\n"
     ]
    },
    {
     "name": "stdout",
     "output_type": "stream",
     "text": [
      "usage: train.py [-h] [--datafile_path DATAFILE_PATH]\n",
      "                [--state_component STATE_COMPONENT] [--search_len SEARCH_LEN]\n",
      "                [--search_num SEARCH_NUM] [--search_random SEARCH_RANDOM]\n",
      "                [--t_max T_MAX] [--offset OFFSET] [--verbose VERBOSE]\n",
      "                [--scale_mode SCALE_MODE] [--learning_rate LEARNING_RATE]\n",
      "                [--batch_size BATCH_SIZE] [--epochs EPOCHS]\n",
      "                [--validate_freq VALIDATE_FREQ]\n",
      "                [--use_scheduler USE_SCHEDULER]\n",
      "                [--scheduler_patience SCHEDULER_PATIENCE]\n",
      "                [--scheduler_factor SCHEDULER_FACTOR]\n",
      "                [--loss_function LOSS_FUNCTION]\n",
      "                [--early_stopping_epochs EARLY_STOPPING_EPOCHS]\n",
      "                [--save_model SAVE_MODEL] [--checkpoint_path CHECKPOINT_PATH]\n",
      "                [--monitor_metric {val_loss,train_loss}]\n",
      "                [--use_trained_model USE_TRAINED_MODEL]\n",
      "                [--trained_model_path TRAINED_MODEL_PATH]\n",
      "                [--device {0,1,2,3,4,5,6,7,8,9,10,parallel,cpu}]\n",
      "                [--experiment_name EXPERIMENT_NAME] [--run_name RUN_NAME]\n",
      "                [--plot_trajs PLOT_TRAJS] [--plot_idxs [PLOT_IDXS ...]]\n",
      "                [--figure_path FIGURE_PATH]\n",
      "                [--branch_state_width BRANCH_STATE_WIDTH]\n",
      "                [--branch_state_depth BRANCH_STATE_DEPTH]\n",
      "                [--branch_state_activation BRANCH_STATE_ACTIVATION]\n",
      "                [--branch_memory_width BRANCH_MEMORY_WIDTH]\n",
      "                [--branch_memory_depth BRANCH_MEMORY_DEPTH]\n",
      "                [--branch_memory_lstm_size BRANCH_MEMORY_LSTM_SIZE]\n",
      "                [--branch_memory_lstm_layer_num BRANCH_MEMORY_LSTM_LAYER_NUM]\n",
      "                [--branch_memory_activation BRANCH_MEMORY_ACTIVATION]\n",
      "                [--trunk_width TRUNK_WIDTH] [--trunk_depth TRUNK_DEPTH]\n",
      "                [--trunk_activation TRUNK_ACTIVATION]\n",
      "\n",
      "options:\n",
      "  -h, --help            show this help message and exit\n",
      "  --datafile_path DATAFILE_PATH\n",
      "                        Path to the datafile.\n",
      "  --state_component STATE_COMPONENT\n",
      "                        Index of the state component to train.\n",
      "  --search_len SEARCH_LEN\n",
      "                        Length of the search length (h_max). It is an integer\n",
      "                        of points.\n",
      "  --search_num SEARCH_NUM\n",
      "                        Number of the search points on each trajectory (N_h).\n",
      "                        It is an integer of points.\n",
      "  --search_random SEARCH_RANDOM\n",
      "                        Whether to sample the search points randomly. If\n",
      "                        False, the search points are evenly sampled. Empty\n",
      "                        string means False. Otherwise, the value is True.\n",
      "  --t_max T_MAX         Maximum time (float) of the trajectory.\n",
      "  --offset OFFSET       Offset is the minimum length (integer of points) of\n",
      "                        trajectory memory.\n",
      "  --verbose VERBOSE     Whether to print the training process. Empty string\n",
      "                        means False. Otherwise, the value is True.\n",
      "  --scale_mode SCALE_MODE\n",
      "                        Whether to scale the data. If None, no scaling is\n",
      "                        applied. If 'standard', the data is scaled to have\n",
      "                        zero mean and unit variance. If 'minmax', the data is\n",
      "                        scaled to be in the range of [0, 1].\n",
      "  --learning_rate LEARNING_RATE\n",
      "                        Learning rate of the optimizer.\n",
      "  --batch_size BATCH_SIZE\n",
      "                        Batch size of the training process.\n",
      "  --epochs EPOCHS       Number of epochs to train.\n",
      "  --validate_freq VALIDATE_FREQ\n",
      "                        Frequency of validation.\n",
      "  --use_scheduler USE_SCHEDULER\n",
      "                        Whether to use the scheduler. Empty string means\n",
      "                        False. Otherwise, the value is True.\n",
      "  --scheduler_patience SCHEDULER_PATIENCE\n",
      "                        Patience of the scheduler.\n",
      "  --scheduler_factor SCHEDULER_FACTOR\n",
      "                        Factor of the scheduler.\n",
      "  --loss_function LOSS_FUNCTION\n",
      "                        Loss function to use.\n",
      "  --early_stopping_epochs EARLY_STOPPING_EPOCHS\n",
      "                        Number of epochs to early stop.\n",
      "  --save_model SAVE_MODEL\n",
      "                        Whether to save the model. Empty string means False.\n",
      "                        Otherwise, the value is True.\n",
      "  --checkpoint_path CHECKPOINT_PATH\n",
      "                        Path to save the checkpoints.\n",
      "  --monitor_metric {val_loss,train_loss}\n",
      "                        Metric to monitor.\n",
      "  --use_trained_model USE_TRAINED_MODEL\n",
      "                        Whether to use previously trained model. Empty string\n",
      "                        means False. Otherwise, the value is True.\n",
      "  --trained_model_path TRAINED_MODEL_PATH\n",
      "                        Path to the previously trained model.\n",
      "  --device {0,1,2,3,4,5,6,7,8,9,10,parallel,cpu}\n",
      "                        Device to use. Enter an integer to use a specific GPU\n",
      "                        ID. Enter 'parallel' to use all available GPUs. Enter\n",
      "                        'cpu' to use CPU.\n",
      "  --experiment_name EXPERIMENT_NAME\n",
      "                        Name of the experiment.\n",
      "  --run_name RUN_NAME   Name of the run for display.\n",
      "  --plot_trajs PLOT_TRAJS\n",
      "                        Whether to plot the test trajectories. Empty string\n",
      "                        means False. Otherwise, the value is True.\n",
      "  --plot_idxs [PLOT_IDXS ...]\n",
      "                        Indices of the test trajectories to plot.\n",
      "  --figure_path FIGURE_PATH\n",
      "                        Path to save the figures.\n",
      "  --branch_state_width BRANCH_STATE_WIDTH\n",
      "                        Width of the state branch.\n",
      "  --branch_state_depth BRANCH_STATE_DEPTH\n",
      "                        Depth of the state branch.\n",
      "  --branch_state_activation BRANCH_STATE_ACTIVATION\n",
      "                        Activation function of the state branch.\n",
      "  --branch_memory_width BRANCH_MEMORY_WIDTH\n",
      "                        Width of the memory branch.\n",
      "  --branch_memory_depth BRANCH_MEMORY_DEPTH\n",
      "                        Depth of the memory branch.\n",
      "  --branch_memory_lstm_size BRANCH_MEMORY_LSTM_SIZE\n",
      "                        Size of the LSTM in the memory branch.\n",
      "  --branch_memory_lstm_layer_num BRANCH_MEMORY_LSTM_LAYER_NUM\n",
      "                        Number of the LSTM layers in the memory branch.\n",
      "  --branch_memory_activation BRANCH_MEMORY_ACTIVATION\n",
      "                        Activation function of the memory branch.\n",
      "  --trunk_width TRUNK_WIDTH\n",
      "                        Width of the trunk.\n",
      "  --trunk_depth TRUNK_DEPTH\n",
      "                        Depth of the trunk.\n",
      "  --trunk_activation TRUNK_ACTIVATION\n",
      "                        Activation function of the trunk.\n"
     ]
    }
   ],
   "source": [
    "%run train.py --help"
   ]
  },
  {
   "cell_type": "markdown",
   "metadata": {},
   "source": [
    "## Train the model with args"
   ]
  },
  {
   "cell_type": "markdown",
   "metadata": {},
   "source": [
    "About mlflow: the model is tracked and stored using mlflow. It helps store the training args, training metrics (such as loss), trained models, codes, etc.\n",
    "\n",
    "It has been installed in this devcontainer. To use its ui inferface:\n",
    "\n",
    "`cd /LSTM-MIONet/src`\n",
    "\n",
    "`mlflow ui`\n",
    "\n",
    "Then visit `127.0.0.1:5000`"
   ]
  },
  {
   "cell_type": "markdown",
   "metadata": {},
   "source": [
    "Please do **NOT** run the train.py in **Jupyter notebook** if **you are doing large scale training** (not including the demonstration training shown below) as it will occupy significant memory and the memory will not be released unless you restart the Jupyter kernal.\n",
    "\n",
    "The code below is just **for demonstration** how the train.py should be used. The trained results have large errors because I just train 10 epochs here.\n"
   ]
  },
  {
   "cell_type": "code",
   "execution_count": 4,
   "metadata": {},
   "outputs": [
    {
     "name": "stdout",
     "output_type": "stream",
     "text": [
      "Using all available 2 GPUs in parallel.\n",
      "Shapes for LSTM-MIONet training input=(1060, 210, 1), x_n=(1060, 1), x_next=(1060, 1)\n",
      "Shapes for LSTM-MIONet training input=(120, 210, 1), x_n=(120, 1), x_next=(120, 1)\n",
      "Data memory size: 0 MB\n",
      "Data memory size: 0 MB\n",
      "LSTM_MIONet(\n",
      "  (branch_1): MLP(\n",
      "    (net): ModuleList(\n",
      "      (0): Linear(in_features=1, out_features=200, bias=True)\n",
      "      (1): Linear(in_features=200, out_features=200, bias=True)\n",
      "      (2): ReLU()\n",
      "      (3): LayerNorm((200,), eps=1e-05, elementwise_affine=True)\n",
      "      (4): Linear(in_features=200, out_features=200, bias=True)\n",
      "    )\n",
      "  )\n",
      "  (branch_2): LSTM_MLP(\n",
      "    (net_1): ModuleList(\n",
      "      (0): Linear(in_features=1, out_features=200, bias=True)\n",
      "      (1): Linear(in_features=200, out_features=200, bias=True)\n",
      "      (2): ReLU()\n",
      "      (3): LayerNorm((200,), eps=1e-05, elementwise_affine=True)\n",
      "      (4): Linear(in_features=200, out_features=200, bias=True)\n",
      "    )\n",
      "    (lstm): LSTM(200, 100, num_layers=2, batch_first=True)\n",
      "    (net_2): ModuleList(\n",
      "      (0): Linear(in_features=100, out_features=200, bias=True)\n",
      "      (1): Linear(in_features=200, out_features=200, bias=True)\n",
      "      (2): ReLU()\n",
      "      (3): Linear(in_features=200, out_features=200, bias=True)\n",
      "    )\n",
      "  )\n",
      "  (trunk): MLP(\n",
      "    (net): ModuleList(\n",
      "      (0): Linear(in_features=1, out_features=200, bias=True)\n",
      "      (1): Linear(in_features=200, out_features=200, bias=True)\n",
      "      (2): ReLU()\n",
      "      (3): LayerNorm((200,), eps=1e-05, elementwise_affine=True)\n",
      "      (4): Linear(in_features=200, out_features=200, bias=True)\n",
      "    )\n",
      "  )\n",
      ")\n",
      "\n",
      "***** Training with Adam Optimizer for 10 epochs and using 1060 data samples*****\n",
      "\n"
     ]
    },
    {
     "name": "stderr",
     "output_type": "stream",
     "text": [
      " 10%|█         | 1/10 [00:04<00:40,  4.47s/it, Train=7.34, Val=19.4, Best_train=7.34, Best_Val=19.4]/usr/local/lib/python3.10/site-packages/_distutils_hack/__init__.py:18: UserWarning: Distutils was imported before Setuptools, but importing Setuptools also replaces the `distutils` module in `sys.modules`. This may lead to undesirable behaviors or errors. To avoid these issues, avoid using distutils directly, ensure that setuptools is installed in the traditional way (e.g. not an editable install), and/or make sure that setuptools is always imported before distutils.\n",
      "  warnings.warn(\n",
      "/usr/local/lib/python3.10/site-packages/_distutils_hack/__init__.py:33: UserWarning: Setuptools is replacing distutils.\n",
      "  warnings.warn(\"Setuptools is replacing distutils.\")\n",
      "100%|██████████| 10/10 [00:28<00:00,  2.85s/it, Train=0.0194, Val=0.0103, Best_train=0.0194, Best_Val=0.0103]"
     ]
    },
    {
     "name": "stdout",
     "output_type": "stream",
     "text": [
      "\n",
      "***** Testing with 120 data samples*****\n",
      "\n",
      "\n",
      "=============================\n",
      "     L1-relative Error %      \n",
      "=============================\n",
      "     mean     st. dev.  \n",
      "-----------------------------\n",
      "   34.2903   11.8743\n",
      "-----------------------------\n",
      "\n",
      "=============================\n",
      "     L2-relative Error %      \n",
      "=============================\n",
      "     mean     st. dev.  \n",
      "-----------------------------\n",
      "   34.6707   11.8425\n",
      "-----------------------------\n",
      "\n",
      "=============================\n",
      "[L1-relative Error list, L2-relative Error list ] %     \n",
      "=============================\n",
      "[[34.798317 38.133263]\n",
      " [42.120777 45.23539 ]\n",
      " [51.391117 43.31824 ]\n",
      " [37.47972  38.30248 ]\n",
      " [37.888058 35.23643 ]\n",
      " [13.015373 13.980868]\n",
      " [48.010338 52.20943 ]\n",
      " [27.552643 25.655455]\n",
      " [29.452852 31.203253]\n",
      " [10.844345 11.063092]\n",
      " [40.44553  42.88851 ]\n",
      " [38.48512  38.821827]]\n"
     ]
    },
    {
     "name": "stderr",
     "output_type": "stream",
     "text": [
      "\n"
     ]
    }
   ],
   "source": [
    "%run train.py \\\n",
    "    --datafile_path \"data/Ausgrid_demonstration.npy\" \\\n",
    "    --state_component 0 \\\n",
    "    --search_len 10 \\\n",
    "    --search_num 10 \\\n",
    "    --learning_rate 1e-3 \\\n",
    "    --use_scheduler True \\\n",
    "    --batch_size 200 \\\n",
    "    --epochs 10 \\\n",
    "    --early_stopping_epochs 80 \\\n",
    "    --run_name \"Ausgrid_demonstration\" \\\n",
    "    --plot_trajs \"\" \\\n",
    "    --device \"parallel\" "
   ]
  },
  {
   "cell_type": "markdown",
   "metadata": {},
   "source": [
    "## Infer the model with args"
   ]
  },
  {
   "cell_type": "markdown",
   "metadata": {},
   "source": [
    "Note: \n",
    "\n",
    "1) The trained model has been diligently trained\n",
    "\n",
    "2) The trained model doesn't require the instantialization of the model class. Instead, the model class along with state_dict are both stored in the mlflow location."
   ]
  },
  {
   "cell_type": "markdown",
   "metadata": {},
   "source": [
    "### Infer data set of Customer 51-60"
   ]
  },
  {
   "cell_type": "code",
   "execution_count": 1,
   "metadata": {},
   "outputs": [
    {
     "name": "stderr",
     "output_type": "stream",
     "text": [
      "/usr/local/lib/python3.10/site-packages/tqdm/auto.py:21: TqdmWarning: IProgress not found. Please update jupyter and ipywidgets. See https://ipywidgets.readthedocs.io/en/stable/user_install.html\n",
      "  from .autonotebook import tqdm as notebook_tqdm\n"
     ]
    },
    {
     "name": "stdout",
     "output_type": "stream",
     "text": [
      "Using GPU ID 1.\n",
      "Shapes for LSTM-MIONet training input=(761200, 210, 1), x_n=(761200, 1), x_next=(761200, 1)\n",
      "Data memory size: 624 MB\n",
      "models:/Ausgrid/latest\n",
      "LSTM_MIONet(\n",
      "  (branch_1): MLP(\n",
      "    (net): ModuleList(\n",
      "      (0): Linear(in_features=1, out_features=200, bias=True)\n",
      "      (1): Linear(in_features=200, out_features=200, bias=True)\n",
      "      (2): ReLU()\n",
      "      (3): LayerNorm((200,), eps=1e-05, elementwise_affine=True)\n",
      "      (4): Linear(in_features=200, out_features=200, bias=True)\n",
      "    )\n",
      "  )\n",
      "  (branch_2): LSTM_MLP(\n",
      "    (net_1): ModuleList(\n",
      "      (0): Linear(in_features=1, out_features=200, bias=True)\n",
      "      (1): Linear(in_features=200, out_features=200, bias=True)\n",
      "      (2): ReLU()\n",
      "      (3): LayerNorm((200,), eps=1e-05, elementwise_affine=True)\n",
      "      (4): Linear(in_features=200, out_features=200, bias=True)\n",
      "    )\n",
      "    (lstm): LSTM(200, 100, num_layers=2, batch_first=True)\n",
      "    (net_2): ModuleList(\n",
      "      (0): Linear(in_features=100, out_features=200, bias=True)\n",
      "      (1): Linear(in_features=200, out_features=200, bias=True)\n",
      "      (2): ReLU()\n",
      "      (3): Linear(in_features=200, out_features=200, bias=True)\n",
      "    )\n",
      "  )\n",
      "  (trunk): MLP(\n",
      "    (net): ModuleList(\n",
      "      (0): Linear(in_features=1, out_features=200, bias=True)\n",
      "      (1): Linear(in_features=200, out_features=200, bias=True)\n",
      "      (2): ReLU()\n",
      "      (3): LayerNorm((200,), eps=1e-05, elementwise_affine=True)\n",
      "      (4): Linear(in_features=200, out_features=200, bias=True)\n",
      "    )\n",
      "  )\n",
      ")\n",
      "\n",
      "***** Testing with 761200 data samples*****\n",
      "\n",
      "\n",
      "=============================\n",
      "     L1-relative Error %      \n",
      "=============================\n",
      "     mean     st. dev.  \n",
      "-----------------------------\n",
      "    0.8999    0.4701\n",
      "-----------------------------\n",
      "\n",
      "=============================\n",
      "     L2-relative Error %      \n",
      "=============================\n",
      "     mean     st. dev.  \n",
      "-----------------------------\n",
      "    1.2261    0.6734\n",
      "-----------------------------\n",
      "\n",
      "=============================\n",
      "[L1-relative Error list, L2-relative Error list ] %     \n",
      "=============================\n",
      "[[0.73644835 0.7947697 ]\n",
      " [1.2318664  1.4486018 ]\n",
      " [0.5394355  0.6581525 ]\n",
      " ...\n",
      " [2.502914   3.1036766 ]\n",
      " [1.0013577  1.3120857 ]\n",
      " [1.0603199  1.5788519 ]]\n"
     ]
    },
    {
     "data": {
      "image/png": "[encoded data removed]",
      "text/plain": [
       "<Figure size 640x480 with 1 Axes>"
      ]
     },
     "metadata": {},
     "output_type": "display_data"
    }
   ],
   "source": [
    "%run infer.py \\\n",
    "    --datafile_path \"data/Ausgrid_cust_51-60.npy\" \\\n",
    "    --trained_model_path \"models:/Ausgrid/latest\" \\\n",
    "    --state_component 0 \\\n",
    "    --search_len 10 \\\n",
    "    --search_num 200 \\\n",
    "    --batch_size 100 \\\n",
    "    --plot_trajs \"True\" \\\n",
    "    --plot_idxs 0 \\\n",
    "    --device 1 \\\n",
    "    --verbose \"True\""
   ]
  },
  {
   "cell_type": "markdown",
   "metadata": {},
   "source": [
    "## Infer data set of Customer 61-70"
   ]
  },
  {
   "cell_type": "code",
   "execution_count": 1,
   "metadata": {},
   "outputs": [
    {
     "name": "stderr",
     "output_type": "stream",
     "text": [
      "/usr/local/lib/python3.10/site-packages/tqdm/auto.py:21: TqdmWarning: IProgress not found. Please update jupyter and ipywidgets. See https://ipywidgets.readthedocs.io/en/stable/user_install.html\n",
      "  from .autonotebook import tqdm as notebook_tqdm\n"
     ]
    },
    {
     "name": "stdout",
     "output_type": "stream",
     "text": [
      "Using GPU ID 1.\n",
      "Shapes for LSTM-MIONet training input=(770200, 210, 1), x_n=(770200, 1), x_next=(770200, 1)\n",
      "Data memory size: 631 MB\n",
      "models:/Ausgrid/latest\n",
      "LSTM_MIONet(\n",
      "  (branch_1): MLP(\n",
      "    (net): ModuleList(\n",
      "      (0): Linear(in_features=1, out_features=200, bias=True)\n",
      "      (1): Linear(in_features=200, out_features=200, bias=True)\n",
      "      (2): ReLU()\n",
      "      (3): LayerNorm((200,), eps=1e-05, elementwise_affine=True)\n",
      "      (4): Linear(in_features=200, out_features=200, bias=True)\n",
      "    )\n",
      "  )\n",
      "  (branch_2): LSTM_MLP(\n",
      "    (net_1): ModuleList(\n",
      "      (0): Linear(in_features=1, out_features=200, bias=True)\n",
      "      (1): Linear(in_features=200, out_features=200, bias=True)\n",
      "      (2): ReLU()\n",
      "      (3): LayerNorm((200,), eps=1e-05, elementwise_affine=True)\n",
      "      (4): Linear(in_features=200, out_features=200, bias=True)\n",
      "    )\n",
      "    (lstm): LSTM(200, 100, num_layers=2, batch_first=True)\n",
      "    (net_2): ModuleList(\n",
      "      (0): Linear(in_features=100, out_features=200, bias=True)\n",
      "      (1): Linear(in_features=200, out_features=200, bias=True)\n",
      "      (2): ReLU()\n",
      "      (3): Linear(in_features=200, out_features=200, bias=True)\n",
      "    )\n",
      "  )\n",
      "  (trunk): MLP(\n",
      "    (net): ModuleList(\n",
      "      (0): Linear(in_features=1, out_features=200, bias=True)\n",
      "      (1): Linear(in_features=200, out_features=200, bias=True)\n",
      "      (2): ReLU()\n",
      "      (3): LayerNorm((200,), eps=1e-05, elementwise_affine=True)\n",
      "      (4): Linear(in_features=200, out_features=200, bias=True)\n",
      "    )\n",
      "  )\n",
      ")\n",
      "\n",
      "***** Testing with 770200 data samples*****\n",
      "\n",
      "\n",
      "=============================\n",
      "     L1-relative Error %      \n",
      "=============================\n",
      "     mean     st. dev.  \n",
      "-----------------------------\n",
      "    0.9644    0.5099\n",
      "-----------------------------\n",
      "\n",
      "=============================\n",
      "     L2-relative Error %      \n",
      "=============================\n",
      "     mean     st. dev.  \n",
      "-----------------------------\n",
      "    1.3270    0.7337\n",
      "-----------------------------\n",
      "\n",
      "=============================\n",
      "[L1-relative Error list, L2-relative Error list ] %     \n",
      "=============================\n",
      "[[0.661049  0.7477662]\n",
      " [1.4334844 1.7189186]\n",
      " [0.6408154 0.7357237]\n",
      " ...\n",
      " [1.4445964 2.7900972]\n",
      " [1.0784162 1.4290096]\n",
      " [0.6866003 1.1726975]]\n"
     ]
    },
    {
     "data": {
      "image/png": "[encoded data removed]",
      "text/plain": [
       "<Figure size 640x480 with 1 Axes>"
      ]
     },
     "metadata": {},
     "output_type": "display_data"
    }
   ],
   "source": [
    "%run infer.py \\\n",
    "    --datafile_path \"data/Ausgrid_cust_61-70.npy\" \\\n",
    "    --trained_model_path \"models:/Ausgrid/latest\" \\\n",
    "    --state_component 0 \\\n",
    "    --search_len 10 \\\n",
    "    --search_num 200 \\\n",
    "    --batch_size 100 \\\n",
    "    --plot_trajs \"True\" \\\n",
    "    --plot_idxs 0 \\\n",
    "    --device 1 \\\n",
    "    --verbose \"True\""
   ]
  }
 ],
 "metadata": {
  "kernelspec": {
   "display_name": "Python 3",
   "language": "python",
   "name": "python3"
  },
  "language_info": {
   "codemirror_mode": {
    "name": "ipython",
    "version": 3
   },
   "file_extension": ".py",
   "mimetype": "text/x-python",
   "name": "python",
   "nbconvert_exporter": "python",
   "pygments_lexer": "ipython3",
   "version": "3.10.13"
  },
  "orig_nbformat": 4
 },
 "nbformat": 4,
 "nbformat_minor": 2
}
