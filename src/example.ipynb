{
 "cells": [
  {
   "cell_type": "markdown",
   "metadata": {},
   "source": [
    "# Import Libraries"
   ]
  },
  {
   "cell_type": "code",
   "execution_count": 1,
   "metadata": {},
   "outputs": [
    {
     "name": "stdout",
     "output_type": "stream",
     "text": [
      "\n",
      "=====================\n",
      "Default dataset parameters:\n",
      "ode_system = pendulum\n",
      "t_max = 20\n",
      "step_size = 0.01\n",
      "n_sample = 10\n",
      "x_init_pts = [[-3.14159265  3.14159265]\n",
      " [-8.          8.        ]]\n",
      "ctr_func = gaussian\n",
      "datafile_path = data/pendulum_ctr_gaussian_N_10_T20.npy\n",
      "\n",
      "=====================\n",
      "\n",
      "=====================\n",
      "Running database_generator.py with arguments:\n"
     ]
    },
    {
     "name": "stderr",
     "output_type": "stream",
     "text": [
      "Generating 5000 data ...:   2%|▏         | 78/5000 [00:15<15:34,  5.27it/s]/PENDULUM/src/config/data_config.py:35: RuntimeWarning: invalid value encountered in subtract\n",
      "  u - b * omega - 0.5 * m * l * g * np.sin(theta)\n",
      "/PENDULUM/src/config/data_config.py:35: RuntimeWarning: invalid value encountered in sin\n",
      "  u - b * omega - 0.5 * m * l * g * np.sin(theta)\n",
      "Generating 5000 data ...:  56%|█████▌    | 2803/5000 [10:17<08:13,  4.46it/s]/PENDULUM/src/config/data_config.py:34: RuntimeWarning: overflow encountered in scalar multiply\n",
      "  f_omega = (1 / (0.25 * m * (l**2) + I)) * (\n",
      "/PENDULUM/src/utils/math_utils.py:118: RuntimeWarning: invalid value encountered in add\n",
      "  next_x = x + (k1 + 2 * k2 + 2 * k3 + k4) * h / 6\n",
      "Generating 5000 data ...: 100%|██████████| 5000/5000 [19:28<00:00,  4.28it/s]"
     ]
    },
    {
     "name": "stdout",
     "output_type": "stream",
     "text": [
      "Data saved in data/pendulum_ctr_grf_N_5000_T20.npy .\n"
     ]
    },
    {
     "name": "stderr",
     "output_type": "stream",
     "text": [
      "\n"
     ]
    }
   ],
   "source": [
    "import numpy as np\n",
    "import matplotlib.pyplot as plt\n",
    "from argparse import ArgumentParser\n",
    "import os, sys\n",
    "from importlib import reload\n",
    "from config import data_config\n",
    "from utils.arg_parser import add_data_args\n",
    "\n",
    "# Reload arg_parser because Jupyter notebook does not reload it automatically\n",
    "reload(data_config)\n",
    "\n",
    "# Add arguments to parser\n",
    "parser = ArgumentParser()\n",
    "parser = add_data_args(parser)\n",
    "\n",
    "# Print default dataset parameters\n",
    "args = parser.parse_args([])\n",
    "print(\"\\n=====================\")\n",
    "print(\"Default dataset parameters:\")\n",
    "for arg in vars(args):\n",
    "    print(arg, '=', getattr(args, arg))\n",
    "print(\"\\n=====================\")\n",
    "\n",
    "# Run database_generator.py with arguments\n",
    "print(\"\\n=====================\")\n",
    "print(\"Running database_generator.py with arguments:\")\n",
    "%run database_generator.py --n_sample 5000 --ctr_func \"gaussian\" --datafile_path \"data/pendulum_ctr_grf_N_5000_T20.npy\"\n"
   ]
  }
 ],
 "metadata": {
  "kernelspec": {
   "display_name": ".venv",
   "language": "python",
   "name": "python3"
  },
  "language_info": {
   "codemirror_mode": {
    "name": "ipython",
    "version": 3
   },
   "file_extension": ".py",
   "mimetype": "text/x-python",
   "name": "python",
   "nbconvert_exporter": "python",
   "pygments_lexer": "ipython3",
   "version": "3.10.13"
  },
  "orig_nbformat": 4
 },
 "nbformat": 4,
 "nbformat_minor": 2
}
